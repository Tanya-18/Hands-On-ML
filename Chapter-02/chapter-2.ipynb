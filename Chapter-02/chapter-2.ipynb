{
 "cells": [
  {
   "cell_type": "code",
   "execution_count": 1,
   "metadata": {},
   "outputs": [],
   "source": [
    "import pandas as pd\n",
    "import numpy as np\n",
    "import seaborn as sns\n",
    "%matplotlib inline\n",
    "import matplotlib.pyplot as plt\n",
    "from sklearn.model_selection import train_test_split\n",
    "from sklearn.model_selection import StratifiedShuffleSplit"
   ]
  },
  {
   "cell_type": "code",
   "execution_count": 2,
   "metadata": {},
   "outputs": [],
   "source": [
    "housing = pd.read_csv('datasets/housing.csv')"
   ]
  },
  {
   "cell_type": "code",
   "execution_count": 3,
   "metadata": {},
   "outputs": [
    {
     "data": {
      "text/html": [
       "<div>\n",
       "<style scoped>\n",
       "    .dataframe tbody tr th:only-of-type {\n",
       "        vertical-align: middle;\n",
       "    }\n",
       "\n",
       "    .dataframe tbody tr th {\n",
       "        vertical-align: top;\n",
       "    }\n",
       "\n",
       "    .dataframe thead th {\n",
       "        text-align: right;\n",
       "    }\n",
       "</style>\n",
       "<table border=\"1\" class=\"dataframe\">\n",
       "  <thead>\n",
       "    <tr style=\"text-align: right;\">\n",
       "      <th></th>\n",
       "      <th>longitude</th>\n",
       "      <th>latitude</th>\n",
       "      <th>housing_median_age</th>\n",
       "      <th>total_rooms</th>\n",
       "      <th>total_bedrooms</th>\n",
       "      <th>population</th>\n",
       "      <th>households</th>\n",
       "      <th>median_income</th>\n",
       "      <th>median_house_value</th>\n",
       "      <th>ocean_proximity</th>\n",
       "    </tr>\n",
       "  </thead>\n",
       "  <tbody>\n",
       "    <tr>\n",
       "      <th>0</th>\n",
       "      <td>-122.23</td>\n",
       "      <td>37.88</td>\n",
       "      <td>41.0</td>\n",
       "      <td>880.0</td>\n",
       "      <td>129.0</td>\n",
       "      <td>322.0</td>\n",
       "      <td>126.0</td>\n",
       "      <td>8.3252</td>\n",
       "      <td>452600.0</td>\n",
       "      <td>NEAR BAY</td>\n",
       "    </tr>\n",
       "    <tr>\n",
       "      <th>1</th>\n",
       "      <td>-122.22</td>\n",
       "      <td>37.86</td>\n",
       "      <td>21.0</td>\n",
       "      <td>7099.0</td>\n",
       "      <td>1106.0</td>\n",
       "      <td>2401.0</td>\n",
       "      <td>1138.0</td>\n",
       "      <td>8.3014</td>\n",
       "      <td>358500.0</td>\n",
       "      <td>NEAR BAY</td>\n",
       "    </tr>\n",
       "    <tr>\n",
       "      <th>2</th>\n",
       "      <td>-122.24</td>\n",
       "      <td>37.85</td>\n",
       "      <td>52.0</td>\n",
       "      <td>1467.0</td>\n",
       "      <td>190.0</td>\n",
       "      <td>496.0</td>\n",
       "      <td>177.0</td>\n",
       "      <td>7.2574</td>\n",
       "      <td>352100.0</td>\n",
       "      <td>NEAR BAY</td>\n",
       "    </tr>\n",
       "    <tr>\n",
       "      <th>3</th>\n",
       "      <td>-122.25</td>\n",
       "      <td>37.85</td>\n",
       "      <td>52.0</td>\n",
       "      <td>1274.0</td>\n",
       "      <td>235.0</td>\n",
       "      <td>558.0</td>\n",
       "      <td>219.0</td>\n",
       "      <td>5.6431</td>\n",
       "      <td>341300.0</td>\n",
       "      <td>NEAR BAY</td>\n",
       "    </tr>\n",
       "    <tr>\n",
       "      <th>4</th>\n",
       "      <td>-122.25</td>\n",
       "      <td>37.85</td>\n",
       "      <td>52.0</td>\n",
       "      <td>1627.0</td>\n",
       "      <td>280.0</td>\n",
       "      <td>565.0</td>\n",
       "      <td>259.0</td>\n",
       "      <td>3.8462</td>\n",
       "      <td>342200.0</td>\n",
       "      <td>NEAR BAY</td>\n",
       "    </tr>\n",
       "  </tbody>\n",
       "</table>\n",
       "</div>"
      ],
      "text/plain": [
       "   longitude  latitude  housing_median_age  total_rooms  total_bedrooms  \\\n",
       "0    -122.23     37.88                41.0        880.0           129.0   \n",
       "1    -122.22     37.86                21.0       7099.0          1106.0   \n",
       "2    -122.24     37.85                52.0       1467.0           190.0   \n",
       "3    -122.25     37.85                52.0       1274.0           235.0   \n",
       "4    -122.25     37.85                52.0       1627.0           280.0   \n",
       "\n",
       "   population  households  median_income  median_house_value ocean_proximity  \n",
       "0       322.0       126.0         8.3252            452600.0        NEAR BAY  \n",
       "1      2401.0      1138.0         8.3014            358500.0        NEAR BAY  \n",
       "2       496.0       177.0         7.2574            352100.0        NEAR BAY  \n",
       "3       558.0       219.0         5.6431            341300.0        NEAR BAY  \n",
       "4       565.0       259.0         3.8462            342200.0        NEAR BAY  "
      ]
     },
     "execution_count": 3,
     "metadata": {},
     "output_type": "execute_result"
    }
   ],
   "source": [
    "housing.head()"
   ]
  },
  {
   "cell_type": "code",
   "execution_count": 4,
   "metadata": {},
   "outputs": [
    {
     "name": "stdout",
     "output_type": "stream",
     "text": [
      "<class 'pandas.core.frame.DataFrame'>\n",
      "RangeIndex: 20640 entries, 0 to 20639\n",
      "Data columns (total 10 columns):\n",
      " #   Column              Non-Null Count  Dtype  \n",
      "---  ------              --------------  -----  \n",
      " 0   longitude           20640 non-null  float64\n",
      " 1   latitude            20640 non-null  float64\n",
      " 2   housing_median_age  20640 non-null  float64\n",
      " 3   total_rooms         20640 non-null  float64\n",
      " 4   total_bedrooms      20433 non-null  float64\n",
      " 5   population          20640 non-null  float64\n",
      " 6   households          20640 non-null  float64\n",
      " 7   median_income       20640 non-null  float64\n",
      " 8   median_house_value  20640 non-null  float64\n",
      " 9   ocean_proximity     20640 non-null  object \n",
      "dtypes: float64(9), object(1)\n",
      "memory usage: 1.6+ MB\n"
     ]
    }
   ],
   "source": [
    "housing.info()"
   ]
  },
  {
   "cell_type": "code",
   "execution_count": 5,
   "metadata": {},
   "outputs": [
    {
     "data": {
      "text/html": [
       "<div>\n",
       "<style scoped>\n",
       "    .dataframe tbody tr th:only-of-type {\n",
       "        vertical-align: middle;\n",
       "    }\n",
       "\n",
       "    .dataframe tbody tr th {\n",
       "        vertical-align: top;\n",
       "    }\n",
       "\n",
       "    .dataframe thead th {\n",
       "        text-align: right;\n",
       "    }\n",
       "</style>\n",
       "<table border=\"1\" class=\"dataframe\">\n",
       "  <thead>\n",
       "    <tr style=\"text-align: right;\">\n",
       "      <th></th>\n",
       "      <th>longitude</th>\n",
       "      <th>latitude</th>\n",
       "      <th>housing_median_age</th>\n",
       "      <th>total_rooms</th>\n",
       "      <th>total_bedrooms</th>\n",
       "      <th>population</th>\n",
       "      <th>households</th>\n",
       "      <th>median_income</th>\n",
       "      <th>median_house_value</th>\n",
       "    </tr>\n",
       "  </thead>\n",
       "  <tbody>\n",
       "    <tr>\n",
       "      <th>count</th>\n",
       "      <td>20640.000000</td>\n",
       "      <td>20640.000000</td>\n",
       "      <td>20640.000000</td>\n",
       "      <td>20640.000000</td>\n",
       "      <td>20433.000000</td>\n",
       "      <td>20640.000000</td>\n",
       "      <td>20640.000000</td>\n",
       "      <td>20640.000000</td>\n",
       "      <td>20640.000000</td>\n",
       "    </tr>\n",
       "    <tr>\n",
       "      <th>mean</th>\n",
       "      <td>-119.569704</td>\n",
       "      <td>35.631861</td>\n",
       "      <td>28.639486</td>\n",
       "      <td>2635.763081</td>\n",
       "      <td>537.870553</td>\n",
       "      <td>1425.476744</td>\n",
       "      <td>499.539680</td>\n",
       "      <td>3.870671</td>\n",
       "      <td>206855.816909</td>\n",
       "    </tr>\n",
       "    <tr>\n",
       "      <th>std</th>\n",
       "      <td>2.003532</td>\n",
       "      <td>2.135952</td>\n",
       "      <td>12.585558</td>\n",
       "      <td>2181.615252</td>\n",
       "      <td>421.385070</td>\n",
       "      <td>1132.462122</td>\n",
       "      <td>382.329753</td>\n",
       "      <td>1.899822</td>\n",
       "      <td>115395.615874</td>\n",
       "    </tr>\n",
       "    <tr>\n",
       "      <th>min</th>\n",
       "      <td>-124.350000</td>\n",
       "      <td>32.540000</td>\n",
       "      <td>1.000000</td>\n",
       "      <td>2.000000</td>\n",
       "      <td>1.000000</td>\n",
       "      <td>3.000000</td>\n",
       "      <td>1.000000</td>\n",
       "      <td>0.499900</td>\n",
       "      <td>14999.000000</td>\n",
       "    </tr>\n",
       "    <tr>\n",
       "      <th>25%</th>\n",
       "      <td>-121.800000</td>\n",
       "      <td>33.930000</td>\n",
       "      <td>18.000000</td>\n",
       "      <td>1447.750000</td>\n",
       "      <td>296.000000</td>\n",
       "      <td>787.000000</td>\n",
       "      <td>280.000000</td>\n",
       "      <td>2.563400</td>\n",
       "      <td>119600.000000</td>\n",
       "    </tr>\n",
       "    <tr>\n",
       "      <th>50%</th>\n",
       "      <td>-118.490000</td>\n",
       "      <td>34.260000</td>\n",
       "      <td>29.000000</td>\n",
       "      <td>2127.000000</td>\n",
       "      <td>435.000000</td>\n",
       "      <td>1166.000000</td>\n",
       "      <td>409.000000</td>\n",
       "      <td>3.534800</td>\n",
       "      <td>179700.000000</td>\n",
       "    </tr>\n",
       "    <tr>\n",
       "      <th>75%</th>\n",
       "      <td>-118.010000</td>\n",
       "      <td>37.710000</td>\n",
       "      <td>37.000000</td>\n",
       "      <td>3148.000000</td>\n",
       "      <td>647.000000</td>\n",
       "      <td>1725.000000</td>\n",
       "      <td>605.000000</td>\n",
       "      <td>4.743250</td>\n",
       "      <td>264725.000000</td>\n",
       "    </tr>\n",
       "    <tr>\n",
       "      <th>max</th>\n",
       "      <td>-114.310000</td>\n",
       "      <td>41.950000</td>\n",
       "      <td>52.000000</td>\n",
       "      <td>39320.000000</td>\n",
       "      <td>6445.000000</td>\n",
       "      <td>35682.000000</td>\n",
       "      <td>6082.000000</td>\n",
       "      <td>15.000100</td>\n",
       "      <td>500001.000000</td>\n",
       "    </tr>\n",
       "  </tbody>\n",
       "</table>\n",
       "</div>"
      ],
      "text/plain": [
       "          longitude      latitude  housing_median_age   total_rooms  \\\n",
       "count  20640.000000  20640.000000        20640.000000  20640.000000   \n",
       "mean    -119.569704     35.631861           28.639486   2635.763081   \n",
       "std        2.003532      2.135952           12.585558   2181.615252   \n",
       "min     -124.350000     32.540000            1.000000      2.000000   \n",
       "25%     -121.800000     33.930000           18.000000   1447.750000   \n",
       "50%     -118.490000     34.260000           29.000000   2127.000000   \n",
       "75%     -118.010000     37.710000           37.000000   3148.000000   \n",
       "max     -114.310000     41.950000           52.000000  39320.000000   \n",
       "\n",
       "       total_bedrooms    population    households  median_income  \\\n",
       "count    20433.000000  20640.000000  20640.000000   20640.000000   \n",
       "mean       537.870553   1425.476744    499.539680       3.870671   \n",
       "std        421.385070   1132.462122    382.329753       1.899822   \n",
       "min          1.000000      3.000000      1.000000       0.499900   \n",
       "25%        296.000000    787.000000    280.000000       2.563400   \n",
       "50%        435.000000   1166.000000    409.000000       3.534800   \n",
       "75%        647.000000   1725.000000    605.000000       4.743250   \n",
       "max       6445.000000  35682.000000   6082.000000      15.000100   \n",
       "\n",
       "       median_house_value  \n",
       "count        20640.000000  \n",
       "mean        206855.816909  \n",
       "std         115395.615874  \n",
       "min          14999.000000  \n",
       "25%         119600.000000  \n",
       "50%         179700.000000  \n",
       "75%         264725.000000  \n",
       "max         500001.000000  "
      ]
     },
     "execution_count": 5,
     "metadata": {},
     "output_type": "execute_result"
    }
   ],
   "source": [
    "housing.describe()"
   ]
  },
  {
   "cell_type": "code",
   "execution_count": 6,
   "metadata": {},
   "outputs": [
    {
     "data": {
      "text/plain": [
       "<1H OCEAN     9136\n",
       "INLAND        6551\n",
       "NEAR OCEAN    2658\n",
       "NEAR BAY      2290\n",
       "ISLAND           5\n",
       "Name: ocean_proximity, dtype: int64"
      ]
     },
     "execution_count": 6,
     "metadata": {},
     "output_type": "execute_result"
    }
   ],
   "source": [
    "housing['ocean_proximity'].value_counts()"
   ]
  },
  {
   "cell_type": "code",
   "execution_count": 7,
   "metadata": {},
   "outputs": [
    {
     "data": {
      "image/png": "[encoded data removed]",
      "text/plain": [
       "<Figure size 1440x1080 with 9 Axes>"
      ]
     },
     "metadata": {
      "needs_background": "light"
     },
     "output_type": "display_data"
    }
   ],
   "source": [
    "housing.hist(bins = 40, figsize = (20, 15))\n",
    "plt.show()"
   ]
  },
  {
   "cell_type": "markdown",
   "metadata": {},
   "source": [
    "## splitting into test and train"
   ]
  },
  {
   "cell_type": "code",
   "execution_count": 8,
   "metadata": {},
   "outputs": [],
   "source": [
    "y = housing.median_income\n",
    "x = housing.drop('median_income', axis = 1)\n",
    "x_train, x_test, y_train, y_test = train_test_split(x, y, test_size = 0.2, random_state = 42)"
   ]
  },
  {
   "cell_type": "code",
   "execution_count": 9,
   "metadata": {},
   "outputs": [
    {
     "name": "stdout",
     "output_type": "stream",
     "text": [
      "shape of original dataset : (20640, 10)\n",
      "shape of input - training set (16512, 9)\n",
      "shape of output - training set (16512,)\n",
      "shape of input - testing set (4128, 9)\n",
      "shape of output - testing set (4128,)\n"
     ]
    }
   ],
   "source": [
    "print(\"shape of original dataset :\", housing.shape)\n",
    "print(\"shape of input - training set\", x_train.shape)\n",
    "print(\"shape of output - training set\", y_train.shape)\n",
    "print(\"shape of input - testing set\", x_test.shape)\n",
    "print(\"shape of output - testing set\", y_test.shape)"
   ]
  },
  {
   "cell_type": "code",
   "execution_count": 10,
   "metadata": {},
   "outputs": [
    {
     "data": {
      "text/html": [
       "<div>\n",
       "<style scoped>\n",
       "    .dataframe tbody tr th:only-of-type {\n",
       "        vertical-align: middle;\n",
       "    }\n",
       "\n",
       "    .dataframe tbody tr th {\n",
       "        vertical-align: top;\n",
       "    }\n",
       "\n",
       "    .dataframe thead th {\n",
       "        text-align: right;\n",
       "    }\n",
       "</style>\n",
       "<table border=\"1\" class=\"dataframe\">\n",
       "  <thead>\n",
       "    <tr style=\"text-align: right;\">\n",
       "      <th></th>\n",
       "      <th>longitude</th>\n",
       "      <th>latitude</th>\n",
       "      <th>housing_median_age</th>\n",
       "      <th>total_rooms</th>\n",
       "      <th>total_bedrooms</th>\n",
       "      <th>population</th>\n",
       "      <th>households</th>\n",
       "      <th>median_house_value</th>\n",
       "      <th>ocean_proximity</th>\n",
       "    </tr>\n",
       "  </thead>\n",
       "  <tbody>\n",
       "    <tr>\n",
       "      <th>20046</th>\n",
       "      <td>-119.01</td>\n",
       "      <td>36.06</td>\n",
       "      <td>25.0</td>\n",
       "      <td>1505.0</td>\n",
       "      <td>NaN</td>\n",
       "      <td>1392.0</td>\n",
       "      <td>359.0</td>\n",
       "      <td>47700.0</td>\n",
       "      <td>INLAND</td>\n",
       "    </tr>\n",
       "    <tr>\n",
       "      <th>3024</th>\n",
       "      <td>-119.46</td>\n",
       "      <td>35.14</td>\n",
       "      <td>30.0</td>\n",
       "      <td>2943.0</td>\n",
       "      <td>NaN</td>\n",
       "      <td>1565.0</td>\n",
       "      <td>584.0</td>\n",
       "      <td>45800.0</td>\n",
       "      <td>INLAND</td>\n",
       "    </tr>\n",
       "    <tr>\n",
       "      <th>15663</th>\n",
       "      <td>-122.44</td>\n",
       "      <td>37.80</td>\n",
       "      <td>52.0</td>\n",
       "      <td>3830.0</td>\n",
       "      <td>NaN</td>\n",
       "      <td>1310.0</td>\n",
       "      <td>963.0</td>\n",
       "      <td>500001.0</td>\n",
       "      <td>NEAR BAY</td>\n",
       "    </tr>\n",
       "    <tr>\n",
       "      <th>20484</th>\n",
       "      <td>-118.72</td>\n",
       "      <td>34.28</td>\n",
       "      <td>17.0</td>\n",
       "      <td>3051.0</td>\n",
       "      <td>NaN</td>\n",
       "      <td>1705.0</td>\n",
       "      <td>495.0</td>\n",
       "      <td>218600.0</td>\n",
       "      <td>&lt;1H OCEAN</td>\n",
       "    </tr>\n",
       "    <tr>\n",
       "      <th>9814</th>\n",
       "      <td>-121.93</td>\n",
       "      <td>36.62</td>\n",
       "      <td>34.0</td>\n",
       "      <td>2351.0</td>\n",
       "      <td>NaN</td>\n",
       "      <td>1063.0</td>\n",
       "      <td>428.0</td>\n",
       "      <td>278000.0</td>\n",
       "      <td>NEAR OCEAN</td>\n",
       "    </tr>\n",
       "  </tbody>\n",
       "</table>\n",
       "</div>"
      ],
      "text/plain": [
       "       longitude  latitude  housing_median_age  total_rooms  total_bedrooms  \\\n",
       "20046    -119.01     36.06                25.0       1505.0             NaN   \n",
       "3024     -119.46     35.14                30.0       2943.0             NaN   \n",
       "15663    -122.44     37.80                52.0       3830.0             NaN   \n",
       "20484    -118.72     34.28                17.0       3051.0             NaN   \n",
       "9814     -121.93     36.62                34.0       2351.0             NaN   \n",
       "\n",
       "       population  households  median_house_value ocean_proximity  \n",
       "20046      1392.0       359.0             47700.0          INLAND  \n",
       "3024       1565.0       584.0             45800.0          INLAND  \n",
       "15663      1310.0       963.0            500001.0        NEAR BAY  \n",
       "20484      1705.0       495.0            218600.0       <1H OCEAN  \n",
       "9814       1063.0       428.0            278000.0      NEAR OCEAN  "
      ]
     },
     "execution_count": 10,
     "metadata": {},
     "output_type": "execute_result"
    }
   ],
   "source": [
    "x_test.head()"
   ]
  },
  {
   "cell_type": "code",
   "execution_count": 11,
   "metadata": {},
   "outputs": [
    {
     "data": {
      "image/png": "[encoded data removed]",
      "text/plain": [
       "<Figure size 432x288 with 1 Axes>"
      ]
     },
     "metadata": {
      "needs_background": "light"
     },
     "output_type": "display_data"
    }
   ],
   "source": [
    "housing['median_income'].hist()\n",
    "plt.show()"
   ]
  },
  {
   "cell_type": "code",
   "execution_count": 12,
   "metadata": {},
   "outputs": [
    {
     "data": {
      "text/plain": [
       "3    7236\n",
       "2    6581\n",
       "4    3639\n",
       "5    2362\n",
       "1     822\n",
       "Name: income_category, dtype: int64"
      ]
     },
     "execution_count": 12,
     "metadata": {},
     "output_type": "execute_result"
    }
   ],
   "source": [
    "housing['income_category'] = pd.cut(housing[\"median_income\"], bins = [0.0, 1.5, 3.0, 4.5, 6.0, np.inf], labels = [1, 2, 3, 4 ,5])\n",
    "housing['income_category'].value_counts()"
   ]
  },
  {
   "cell_type": "code",
   "execution_count": 13,
   "metadata": {},
   "outputs": [
    {
     "data": {
      "image/png": "[encoded data removed]",
      "text/plain": [
       "<Figure size 432x288 with 1 Axes>"
      ]
     },
     "metadata": {
      "needs_background": "light"
     },
     "output_type": "display_data"
    }
   ],
   "source": [
    "housing['income_category'].hist()\n",
    "plt.show()"
   ]
  },
  {
   "cell_type": "markdown",
   "metadata": {},
   "source": [
    "### Splitting test and train set based on the income categories to avoid sampling bias (using stratified sampling)"
   ]
  },
  {
   "cell_type": "code",
   "execution_count": 14,
   "metadata": {},
   "outputs": [],
   "source": [
    "split = StratifiedShuffleSplit(n_splits=1, test_size=0.2, random_state=42)\n",
    "for train_index, test_index in split.split(housing, housing[\"income_category\"]):\n",
    "    \n",
    "    strat_train_set = housing.loc[train_index]\n",
    "    strat_test_set = housing.loc[test_index]"
   ]
  },
  {
   "cell_type": "code",
   "execution_count": 15,
   "metadata": {},
   "outputs": [
    {
     "data": {
      "text/plain": [
       "3    0.350533\n",
       "2    0.318798\n",
       "4    0.176357\n",
       "5    0.114583\n",
       "1    0.039729\n",
       "Name: income_category, dtype: float64"
      ]
     },
     "execution_count": 15,
     "metadata": {},
     "output_type": "execute_result"
    }
   ],
   "source": [
    "strat_test_set['income_category'].value_counts() / len(strat_test_set)\n",
    "\n"
   ]
  },
  {
   "cell_type": "code",
   "execution_count": 16,
   "metadata": {},
   "outputs": [
    {
     "data": {
      "text/plain": [
       "3    1.752907\n",
       "2    1.594234\n",
       "4    0.881541\n",
       "5    0.572190\n",
       "1    0.199128\n",
       "Name: income_category, dtype: float64"
      ]
     },
     "execution_count": 16,
     "metadata": {},
     "output_type": "execute_result"
    }
   ],
   "source": [
    "housing[\"income_category\"].value_counts() / len(strat_test_set)"
   ]
  },
  {
   "cell_type": "code",
   "execution_count": 17,
   "metadata": {},
   "outputs": [],
   "source": [
    "def income_cat_proportions(data):\n",
    "    return data[\"income_category\"].value_counts() / len(data)\n",
    "\n",
    "train_set, test_set = train_test_split(housing, test_size=0.2, random_state=42)\n",
    "\n",
    "compare_props = pd.DataFrame({\n",
    "    \"Overall\": income_cat_proportions(housing),\n",
    "    \"Stratified\": income_cat_proportions(strat_test_set),\n",
    "    \"Random\": income_cat_proportions(test_set),\n",
    "}).sort_index()\n",
    "compare_props[\"Rand. %error\"] = 100 * compare_props[\"Random\"] / compare_props[\"Overall\"] - 100\n",
    "compare_props[\"Strat. %error\"] = 100 * compare_props[\"Stratified\"] / compare_props[\"Overall\"] - 100"
   ]
  },
  {
   "cell_type": "code",
   "execution_count": 18,
   "metadata": {},
   "outputs": [
    {
     "data": {
      "text/html": [
       "<div>\n",
       "<style scoped>\n",
       "    .dataframe tbody tr th:only-of-type {\n",
       "        vertical-align: middle;\n",
       "    }\n",
       "\n",
       "    .dataframe tbody tr th {\n",
       "        vertical-align: top;\n",
       "    }\n",
       "\n",
       "    .dataframe thead th {\n",
       "        text-align: right;\n",
       "    }\n",
       "</style>\n",
       "<table border=\"1\" class=\"dataframe\">\n",
       "  <thead>\n",
       "    <tr style=\"text-align: right;\">\n",
       "      <th></th>\n",
       "      <th>Overall</th>\n",
       "      <th>Stratified</th>\n",
       "      <th>Random</th>\n",
       "      <th>Rand. %error</th>\n",
       "      <th>Strat. %error</th>\n",
       "    </tr>\n",
       "  </thead>\n",
       "  <tbody>\n",
       "    <tr>\n",
       "      <th>1</th>\n",
       "      <td>0.039826</td>\n",
       "      <td>0.039729</td>\n",
       "      <td>0.040213</td>\n",
       "      <td>0.973236</td>\n",
       "      <td>-0.243309</td>\n",
       "    </tr>\n",
       "    <tr>\n",
       "      <th>2</th>\n",
       "      <td>0.318847</td>\n",
       "      <td>0.318798</td>\n",
       "      <td>0.324370</td>\n",
       "      <td>1.732260</td>\n",
       "      <td>-0.015195</td>\n",
       "    </tr>\n",
       "    <tr>\n",
       "      <th>3</th>\n",
       "      <td>0.350581</td>\n",
       "      <td>0.350533</td>\n",
       "      <td>0.358527</td>\n",
       "      <td>2.266446</td>\n",
       "      <td>-0.013820</td>\n",
       "    </tr>\n",
       "    <tr>\n",
       "      <th>4</th>\n",
       "      <td>0.176308</td>\n",
       "      <td>0.176357</td>\n",
       "      <td>0.167393</td>\n",
       "      <td>-5.056334</td>\n",
       "      <td>0.027480</td>\n",
       "    </tr>\n",
       "    <tr>\n",
       "      <th>5</th>\n",
       "      <td>0.114438</td>\n",
       "      <td>0.114583</td>\n",
       "      <td>0.109496</td>\n",
       "      <td>-4.318374</td>\n",
       "      <td>0.127011</td>\n",
       "    </tr>\n",
       "  </tbody>\n",
       "</table>\n",
       "</div>"
      ],
      "text/plain": [
       "    Overall  Stratified    Random  Rand. %error  Strat. %error\n",
       "1  0.039826    0.039729  0.040213      0.973236      -0.243309\n",
       "2  0.318847    0.318798  0.324370      1.732260      -0.015195\n",
       "3  0.350581    0.350533  0.358527      2.266446      -0.013820\n",
       "4  0.176308    0.176357  0.167393     -5.056334       0.027480\n",
       "5  0.114438    0.114583  0.109496     -4.318374       0.127011"
      ]
     },
     "execution_count": 18,
     "metadata": {},
     "output_type": "execute_result"
    }
   ],
   "source": [
    "compare_props"
   ]
  },
  {
   "cell_type": "code",
   "execution_count": 19,
   "metadata": {},
   "outputs": [],
   "source": [
    "for set_ in (strat_train_set, strat_test_set):\n",
    "    set_.drop(\"income_category\", axis = 1, inplace = True)"
   ]
  },
  {
   "cell_type": "markdown",
   "metadata": {},
   "source": [
    "## Visualizing"
   ]
  },
  {
   "cell_type": "code",
   "execution_count": 20,
   "metadata": {},
   "outputs": [],
   "source": [
    "housing = strat_train_set.copy()"
   ]
  },
  {
   "cell_type": "code",
   "execution_count": 21,
   "metadata": {},
   "outputs": [
    {
     "data": {
      "image/png": "[encoded data removed]",
      "text/plain": [
       "<Figure size 432x288 with 1 Axes>"
      ]
     },
     "metadata": {
      "needs_background": "light"
     },
     "output_type": "display_data"
    }
   ],
   "source": [
    "# setting an alpha value will help in visualizing the places where there is a high density of data points\n",
    "sns.scatterplot(data = housing, x = \"longitude\", y = \"latitude\", alpha = 0.1)\n",
    "plt.show()"
   ]
  },
  {
   "cell_type": "code",
   "execution_count": 22,
   "metadata": {},
   "outputs": [
    {
     "data": {
      "image/png": "[encoded data removed]",
      "text/plain": [
       "<Figure size 720x504 with 2 Axes>"
      ]
     },
     "metadata": {
      "needs_background": "light"
     },
     "output_type": "display_data"
    }
   ],
   "source": [
    "# radius of each circle represents the district’s population (s)\n",
    "# color represents the price (c)\n",
    "# a predefined color map is used (option cmap) called jet, which ranges from blue\n",
    "# (low values) to red (high prices)\n",
    "\n",
    "housing.plot(kind = \"scatter\", x = \"longitude\", y = \"latitude\", alpha = 0.4,\n",
    "            s = housing[\"population\"]/ 100, label = \"population\", figsize = (10,7),\n",
    "            c = \"median_house_value\", cmap = plt.get_cmap(\"jet\"), colorbar = True,)\n",
    "plt.legend()\n",
    "plt.show()"
   ]
  },
  {
   "cell_type": "code",
   "execution_count": 23,
   "metadata": {},
   "outputs": [
    {
     "data": {
      "text/plain": [
       "median_house_value    1.000000\n",
       "median_income         0.687160\n",
       "total_rooms           0.135097\n",
       "housing_median_age    0.114110\n",
       "households            0.064506\n",
       "total_bedrooms        0.047689\n",
       "population           -0.026920\n",
       "longitude            -0.047432\n",
       "latitude             -0.142724\n",
       "Name: median_house_value, dtype: float64"
      ]
     },
     "execution_count": 23,
     "metadata": {},
     "output_type": "execute_result"
    }
   ],
   "source": [
    "corr_matrix = housing.corr()\n",
    "corr_matrix[\"median_house_value\"].sort_values(ascending = False)"
   ]
  },
  {
   "cell_type": "code",
   "execution_count": 24,
   "metadata": {},
   "outputs": [
    {
     "data": {
      "image/png": "[encoded data removed]",
      "text/plain": [
       "<Figure size 864x576 with 16 Axes>"
      ]
     },
     "metadata": {
      "needs_background": "light"
     },
     "output_type": "display_data"
    }
   ],
   "source": [
    "from pandas.plotting import scatter_matrix\n",
    "attributes = [\"median_house_value\", \"median_income\", \"total_rooms\", \"housing_median_age\"]\n",
    "scatter_matrix(housing[attributes], figsize = (12, 8))\n",
    "plt.show()"
   ]
  },
  {
   "cell_type": "code",
   "execution_count": 25,
   "metadata": {},
   "outputs": [
    {
     "data": {
      "image/png": "[encoded data removed]",
      "text/plain": [
       "<Figure size 432x288 with 1 Axes>"
      ]
     },
     "metadata": {
      "needs_background": "light"
     },
     "output_type": "display_data"
    }
   ],
   "source": [
    "housing.plot(kind = \"scatter\", x = \"median_income\", y = \"median_house_value\", alpha = 0.1)\n",
    "plt.show()"
   ]
  },
  {
   "cell_type": "markdown",
   "metadata": {},
   "source": [
    "## Adding new attributes"
   ]
  },
  {
   "cell_type": "code",
   "execution_count": 26,
   "metadata": {},
   "outputs": [],
   "source": [
    "housing[\"rooms_per_household\"] = housing[\"total_rooms\"]/housing[\"households\"]\n",
    "housing[\"bedrooms_per_room\"] = housing[\"total_bedrooms\"]/housing[\"total_rooms\"]\n",
    "housing[\"population_per_household\"]=housing[\"population\"]/housing[\"households\"]"
   ]
  },
  {
   "cell_type": "code",
   "execution_count": 27,
   "metadata": {},
   "outputs": [
    {
     "data": {
      "text/plain": [
       "median_house_value          1.000000\n",
       "median_income               0.687160\n",
       "rooms_per_household         0.146285\n",
       "total_rooms                 0.135097\n",
       "housing_median_age          0.114110\n",
       "households                  0.064506\n",
       "total_bedrooms              0.047689\n",
       "population_per_household   -0.021985\n",
       "population                 -0.026920\n",
       "longitude                  -0.047432\n",
       "latitude                   -0.142724\n",
       "bedrooms_per_room          -0.259984\n",
       "Name: median_house_value, dtype: float64"
      ]
     },
     "execution_count": 27,
     "metadata": {},
     "output_type": "execute_result"
    }
   ],
   "source": [
    "corr_matrix = housing.corr()\n",
    "corr_matrix[\"median_house_value\"].sort_values(ascending = False)"
   ]
  },
  {
   "cell_type": "markdown",
   "metadata": {},
   "source": [
    "### Preparing data for algorithms"
   ]
  },
  {
   "cell_type": "code",
   "execution_count": 28,
   "metadata": {},
   "outputs": [],
   "source": [
    "housing = strat_train_set.drop(\"median_house_value\", axis = 1)\n",
    "housing_labels = strat_train_set[\"median_house_value\"].copy() # copy of the median housing pricing in the training set"
   ]
  },
  {
   "cell_type": "code",
   "execution_count": 29,
   "metadata": {},
   "outputs": [
    {
     "data": {
      "text/html": [
       "<div>\n",
       "<style scoped>\n",
       "    .dataframe tbody tr th:only-of-type {\n",
       "        vertical-align: middle;\n",
       "    }\n",
       "\n",
       "    .dataframe tbody tr th {\n",
       "        vertical-align: top;\n",
       "    }\n",
       "\n",
       "    .dataframe thead th {\n",
       "        text-align: right;\n",
       "    }\n",
       "</style>\n",
       "<table border=\"1\" class=\"dataframe\">\n",
       "  <thead>\n",
       "    <tr style=\"text-align: right;\">\n",
       "      <th></th>\n",
       "      <th>longitude</th>\n",
       "      <th>latitude</th>\n",
       "      <th>housing_median_age</th>\n",
       "      <th>total_rooms</th>\n",
       "      <th>total_bedrooms</th>\n",
       "      <th>population</th>\n",
       "      <th>households</th>\n",
       "      <th>median_income</th>\n",
       "      <th>ocean_proximity</th>\n",
       "    </tr>\n",
       "  </thead>\n",
       "  <tbody>\n",
       "    <tr>\n",
       "      <th>17606</th>\n",
       "      <td>-121.89</td>\n",
       "      <td>37.29</td>\n",
       "      <td>38.0</td>\n",
       "      <td>1568.0</td>\n",
       "      <td>351.0</td>\n",
       "      <td>710.0</td>\n",
       "      <td>339.0</td>\n",
       "      <td>2.7042</td>\n",
       "      <td>&lt;1H OCEAN</td>\n",
       "    </tr>\n",
       "    <tr>\n",
       "      <th>18632</th>\n",
       "      <td>-121.93</td>\n",
       "      <td>37.05</td>\n",
       "      <td>14.0</td>\n",
       "      <td>679.0</td>\n",
       "      <td>108.0</td>\n",
       "      <td>306.0</td>\n",
       "      <td>113.0</td>\n",
       "      <td>6.4214</td>\n",
       "      <td>&lt;1H OCEAN</td>\n",
       "    </tr>\n",
       "    <tr>\n",
       "      <th>14650</th>\n",
       "      <td>-117.20</td>\n",
       "      <td>32.77</td>\n",
       "      <td>31.0</td>\n",
       "      <td>1952.0</td>\n",
       "      <td>471.0</td>\n",
       "      <td>936.0</td>\n",
       "      <td>462.0</td>\n",
       "      <td>2.8621</td>\n",
       "      <td>NEAR OCEAN</td>\n",
       "    </tr>\n",
       "    <tr>\n",
       "      <th>3230</th>\n",
       "      <td>-119.61</td>\n",
       "      <td>36.31</td>\n",
       "      <td>25.0</td>\n",
       "      <td>1847.0</td>\n",
       "      <td>371.0</td>\n",
       "      <td>1460.0</td>\n",
       "      <td>353.0</td>\n",
       "      <td>1.8839</td>\n",
       "      <td>INLAND</td>\n",
       "    </tr>\n",
       "    <tr>\n",
       "      <th>3555</th>\n",
       "      <td>-118.59</td>\n",
       "      <td>34.23</td>\n",
       "      <td>17.0</td>\n",
       "      <td>6592.0</td>\n",
       "      <td>1525.0</td>\n",
       "      <td>4459.0</td>\n",
       "      <td>1463.0</td>\n",
       "      <td>3.0347</td>\n",
       "      <td>&lt;1H OCEAN</td>\n",
       "    </tr>\n",
       "  </tbody>\n",
       "</table>\n",
       "</div>"
      ],
      "text/plain": [
       "       longitude  latitude  housing_median_age  total_rooms  total_bedrooms  \\\n",
       "17606    -121.89     37.29                38.0       1568.0           351.0   \n",
       "18632    -121.93     37.05                14.0        679.0           108.0   \n",
       "14650    -117.20     32.77                31.0       1952.0           471.0   \n",
       "3230     -119.61     36.31                25.0       1847.0           371.0   \n",
       "3555     -118.59     34.23                17.0       6592.0          1525.0   \n",
       "\n",
       "       population  households  median_income ocean_proximity  \n",
       "17606       710.0       339.0         2.7042       <1H OCEAN  \n",
       "18632       306.0       113.0         6.4214       <1H OCEAN  \n",
       "14650       936.0       462.0         2.8621      NEAR OCEAN  \n",
       "3230       1460.0       353.0         1.8839          INLAND  \n",
       "3555       4459.0      1463.0         3.0347       <1H OCEAN  "
      ]
     },
     "execution_count": 29,
     "metadata": {},
     "output_type": "execute_result"
    }
   ],
   "source": [
    "housing.head()"
   ]
  },
  {
   "cell_type": "code",
   "execution_count": 30,
   "metadata": {},
   "outputs": [
    {
     "data": {
      "text/plain": [
       "17606    286600.0\n",
       "18632    340600.0\n",
       "14650    196900.0\n",
       "3230      46300.0\n",
       "3555     254500.0\n",
       "Name: median_house_value, dtype: float64"
      ]
     },
     "execution_count": 30,
     "metadata": {},
     "output_type": "execute_result"
    }
   ],
   "source": [
    "housing_labels.head()"
   ]
  },
  {
   "cell_type": "code",
   "execution_count": 31,
   "metadata": {},
   "outputs": [
    {
     "data": {
      "text/plain": [
       "longitude               0\n",
       "latitude                0\n",
       "housing_median_age      0\n",
       "total_rooms             0\n",
       "total_bedrooms        158\n",
       "population              0\n",
       "households              0\n",
       "median_income           0\n",
       "ocean_proximity         0\n",
       "dtype: int64"
      ]
     },
     "execution_count": 31,
     "metadata": {},
     "output_type": "execute_result"
    }
   ],
   "source": [
    "housing.isnull().sum()"
   ]
  },
  {
   "cell_type": "markdown",
   "metadata": {},
   "source": [
    "## Data cleaning"
   ]
  },
  {
   "cell_type": "code",
   "execution_count": 32,
   "metadata": {},
   "outputs": [],
   "source": [
    "\n",
    "housing.dropna(subset=['total_bedrooms'])    # drop rows\n",
    "housing.drop('total_bedrooms', axis=1)       # drop column\n",
    "median = housing['total_bedrooms'].median()  # replacing with median\n",
    "housing['total_bedrooms'].fillna(median, inplace=True)"
   ]
  },
  {
   "cell_type": "code",
   "execution_count": 33,
   "metadata": {},
   "outputs": [],
   "source": [
    "from sklearn.impute import SimpleImputer\n",
    "imputer = SimpleImputer(strategy = \"median\")\n"
   ]
  },
  {
   "cell_type": "code",
   "execution_count": 34,
   "metadata": {},
   "outputs": [],
   "source": [
    "housing_numerical = housing.drop('ocean_proximity', axis = 1)"
   ]
  },
  {
   "cell_type": "code",
   "execution_count": 35,
   "metadata": {},
   "outputs": [
    {
     "data": {
      "text/plain": [
       "SimpleImputer(strategy='median')"
      ]
     },
     "execution_count": 35,
     "metadata": {},
     "output_type": "execute_result"
    }
   ],
   "source": [
    "imputer.fit(housing_numerical)"
   ]
  },
  {
   "cell_type": "code",
   "execution_count": 36,
   "metadata": {},
   "outputs": [
    {
     "data": {
      "text/plain": [
       "array([-118.51  ,   34.26  ,   29.    , 2119.5   ,  433.    , 1164.    ,\n",
       "        408.    ,    3.5409])"
      ]
     },
     "execution_count": 36,
     "metadata": {},
     "output_type": "execute_result"
    }
   ],
   "source": [
    "imputer.statistics_"
   ]
  },
  {
   "cell_type": "code",
   "execution_count": 37,
   "metadata": {},
   "outputs": [
    {
     "data": {
      "text/plain": [
       "array([-118.51  ,   34.26  ,   29.    , 2119.5   ,  433.    , 1164.    ,\n",
       "        408.    ,    3.5409])"
      ]
     },
     "execution_count": 37,
     "metadata": {},
     "output_type": "execute_result"
    }
   ],
   "source": [
    " housing_numerical.median().values\n"
   ]
  },
  {
   "cell_type": "code",
   "execution_count": 38,
   "metadata": {},
   "outputs": [],
   "source": [
    "X = imputer.transform(housing_numerical)"
   ]
  },
  {
   "cell_type": "code",
   "execution_count": 39,
   "metadata": {},
   "outputs": [],
   "source": [
    "housing_tr = pd.DataFrame(X, columns=housing_numerical.columns)\n"
   ]
  },
  {
   "cell_type": "code",
   "execution_count": 40,
   "metadata": {},
   "outputs": [
    {
     "data": {
      "text/plain": [
       "longitude             0\n",
       "latitude              0\n",
       "housing_median_age    0\n",
       "total_rooms           0\n",
       "total_bedrooms        0\n",
       "population            0\n",
       "households            0\n",
       "median_income         0\n",
       "dtype: int64"
      ]
     },
     "execution_count": 40,
     "metadata": {},
     "output_type": "execute_result"
    }
   ],
   "source": [
    "housing_tr.isnull().sum()"
   ]
  },
  {
   "cell_type": "code",
   "execution_count": 41,
   "metadata": {},
   "outputs": [
    {
     "data": {
      "text/html": [
       "<div>\n",
       "<style scoped>\n",
       "    .dataframe tbody tr th:only-of-type {\n",
       "        vertical-align: middle;\n",
       "    }\n",
       "\n",
       "    .dataframe tbody tr th {\n",
       "        vertical-align: top;\n",
       "    }\n",
       "\n",
       "    .dataframe thead th {\n",
       "        text-align: right;\n",
       "    }\n",
       "</style>\n",
       "<table border=\"1\" class=\"dataframe\">\n",
       "  <thead>\n",
       "    <tr style=\"text-align: right;\">\n",
       "      <th></th>\n",
       "      <th>ocean_proximity</th>\n",
       "    </tr>\n",
       "  </thead>\n",
       "  <tbody>\n",
       "    <tr>\n",
       "      <th>17606</th>\n",
       "      <td>&lt;1H OCEAN</td>\n",
       "    </tr>\n",
       "    <tr>\n",
       "      <th>18632</th>\n",
       "      <td>&lt;1H OCEAN</td>\n",
       "    </tr>\n",
       "    <tr>\n",
       "      <th>14650</th>\n",
       "      <td>NEAR OCEAN</td>\n",
       "    </tr>\n",
       "    <tr>\n",
       "      <th>3230</th>\n",
       "      <td>INLAND</td>\n",
       "    </tr>\n",
       "    <tr>\n",
       "      <th>3555</th>\n",
       "      <td>&lt;1H OCEAN</td>\n",
       "    </tr>\n",
       "  </tbody>\n",
       "</table>\n",
       "</div>"
      ],
      "text/plain": [
       "      ocean_proximity\n",
       "17606       <1H OCEAN\n",
       "18632       <1H OCEAN\n",
       "14650      NEAR OCEAN\n",
       "3230           INLAND\n",
       "3555        <1H OCEAN"
      ]
     },
     "execution_count": 41,
     "metadata": {},
     "output_type": "execute_result"
    }
   ],
   "source": [
    "housing_cat = housing[[\"ocean_proximity\"]]\n",
    "housing_cat.head()"
   ]
  },
  {
   "cell_type": "code",
   "execution_count": 42,
   "metadata": {},
   "outputs": [],
   "source": [
    "from sklearn.preprocessing import OrdinalEncoder\n",
    "ordinal_encoder = OrdinalEncoder()"
   ]
  },
  {
   "cell_type": "code",
   "execution_count": 43,
   "metadata": {},
   "outputs": [
    {
     "data": {
      "text/plain": [
       "array([[0.],\n",
       "       [0.],\n",
       "       [4.],\n",
       "       [1.],\n",
       "       [0.],\n",
       "       [1.],\n",
       "       [0.],\n",
       "       [1.],\n",
       "       [0.],\n",
       "       [0.]])"
      ]
     },
     "execution_count": 43,
     "metadata": {},
     "output_type": "execute_result"
    }
   ],
   "source": [
    "housing_cat_encoded = ordinal_encoder.fit_transform(housing_cat)\n",
    "housing_cat_encoded[:10]"
   ]
  },
  {
   "cell_type": "code",
   "execution_count": 44,
   "metadata": {},
   "outputs": [
    {
     "data": {
      "text/plain": [
       "[array(['<1H OCEAN', 'INLAND', 'ISLAND', 'NEAR BAY', 'NEAR OCEAN'],\n",
       "       dtype=object)]"
      ]
     },
     "execution_count": 44,
     "metadata": {},
     "output_type": "execute_result"
    }
   ],
   "source": [
    "ordinal_encoder.categories_"
   ]
  },
  {
   "cell_type": "code",
   "execution_count": 45,
   "metadata": {},
   "outputs": [
    {
     "data": {
      "text/plain": [
       "<16512x5 sparse matrix of type '<class 'numpy.float64'>'\n",
       "\twith 16512 stored elements in Compressed Sparse Row format>"
      ]
     },
     "execution_count": 45,
     "metadata": {},
     "output_type": "execute_result"
    }
   ],
   "source": [
    "from sklearn.preprocessing import OneHotEncoder\n",
    "cat_encoder = OneHotEncoder()\n",
    "housing_cat_1hot = cat_encoder.fit_transform(housing_cat)\n",
    "housing_cat_1hot"
   ]
  },
  {
   "cell_type": "code",
   "execution_count": 46,
   "metadata": {},
   "outputs": [
    {
     "data": {
      "text/plain": [
       "array([[1., 0., 0., 0., 0.],\n",
       "       [1., 0., 0., 0., 0.],\n",
       "       [0., 0., 0., 0., 1.],\n",
       "       ...,\n",
       "       [0., 1., 0., 0., 0.],\n",
       "       [1., 0., 0., 0., 0.],\n",
       "       [0., 0., 0., 1., 0.]])"
      ]
     },
     "execution_count": 46,
     "metadata": {},
     "output_type": "execute_result"
    }
   ],
   "source": [
    "housing_cat_1hot.toarray()"
   ]
  },
  {
   "cell_type": "code",
   "execution_count": 47,
   "metadata": {},
   "outputs": [
    {
     "data": {
      "text/plain": [
       "[array(['<1H OCEAN', 'INLAND', 'ISLAND', 'NEAR BAY', 'NEAR OCEAN'],\n",
       "       dtype=object)]"
      ]
     },
     "execution_count": 47,
     "metadata": {},
     "output_type": "execute_result"
    }
   ],
   "source": [
    "cat_encoder.categories_"
   ]
  },
  {
   "cell_type": "code",
   "execution_count": 48,
   "metadata": {},
   "outputs": [],
   "source": [
    "from sklearn.base import BaseEstimator, TransformerMixin\n",
    "\n",
    "# column index\n",
    "rooms_ix, bedrooms_ix, population_ix, households_ix = 3, 4, 5, 6\n",
    "\n",
    "class CombinedAttributesAdder(BaseEstimator, TransformerMixin):\n",
    "    def __init__(self, add_bedrooms_per_room=True): # no *args or **kargs\n",
    "        self.add_bedrooms_per_room = add_bedrooms_per_room\n",
    "    def fit(self, X, y=None):\n",
    "        return self  # nothing else to do\n",
    "    def transform(self, X):\n",
    "        rooms_per_household = X[:, rooms_ix] / X[:, households_ix]\n",
    "        population_per_household = X[:, population_ix] / X[:, households_ix]\n",
    "        if self.add_bedrooms_per_room:\n",
    "            bedrooms_per_room = X[:, bedrooms_ix] / X[:, rooms_ix]\n",
    "            return np.c_[X, rooms_per_household, population_per_household,\n",
    "                         bedrooms_per_room]\n",
    "        else:\n",
    "            return np.c_[X, rooms_per_household, population_per_household]\n",
    "\n",
    "attr_adder = CombinedAttributesAdder(add_bedrooms_per_room=False)\n",
    "housing_extra_attribs = attr_adder.transform(housing.values)"
   ]
  },
  {
   "cell_type": "code",
   "execution_count": 49,
   "metadata": {},
   "outputs": [],
   "source": [
    "from sklearn.pipeline import Pipeline\n",
    "from sklearn.preprocessing import StandardScaler\n",
    "num_pipeline = Pipeline([\n",
    " ('imputer', SimpleImputer(strategy=\"median\")),\n",
    " ('attribs_adder', CombinedAttributesAdder()),\n",
    " ('std_scaler', StandardScaler()),\n",
    " ])\n",
    "housing_num_tr = num_pipeline.fit_transform(housing_numerical)"
   ]
  },
  {
   "cell_type": "code",
   "execution_count": 50,
   "metadata": {},
   "outputs": [],
   "source": [
    "from sklearn.compose import ColumnTransformer\n",
    "num_attribs = list(housing_numerical)\n",
    "cat_attribs = [\"ocean_proximity\"]\n",
    "full_pipeline = ColumnTransformer([\n",
    " (\"num\", num_pipeline, num_attribs),\n",
    " (\"cat\", OneHotEncoder(), cat_attribs),\n",
    " ])\n",
    "housing_prepared = full_pipeline.fit_transform(housing)\n"
   ]
  },
  {
   "cell_type": "code",
   "execution_count": 51,
   "metadata": {},
   "outputs": [
    {
     "data": {
      "text/plain": [
       "array([[-1.15604281,  0.77194962,  0.74333089, ...,  0.        ,\n",
       "         0.        ,  0.        ],\n",
       "       [-1.17602483,  0.6596948 , -1.1653172 , ...,  0.        ,\n",
       "         0.        ,  0.        ],\n",
       "       [ 1.18684903, -1.34218285,  0.18664186, ...,  0.        ,\n",
       "         0.        ,  1.        ],\n",
       "       ...,\n",
       "       [ 1.58648943, -0.72478134, -1.56295222, ...,  0.        ,\n",
       "         0.        ,  0.        ],\n",
       "       [ 0.78221312, -0.85106801,  0.18664186, ...,  0.        ,\n",
       "         0.        ,  0.        ],\n",
       "       [-1.43579109,  0.99645926,  1.85670895, ...,  0.        ,\n",
       "         1.        ,  0.        ]])"
      ]
     },
     "execution_count": 51,
     "metadata": {},
     "output_type": "execute_result"
    }
   ],
   "source": [
    "\n",
    "housing_prepared"
   ]
  },
  {
   "cell_type": "code",
   "execution_count": 52,
   "metadata": {},
   "outputs": [
    {
     "name": "stdout",
     "output_type": "stream",
     "text": [
      "(16512, 9)\n",
      "(16512, 16)\n"
     ]
    }
   ],
   "source": [
    "print(housing.shape)\n",
    "print(housing_prepared.shape)"
   ]
  },
  {
   "cell_type": "code",
   "execution_count": 53,
   "metadata": {},
   "outputs": [
    {
     "data": {
      "text/plain": [
       "17606    286600.0\n",
       "18632    340600.0\n",
       "14650    196900.0\n",
       "3230      46300.0\n",
       "3555     254500.0\n",
       "Name: median_house_value, dtype: float64"
      ]
     },
     "execution_count": 53,
     "metadata": {},
     "output_type": "execute_result"
    }
   ],
   "source": [
    "housing_labels.head()"
   ]
  },
  {
   "cell_type": "markdown",
   "metadata": {},
   "source": [
    "### Selecting and Training the model"
   ]
  },
  {
   "cell_type": "code",
   "execution_count": 54,
   "metadata": {},
   "outputs": [
    {
     "data": {
      "text/plain": [
       "LinearRegression()"
      ]
     },
     "execution_count": 54,
     "metadata": {},
     "output_type": "execute_result"
    }
   ],
   "source": [
    "from sklearn.linear_model import LinearRegression \n",
    "lin_reg = LinearRegression()\n",
    "lin_reg.fit(housing_prepared, housing_labels)"
   ]
  },
  {
   "cell_type": "code",
   "execution_count": 55,
   "metadata": {},
   "outputs": [
    {
     "name": "stdout",
     "output_type": "stream",
     "text": [
      "Predictions:  [210644.60459286 317768.80697211 210956.43331178  59218.98886849\n",
      " 189747.55849879]\n"
     ]
    }
   ],
   "source": [
    "some_data = housing.iloc[:5]\n",
    "some_labels = housing_labels.iloc[:5]\n",
    "some_data_prepared = full_pipeline.transform(some_data)\n",
    "print(\"Predictions: \", lin_reg.predict(some_data_prepared))"
   ]
  },
  {
   "cell_type": "code",
   "execution_count": 56,
   "metadata": {},
   "outputs": [
    {
     "name": "stdout",
     "output_type": "stream",
     "text": [
      "labels:  [286600.0, 340600.0, 196900.0, 46300.0, 254500.0]\n"
     ]
    }
   ],
   "source": [
    "print(\"labels: \", list(some_labels))"
   ]
  },
  {
   "cell_type": "code",
   "execution_count": 57,
   "metadata": {},
   "outputs": [
    {
     "data": {
      "text/plain": [
       "68628.19819848923"
      ]
     },
     "execution_count": 57,
     "metadata": {},
     "output_type": "execute_result"
    }
   ],
   "source": [
    "from sklearn.metrics import mean_squared_error\n",
    "housing_predictions = lin_reg.predict(housing_prepared)\n",
    "lin_mse = mean_squared_error(housing_labels, housing_predictions)\n",
    "lin_rmse = np.sqrt(lin_mse)\n",
    "lin_rmse"
   ]
  },
  {
   "cell_type": "code",
   "execution_count": 58,
   "metadata": {},
   "outputs": [
    {
     "data": {
      "text/plain": [
       "0.0"
      ]
     },
     "execution_count": 58,
     "metadata": {},
     "output_type": "execute_result"
    }
   ],
   "source": [
    "from sklearn.tree import DecisionTreeRegressor\n",
    "tree_reg = DecisionTreeRegressor()\n",
    "tree_reg.fit(housing_prepared, housing_labels)\n",
    "housing_predictions = tree_reg.predict(housing_prepared)\n",
    "tree_mse = mean_squared_error(housing_labels, housing_predictions)\n",
    "tree_rmse = np.sqrt(tree_mse)\n",
    "tree_rmse"
   ]
  },
  {
   "cell_type": "code",
   "execution_count": 59,
   "metadata": {},
   "outputs": [],
   "source": [
    "from sklearn.model_selection import cross_val_score\n",
    "scores = cross_val_score(tree_reg, housing_prepared, housing_labels, scoring = \"neg_mean_squared_error\", cv = 10)\n",
    "tree_rmse_scores = np.sqrt(-scores)"
   ]
  },
  {
   "cell_type": "code",
   "execution_count": 60,
   "metadata": {},
   "outputs": [
    {
     "name": "stdout",
     "output_type": "stream",
     "text": [
      "Scores:  [69290.47404849 69163.77212545 71089.59359356 69167.0022187\n",
      " 71752.27463886 76660.33931908 68913.36900178 72089.16567135\n",
      " 76651.78107057 70475.76894338]\n",
      "mean:  71525.35406312214\n",
      "Standard deviation:  2779.6630612405424\n"
     ]
    }
   ],
   "source": [
    "def display_scores(scores):\n",
    "    print(\"Scores: \", scores)\n",
    "    print(\"mean: \", scores.mean())\n",
    "    print(\"Standard deviation: \", scores.std())\n",
    "display_scores(tree_rmse_scores)"
   ]
  },
  {
   "cell_type": "code",
   "execution_count": 61,
   "metadata": {},
   "outputs": [
    {
     "name": "stdout",
     "output_type": "stream",
     "text": [
      "Scores:  [69290.47404849 69163.77212545 71089.59359356 69167.0022187\n",
      " 71752.27463886 76660.33931908 68913.36900178 72089.16567135\n",
      " 76651.78107057 70475.76894338]\n",
      "mean:  71525.35406312214\n",
      "Standard deviation:  2779.6630612405424\n"
     ]
    }
   ],
   "source": [
    "lin_scores = cross_val_score(lin_reg, housing_prepared, housing_labels, scoring = \"neg_mean_squared_error\", cv = 10)\n",
    "lin_rmse_scores = np.sqrt(-scores)\n",
    "display_scores(lin_rmse_scores)"
   ]
  },
  {
   "cell_type": "code",
   "execution_count": 62,
   "metadata": {},
   "outputs": [
    {
     "data": {
      "text/plain": [
       "RandomForestRegressor(random_state=42)"
      ]
     },
     "execution_count": 62,
     "metadata": {},
     "output_type": "execute_result"
    }
   ],
   "source": [
    "from sklearn.ensemble import RandomForestRegressor\n",
    "\n",
    "forest_reg = RandomForestRegressor(n_estimators=100, random_state=42)\n",
    "forest_reg.fit(housing_prepared, housing_labels)"
   ]
  },
  {
   "cell_type": "code",
   "execution_count": 63,
   "metadata": {},
   "outputs": [
    {
     "name": "stdout",
     "output_type": "stream",
     "text": [
      "RMSE: 18603.515021376355\n"
     ]
    }
   ],
   "source": [
    "\n",
    "housing_predictions = forest_reg.predict(housing_prepared)\n",
    "forest_mse = mean_squared_error(housing_labels, housing_predictions)\n",
    "forest_rmse = np.sqrt(forest_mse)\n",
    "print('RMSE:', forest_rmse)"
   ]
  },
  {
   "cell_type": "code",
   "execution_count": 64,
   "metadata": {},
   "outputs": [
    {
     "name": "stdout",
     "output_type": "stream",
     "text": [
      "Scores:  [49519.80364233 47461.9115823  50029.02762854 52325.28068953\n",
      " 49308.39426421 53446.37892622 48634.8036574  47585.73832311\n",
      " 53490.10699751 50021.5852922 ]\n",
      "mean:  50182.303100336096\n",
      "Standard deviation:  2097.0810550985693\n"
     ]
    }
   ],
   "source": [
    "forest_scores = cross_val_score(forest_reg, housing_prepared,\n",
    "                                housing_labels, cv=10,\n",
    "                                scoring='neg_mean_squared_error')\n",
    "forest_rmse_scores = np.sqrt(-forest_scores)\n",
    "display_scores(forest_rmse_scores)"
   ]
  },
  {
   "cell_type": "markdown",
   "metadata": {},
   "source": [
    "### Fine tuning the model"
   ]
  },
  {
   "cell_type": "code",
   "execution_count": 65,
   "metadata": {},
   "outputs": [
    {
     "data": {
      "text/plain": [
       "GridSearchCV(cv=5, estimator=RandomForestRegressor(random_state=42),\n",
       "             param_grid=[{'max_features': [2, 4, 6, 8],\n",
       "                          'n_estimators': [3, 10, 30]},\n",
       "                         {'bootstrap': [False], 'max_features': [2, 3, 4],\n",
       "                          'n_estimators': [3, 10]}],\n",
       "             return_train_score=True, scoring='neg_mean_squared_error')"
      ]
     },
     "execution_count": 65,
     "metadata": {},
     "output_type": "execute_result"
    }
   ],
   "source": [
    "from sklearn.model_selection import GridSearchCV\n",
    "\n",
    "param_grid = [\n",
    "    # try 12 (3×4) combinations of hyperparameters\n",
    "    {'n_estimators': [3, 10, 30], 'max_features': [2, 4, 6, 8]},\n",
    "    # then try 6 (2×3) combinations with bootstrap set as False\n",
    "    {'bootstrap': [False], 'n_estimators': [3, 10], 'max_features': [2, 3, 4]},\n",
    "  ]\n",
    "\n",
    "forest_reg = RandomForestRegressor(random_state=42)\n",
    "# train across 5 folds, that's a total of (12+6)*5=90 rounds of training \n",
    "grid_search = GridSearchCV(forest_reg, param_grid, cv=5,\n",
    "                           scoring='neg_mean_squared_error', return_train_score=True)\n",
    "grid_search.fit(housing_prepared, housing_labels)"
   ]
  },
  {
   "cell_type": "code",
   "execution_count": 66,
   "metadata": {},
   "outputs": [
    {
     "data": {
      "text/plain": [
       "{'max_features': 8, 'n_estimators': 30}"
      ]
     },
     "execution_count": 66,
     "metadata": {},
     "output_type": "execute_result"
    }
   ],
   "source": [
    "grid_search.best_params_"
   ]
  },
  {
   "cell_type": "code",
   "execution_count": 67,
   "metadata": {},
   "outputs": [
    {
     "data": {
      "text/plain": [
       "RandomForestRegressor(max_features=8, n_estimators=30, random_state=42)"
      ]
     },
     "execution_count": 67,
     "metadata": {},
     "output_type": "execute_result"
    }
   ],
   "source": [
    "grid_search.best_estimator_\n",
    "\n"
   ]
  },
  {
   "cell_type": "code",
   "execution_count": 68,
   "metadata": {},
   "outputs": [
    {
     "name": "stdout",
     "output_type": "stream",
     "text": [
      "63669.11631261028 {'max_features': 2, 'n_estimators': 3}\n",
      "55627.099719926795 {'max_features': 2, 'n_estimators': 10}\n",
      "53384.57275149205 {'max_features': 2, 'n_estimators': 30}\n",
      "60965.950449450494 {'max_features': 4, 'n_estimators': 3}\n",
      "52741.04704299915 {'max_features': 4, 'n_estimators': 10}\n",
      "50377.40461678399 {'max_features': 4, 'n_estimators': 30}\n",
      "58663.93866579625 {'max_features': 6, 'n_estimators': 3}\n",
      "52006.19873526564 {'max_features': 6, 'n_estimators': 10}\n",
      "50146.51167415009 {'max_features': 6, 'n_estimators': 30}\n",
      "57869.25276169646 {'max_features': 8, 'n_estimators': 3}\n",
      "51711.127883959234 {'max_features': 8, 'n_estimators': 10}\n",
      "49682.273345071546 {'max_features': 8, 'n_estimators': 30}\n",
      "62895.06951262424 {'bootstrap': False, 'max_features': 2, 'n_estimators': 3}\n",
      "54658.176157539405 {'bootstrap': False, 'max_features': 2, 'n_estimators': 10}\n",
      "59470.40652318466 {'bootstrap': False, 'max_features': 3, 'n_estimators': 3}\n",
      "52724.9822587892 {'bootstrap': False, 'max_features': 3, 'n_estimators': 10}\n",
      "57490.5691951261 {'bootstrap': False, 'max_features': 4, 'n_estimators': 3}\n",
      "51009.495668875716 {'bootstrap': False, 'max_features': 4, 'n_estimators': 10}\n"
     ]
    }
   ],
   "source": [
    "cvres = grid_search.cv_results_\n",
    "for mean_score, params in zip(cvres[\"mean_test_score\"], cvres[\"params\"]):\n",
    "    print(np.sqrt(-mean_score), params)"
   ]
  },
  {
   "cell_type": "code",
   "execution_count": 69,
   "metadata": {},
   "outputs": [
    {
     "data": {
      "text/plain": [
       "array([7.33442355e-02, 6.29090705e-02, 4.11437985e-02, 1.46726854e-02,\n",
       "       1.41064835e-02, 1.48742809e-02, 1.42575993e-02, 3.66158981e-01,\n",
       "       5.64191792e-02, 1.08792957e-01, 5.33510773e-02, 1.03114883e-02,\n",
       "       1.64780994e-01, 6.02803867e-05, 1.96041560e-03, 2.85647464e-03])"
      ]
     },
     "execution_count": 69,
     "metadata": {},
     "output_type": "execute_result"
    }
   ],
   "source": [
    "feature_importances = grid_search.best_estimator_.feature_importances_\n",
    "feature_importances"
   ]
  },
  {
   "cell_type": "code",
   "execution_count": 70,
   "metadata": {},
   "outputs": [
    {
     "data": {
      "text/plain": [
       "[(0.36615898061813423, 'median_income'),\n",
       " (0.16478099356159054, 'INLAND'),\n",
       " (0.10879295677551575, 'pop_per_hhold'),\n",
       " (0.07334423551601243, 'longitude'),\n",
       " (0.06290907048262032, 'latitude'),\n",
       " (0.056419179181954014, 'rooms_per_hhold'),\n",
       " (0.053351077347675815, 'bedrooms_per_room'),\n",
       " (0.04114379847872964, 'housing_median_age'),\n",
       " (0.014874280890402769, 'population'),\n",
       " (0.014672685420543239, 'total_rooms'),\n",
       " (0.014257599323407808, 'households'),\n",
       " (0.014106483453584104, 'total_bedrooms'),\n",
       " (0.010311488326303788, '<1H OCEAN'),\n",
       " (0.0028564746373201584, 'NEAR OCEAN'),\n",
       " (0.0019604155994780706, 'NEAR BAY'),\n",
       " (6.0280386727366e-05, 'ISLAND')]"
      ]
     },
     "execution_count": 70,
     "metadata": {},
     "output_type": "execute_result"
    }
   ],
   "source": [
    "extra_attribs = [\"rooms_per_hhold\", \"pop_per_hhold\", \"bedrooms_per_room\"]\n",
    "#cat_encoder = cat_pipeline.named_steps[\"cat_encoder\"] # old solution\n",
    "cat_encoder = full_pipeline.named_transformers_[\"cat\"]\n",
    "cat_one_hot_attribs = list(cat_encoder.categories_[0])\n",
    "attributes = num_attribs + extra_attribs + cat_one_hot_attribs\n",
    "sorted(zip(feature_importances, attributes), reverse=True)"
   ]
  },
  {
   "cell_type": "markdown",
   "metadata": {},
   "source": [
    "## Evaluating model"
   ]
  },
  {
   "cell_type": "code",
   "execution_count": 71,
   "metadata": {},
   "outputs": [],
   "source": [
    "final_model = grid_search.best_estimator_\n",
    "X_test = strat_test_set.drop(\"median_house_value\", axis=1)\n",
    "y_test = strat_test_set[\"median_house_value\"].copy()\n",
    "X_test_prepared = full_pipeline.transform(X_test)\n",
    "final_predictions = final_model.predict(X_test_prepared)\n",
    "final_mse = mean_squared_error(y_test, final_predictions)\n",
    "final_rmse = np.sqrt(final_mse) "
   ]
  },
  {
   "cell_type": "code",
   "execution_count": 72,
   "metadata": {},
   "outputs": [
    {
     "data": {
      "text/plain": [
       "47730.22690385927"
      ]
     },
     "execution_count": 72,
     "metadata": {},
     "output_type": "execute_result"
    }
   ],
   "source": [
    "final_rmse"
   ]
  },
  {
   "cell_type": "code",
   "execution_count": 73,
   "metadata": {},
   "outputs": [
    {
     "data": {
      "text/plain": [
       "array([45685.10470776, 49691.25001878])"
      ]
     },
     "execution_count": 73,
     "metadata": {},
     "output_type": "execute_result"
    }
   ],
   "source": [
    "from scipy import stats\n",
    "confidence = 0.95\n",
    "squared_errors = (final_predictions - y_test)**2\n",
    "np.sqrt(stats.t.interval(confidence, len(squared_errors) - 1,\n",
    "                        loc=squared_errors.mean(),\n",
    "                        scale=stats.sem(squared_errors)))"
   ]
  },
  {
   "cell_type": "code",
   "execution_count": 74,
   "metadata": {},
   "outputs": [
    {
     "data": {
      "text/html": [
       "<div>\n",
       "<style scoped>\n",
       "    .dataframe tbody tr th:only-of-type {\n",
       "        vertical-align: middle;\n",
       "    }\n",
       "\n",
       "    .dataframe tbody tr th {\n",
       "        vertical-align: top;\n",
       "    }\n",
       "\n",
       "    .dataframe thead th {\n",
       "        text-align: right;\n",
       "    }\n",
       "</style>\n",
       "<table border=\"1\" class=\"dataframe\">\n",
       "  <thead>\n",
       "    <tr style=\"text-align: right;\">\n",
       "      <th></th>\n",
       "      <th>0</th>\n",
       "      <th>1</th>\n",
       "    </tr>\n",
       "  </thead>\n",
       "  <tbody>\n",
       "    <tr>\n",
       "      <th>0</th>\n",
       "      <td>495467.500000</td>\n",
       "      <td>500001.0</td>\n",
       "    </tr>\n",
       "    <tr>\n",
       "      <th>1</th>\n",
       "      <td>262676.700000</td>\n",
       "      <td>240300.0</td>\n",
       "    </tr>\n",
       "    <tr>\n",
       "      <th>2</th>\n",
       "      <td>235380.000000</td>\n",
       "      <td>218200.0</td>\n",
       "    </tr>\n",
       "    <tr>\n",
       "      <th>3</th>\n",
       "      <td>211883.333333</td>\n",
       "      <td>182100.0</td>\n",
       "    </tr>\n",
       "    <tr>\n",
       "      <th>4</th>\n",
       "      <td>135516.666667</td>\n",
       "      <td>121300.0</td>\n",
       "    </tr>\n",
       "  </tbody>\n",
       "</table>\n",
       "</div>"
      ],
      "text/plain": [
       "               0         1\n",
       "0  495467.500000  500001.0\n",
       "1  262676.700000  240300.0\n",
       "2  235380.000000  218200.0\n",
       "3  211883.333333  182100.0\n",
       "4  135516.666667  121300.0"
      ]
     },
     "execution_count": 74,
     "metadata": {},
     "output_type": "execute_result"
    }
   ],
   "source": [
    "results = pd.DataFrame([final_predictions, y_test]).transpose()\n",
    "results.head()"
   ]
  },
  {
   "cell_type": "markdown",
   "metadata": {},
   "source": [
    "## EXERCISES"
   ]
  },
  {
   "cell_type": "code",
   "execution_count": 75,
   "metadata": {
    "scrolled": true
   },
   "outputs": [
    {
     "name": "stdout",
     "output_type": "stream",
     "text": [
      "Fitting 5 folds for each of 50 candidates, totalling 250 fits\n",
      "[CV] C=10.0, kernel=linear ...........................................\n"
     ]
    },
    {
     "name": "stderr",
     "output_type": "stream",
     "text": [
      "[Parallel(n_jobs=1)]: Using backend SequentialBackend with 1 concurrent workers.\n"
     ]
    },
    {
     "name": "stdout",
     "output_type": "stream",
     "text": [
      "[CV] ............................ C=10.0, kernel=linear, total=   5.7s\n",
      "[CV] C=10.0, kernel=linear ...........................................\n"
     ]
    },
    {
     "name": "stderr",
     "output_type": "stream",
     "text": [
      "[Parallel(n_jobs=1)]: Done   1 out of   1 | elapsed:    5.6s remaining:    0.0s\n"
     ]
    },
    {
     "name": "stdout",
     "output_type": "stream",
     "text": [
      "[CV] ............................ C=10.0, kernel=linear, total=   5.5s\n",
      "[CV] C=10.0, kernel=linear ...........................................\n",
      "[CV] ............................ C=10.0, kernel=linear, total=   5.7s\n",
      "[CV] C=10.0, kernel=linear ...........................................\n",
      "[CV] ............................ C=10.0, kernel=linear, total=   5.7s\n",
      "[CV] C=10.0, kernel=linear ...........................................\n",
      "[CV] ............................ C=10.0, kernel=linear, total=   5.5s\n",
      "[CV] C=30.0, kernel=linear ...........................................\n",
      "[CV] ............................ C=30.0, kernel=linear, total=   5.5s\n",
      "[CV] C=30.0, kernel=linear ...........................................\n",
      "[CV] ............................ C=30.0, kernel=linear, total=   5.6s\n",
      "[CV] C=30.0, kernel=linear ...........................................\n",
      "[CV] ............................ C=30.0, kernel=linear, total=   5.6s\n",
      "[CV] C=30.0, kernel=linear ...........................................\n",
      "[CV] ............................ C=30.0, kernel=linear, total=   5.7s\n",
      "[CV] C=30.0, kernel=linear ...........................................\n",
      "[CV] ............................ C=30.0, kernel=linear, total=   5.5s\n",
      "[CV] C=100.0, kernel=linear ..........................................\n",
      "[CV] ........................... C=100.0, kernel=linear, total=   5.6s\n",
      "[CV] C=100.0, kernel=linear ..........................................\n",
      "[CV] ........................... C=100.0, kernel=linear, total=   5.5s\n",
      "[CV] C=100.0, kernel=linear ..........................................\n",
      "[CV] ........................... C=100.0, kernel=linear, total=   5.5s\n",
      "[CV] C=100.0, kernel=linear ..........................................\n",
      "[CV] ........................... C=100.0, kernel=linear, total=   5.4s\n",
      "[CV] C=100.0, kernel=linear ..........................................\n",
      "[CV] ........................... C=100.0, kernel=linear, total=   5.5s\n",
      "[CV] C=300.0, kernel=linear ..........................................\n",
      "[CV] ........................... C=300.0, kernel=linear, total=   5.5s\n",
      "[CV] C=300.0, kernel=linear ..........................................\n",
      "[CV] ........................... C=300.0, kernel=linear, total=   5.6s\n",
      "[CV] C=300.0, kernel=linear ..........................................\n",
      "[CV] ........................... C=300.0, kernel=linear, total=   5.6s\n",
      "[CV] C=300.0, kernel=linear ..........................................\n",
      "[CV] ........................... C=300.0, kernel=linear, total=   5.5s\n",
      "[CV] C=300.0, kernel=linear ..........................................\n",
      "[CV] ........................... C=300.0, kernel=linear, total=   5.5s\n",
      "[CV] C=1000.0, kernel=linear .........................................\n",
      "[CV] .......................... C=1000.0, kernel=linear, total=   5.8s\n",
      "[CV] C=1000.0, kernel=linear .........................................\n",
      "[CV] .......................... C=1000.0, kernel=linear, total=   5.8s\n",
      "[CV] C=1000.0, kernel=linear .........................................\n",
      "[CV] .......................... C=1000.0, kernel=linear, total=   5.8s\n",
      "[CV] C=1000.0, kernel=linear .........................................\n",
      "[CV] .......................... C=1000.0, kernel=linear, total=   5.9s\n",
      "[CV] C=1000.0, kernel=linear .........................................\n",
      "[CV] .......................... C=1000.0, kernel=linear, total=   5.8s\n",
      "[CV] C=3000.0, kernel=linear .........................................\n",
      "[CV] .......................... C=3000.0, kernel=linear, total=   6.3s\n",
      "[CV] C=3000.0, kernel=linear .........................................\n",
      "[CV] .......................... C=3000.0, kernel=linear, total=   6.2s\n",
      "[CV] C=3000.0, kernel=linear .........................................\n",
      "[CV] .......................... C=3000.0, kernel=linear, total=   6.4s\n",
      "[CV] C=3000.0, kernel=linear .........................................\n",
      "[CV] .......................... C=3000.0, kernel=linear, total=   6.3s\n",
      "[CV] C=3000.0, kernel=linear .........................................\n",
      "[CV] .......................... C=3000.0, kernel=linear, total=   6.1s\n",
      "[CV] C=10000.0, kernel=linear ........................................\n",
      "[CV] ......................... C=10000.0, kernel=linear, total=   8.4s\n",
      "[CV] C=10000.0, kernel=linear ........................................\n",
      "[CV] ......................... C=10000.0, kernel=linear, total=   8.3s\n",
      "[CV] C=10000.0, kernel=linear ........................................\n",
      "[CV] ......................... C=10000.0, kernel=linear, total=   8.5s\n",
      "[CV] C=10000.0, kernel=linear ........................................\n",
      "[CV] ......................... C=10000.0, kernel=linear, total=   8.3s\n",
      "[CV] C=10000.0, kernel=linear ........................................\n",
      "[CV] ......................... C=10000.0, kernel=linear, total=   7.6s\n",
      "[CV] C=30000.0, kernel=linear ........................................\n",
      "[CV] ......................... C=30000.0, kernel=linear, total=  16.2s\n",
      "[CV] C=30000.0, kernel=linear ........................................\n",
      "[CV] ......................... C=30000.0, kernel=linear, total=  27.4s\n",
      "[CV] C=30000.0, kernel=linear ........................................\n",
      "[CV] ......................... C=30000.0, kernel=linear, total=  24.4s\n",
      "[CV] C=30000.0, kernel=linear ........................................\n",
      "[CV] ......................... C=30000.0, kernel=linear, total=  17.3s\n",
      "[CV] C=30000.0, kernel=linear ........................................\n",
      "[CV] ......................... C=30000.0, kernel=linear, total=  14.0s\n",
      "[CV] C=1.0, gamma=0.01, kernel=rbf ...................................\n",
      "[CV] .................... C=1.0, gamma=0.01, kernel=rbf, total=  13.9s\n",
      "[CV] C=1.0, gamma=0.01, kernel=rbf ...................................\n",
      "[CV] .................... C=1.0, gamma=0.01, kernel=rbf, total=  14.6s\n",
      "[CV] C=1.0, gamma=0.01, kernel=rbf ...................................\n",
      "[CV] .................... C=1.0, gamma=0.01, kernel=rbf, total=  13.1s\n",
      "[CV] C=1.0, gamma=0.01, kernel=rbf ...................................\n",
      "[CV] .................... C=1.0, gamma=0.01, kernel=rbf, total=   9.3s\n",
      "[CV] C=1.0, gamma=0.01, kernel=rbf ...................................\n",
      "[CV] .................... C=1.0, gamma=0.01, kernel=rbf, total=   9.1s\n",
      "[CV] C=1.0, gamma=0.03, kernel=rbf ...................................\n",
      "[CV] .................... C=1.0, gamma=0.03, kernel=rbf, total=   9.1s\n",
      "[CV] C=1.0, gamma=0.03, kernel=rbf ...................................\n",
      "[CV] .................... C=1.0, gamma=0.03, kernel=rbf, total=   9.2s\n",
      "[CV] C=1.0, gamma=0.03, kernel=rbf ...................................\n",
      "[CV] .................... C=1.0, gamma=0.03, kernel=rbf, total=   9.4s\n",
      "[CV] C=1.0, gamma=0.03, kernel=rbf ...................................\n",
      "[CV] .................... C=1.0, gamma=0.03, kernel=rbf, total=   9.1s\n",
      "[CV] C=1.0, gamma=0.03, kernel=rbf ...................................\n",
      "[CV] .................... C=1.0, gamma=0.03, kernel=rbf, total=   9.2s\n",
      "[CV] C=1.0, gamma=0.1, kernel=rbf ....................................\n",
      "[CV] ..................... C=1.0, gamma=0.1, kernel=rbf, total=   9.0s\n",
      "[CV] C=1.0, gamma=0.1, kernel=rbf ....................................\n",
      "[CV] ..................... C=1.0, gamma=0.1, kernel=rbf, total=   9.1s\n",
      "[CV] C=1.0, gamma=0.1, kernel=rbf ....................................\n",
      "[CV] ..................... C=1.0, gamma=0.1, kernel=rbf, total=   9.2s\n",
      "[CV] C=1.0, gamma=0.1, kernel=rbf ....................................\n",
      "[CV] ..................... C=1.0, gamma=0.1, kernel=rbf, total=   9.1s\n",
      "[CV] C=1.0, gamma=0.1, kernel=rbf ....................................\n",
      "[CV] ..................... C=1.0, gamma=0.1, kernel=rbf, total=   9.0s\n",
      "[CV] C=1.0, gamma=0.3, kernel=rbf ....................................\n",
      "[CV] ..................... C=1.0, gamma=0.3, kernel=rbf, total=   8.7s\n",
      "[CV] C=1.0, gamma=0.3, kernel=rbf ....................................\n",
      "[CV] ..................... C=1.0, gamma=0.3, kernel=rbf, total=   8.9s\n",
      "[CV] C=1.0, gamma=0.3, kernel=rbf ....................................\n",
      "[CV] ..................... C=1.0, gamma=0.3, kernel=rbf, total=   8.7s\n",
      "[CV] C=1.0, gamma=0.3, kernel=rbf ....................................\n",
      "[CV] ..................... C=1.0, gamma=0.3, kernel=rbf, total=   8.7s\n",
      "[CV] C=1.0, gamma=0.3, kernel=rbf ....................................\n"
     ]
    },
    {
     "name": "stdout",
     "output_type": "stream",
     "text": [
      "[CV] ..................... C=1.0, gamma=0.3, kernel=rbf, total=   8.7s\n",
      "[CV] C=1.0, gamma=1.0, kernel=rbf ....................................\n",
      "[CV] ..................... C=1.0, gamma=1.0, kernel=rbf, total=   8.5s\n",
      "[CV] C=1.0, gamma=1.0, kernel=rbf ....................................\n",
      "[CV] ..................... C=1.0, gamma=1.0, kernel=rbf, total=   8.4s\n",
      "[CV] C=1.0, gamma=1.0, kernel=rbf ....................................\n",
      "[CV] ..................... C=1.0, gamma=1.0, kernel=rbf, total=   8.5s\n",
      "[CV] C=1.0, gamma=1.0, kernel=rbf ....................................\n",
      "[CV] ..................... C=1.0, gamma=1.0, kernel=rbf, total=   8.5s\n",
      "[CV] C=1.0, gamma=1.0, kernel=rbf ....................................\n",
      "[CV] ..................... C=1.0, gamma=1.0, kernel=rbf, total=   8.7s\n",
      "[CV] C=1.0, gamma=3.0, kernel=rbf ....................................\n",
      "[CV] ..................... C=1.0, gamma=3.0, kernel=rbf, total=  14.2s\n",
      "[CV] C=1.0, gamma=3.0, kernel=rbf ....................................\n",
      "[CV] ..................... C=1.0, gamma=3.0, kernel=rbf, total=  12.4s\n",
      "[CV] C=1.0, gamma=3.0, kernel=rbf ....................................\n",
      "[CV] ..................... C=1.0, gamma=3.0, kernel=rbf, total=  12.0s\n",
      "[CV] C=1.0, gamma=3.0, kernel=rbf ....................................\n",
      "[CV] ..................... C=1.0, gamma=3.0, kernel=rbf, total=  12.1s\n",
      "[CV] C=1.0, gamma=3.0, kernel=rbf ....................................\n",
      "[CV] ..................... C=1.0, gamma=3.0, kernel=rbf, total=  13.9s\n",
      "[CV] C=3.0, gamma=0.01, kernel=rbf ...................................\n",
      "[CV] .................... C=3.0, gamma=0.01, kernel=rbf, total=  12.2s\n",
      "[CV] C=3.0, gamma=0.01, kernel=rbf ...................................\n",
      "[CV] .................... C=3.0, gamma=0.01, kernel=rbf, total=  11.1s\n",
      "[CV] C=3.0, gamma=0.01, kernel=rbf ...................................\n",
      "[CV] .................... C=3.0, gamma=0.01, kernel=rbf, total=  16.8s\n",
      "[CV] C=3.0, gamma=0.01, kernel=rbf ...................................\n",
      "[CV] .................... C=3.0, gamma=0.01, kernel=rbf, total=  11.4s\n",
      "[CV] C=3.0, gamma=0.01, kernel=rbf ...................................\n",
      "[CV] .................... C=3.0, gamma=0.01, kernel=rbf, total=  15.1s\n",
      "[CV] C=3.0, gamma=0.03, kernel=rbf ...................................\n",
      "[CV] .................... C=3.0, gamma=0.03, kernel=rbf, total=  13.2s\n",
      "[CV] C=3.0, gamma=0.03, kernel=rbf ...................................\n",
      "[CV] .................... C=3.0, gamma=0.03, kernel=rbf, total=  11.6s\n",
      "[CV] C=3.0, gamma=0.03, kernel=rbf ...................................\n",
      "[CV] .................... C=3.0, gamma=0.03, kernel=rbf, total=  13.0s\n",
      "[CV] C=3.0, gamma=0.03, kernel=rbf ...................................\n",
      "[CV] .................... C=3.0, gamma=0.03, kernel=rbf, total=  13.9s\n",
      "[CV] C=3.0, gamma=0.03, kernel=rbf ...................................\n",
      "[CV] .................... C=3.0, gamma=0.03, kernel=rbf, total=  10.0s\n",
      "[CV] C=3.0, gamma=0.1, kernel=rbf ....................................\n",
      "[CV] ..................... C=3.0, gamma=0.1, kernel=rbf, total=   9.4s\n",
      "[CV] C=3.0, gamma=0.1, kernel=rbf ....................................\n",
      "[CV] ..................... C=3.0, gamma=0.1, kernel=rbf, total=  11.3s\n",
      "[CV] C=3.0, gamma=0.1, kernel=rbf ....................................\n",
      "[CV] ..................... C=3.0, gamma=0.1, kernel=rbf, total=  11.2s\n",
      "[CV] C=3.0, gamma=0.1, kernel=rbf ....................................\n",
      "[CV] ..................... C=3.0, gamma=0.1, kernel=rbf, total=  13.6s\n",
      "[CV] C=3.0, gamma=0.1, kernel=rbf ....................................\n",
      "[CV] ..................... C=3.0, gamma=0.1, kernel=rbf, total=  10.8s\n",
      "[CV] C=3.0, gamma=0.3, kernel=rbf ....................................\n",
      "[CV] ..................... C=3.0, gamma=0.3, kernel=rbf, total=  11.2s\n",
      "[CV] C=3.0, gamma=0.3, kernel=rbf ....................................\n",
      "[CV] ..................... C=3.0, gamma=0.3, kernel=rbf, total=  13.5s\n",
      "[CV] C=3.0, gamma=0.3, kernel=rbf ....................................\n",
      "[CV] ..................... C=3.0, gamma=0.3, kernel=rbf, total=  11.2s\n",
      "[CV] C=3.0, gamma=0.3, kernel=rbf ....................................\n",
      "[CV] ..................... C=3.0, gamma=0.3, kernel=rbf, total=  11.8s\n",
      "[CV] C=3.0, gamma=0.3, kernel=rbf ....................................\n",
      "[CV] ..................... C=3.0, gamma=0.3, kernel=rbf, total=  11.5s\n",
      "[CV] C=3.0, gamma=1.0, kernel=rbf ....................................\n",
      "[CV] ..................... C=3.0, gamma=1.0, kernel=rbf, total=  10.4s\n",
      "[CV] C=3.0, gamma=1.0, kernel=rbf ....................................\n",
      "[CV] ..................... C=3.0, gamma=1.0, kernel=rbf, total=  10.9s\n",
      "[CV] C=3.0, gamma=1.0, kernel=rbf ....................................\n",
      "[CV] ..................... C=3.0, gamma=1.0, kernel=rbf, total=   9.3s\n",
      "[CV] C=3.0, gamma=1.0, kernel=rbf ....................................\n",
      "[CV] ..................... C=3.0, gamma=1.0, kernel=rbf, total=   6.9s\n",
      "[CV] C=3.0, gamma=1.0, kernel=rbf ....................................\n",
      "[CV] ..................... C=3.0, gamma=1.0, kernel=rbf, total=   6.9s\n",
      "[CV] C=3.0, gamma=3.0, kernel=rbf ....................................\n",
      "[CV] ..................... C=3.0, gamma=3.0, kernel=rbf, total=   7.6s\n",
      "[CV] C=3.0, gamma=3.0, kernel=rbf ....................................\n",
      "[CV] ..................... C=3.0, gamma=3.0, kernel=rbf, total=   7.6s\n",
      "[CV] C=3.0, gamma=3.0, kernel=rbf ....................................\n",
      "[CV] ..................... C=3.0, gamma=3.0, kernel=rbf, total=   7.7s\n",
      "[CV] C=3.0, gamma=3.0, kernel=rbf ....................................\n",
      "[CV] ..................... C=3.0, gamma=3.0, kernel=rbf, total=   7.5s\n",
      "[CV] C=3.0, gamma=3.0, kernel=rbf ....................................\n",
      "[CV] ..................... C=3.0, gamma=3.0, kernel=rbf, total=   7.8s\n",
      "[CV] C=10.0, gamma=0.01, kernel=rbf ..................................\n",
      "[CV] ................... C=10.0, gamma=0.01, kernel=rbf, total=   8.7s\n",
      "[CV] C=10.0, gamma=0.01, kernel=rbf ..................................\n",
      "[CV] ................... C=10.0, gamma=0.01, kernel=rbf, total=   9.0s\n",
      "[CV] C=10.0, gamma=0.01, kernel=rbf ..................................\n",
      "[CV] ................... C=10.0, gamma=0.01, kernel=rbf, total=   8.0s\n",
      "[CV] C=10.0, gamma=0.01, kernel=rbf ..................................\n",
      "[CV] ................... C=10.0, gamma=0.01, kernel=rbf, total=   8.0s\n",
      "[CV] C=10.0, gamma=0.01, kernel=rbf ..................................\n",
      "[CV] ................... C=10.0, gamma=0.01, kernel=rbf, total=   8.1s\n",
      "[CV] C=10.0, gamma=0.03, kernel=rbf ..................................\n",
      "[CV] ................... C=10.0, gamma=0.03, kernel=rbf, total=   8.0s\n",
      "[CV] C=10.0, gamma=0.03, kernel=rbf ..................................\n",
      "[CV] ................... C=10.0, gamma=0.03, kernel=rbf, total=   7.9s\n",
      "[CV] C=10.0, gamma=0.03, kernel=rbf ..................................\n",
      "[CV] ................... C=10.0, gamma=0.03, kernel=rbf, total=   7.9s\n",
      "[CV] C=10.0, gamma=0.03, kernel=rbf ..................................\n",
      "[CV] ................... C=10.0, gamma=0.03, kernel=rbf, total=   8.0s\n",
      "[CV] C=10.0, gamma=0.03, kernel=rbf ..................................\n",
      "[CV] ................... C=10.0, gamma=0.03, kernel=rbf, total=   8.1s\n",
      "[CV] C=10.0, gamma=0.1, kernel=rbf ...................................\n",
      "[CV] .................... C=10.0, gamma=0.1, kernel=rbf, total=   7.9s\n",
      "[CV] C=10.0, gamma=0.1, kernel=rbf ...................................\n",
      "[CV] .................... C=10.0, gamma=0.1, kernel=rbf, total=   8.2s\n",
      "[CV] C=10.0, gamma=0.1, kernel=rbf ...................................\n",
      "[CV] .................... C=10.0, gamma=0.1, kernel=rbf, total=   8.9s\n",
      "[CV] C=10.0, gamma=0.1, kernel=rbf ...................................\n",
      "[CV] .................... C=10.0, gamma=0.1, kernel=rbf, total=   8.6s\n",
      "[CV] C=10.0, gamma=0.1, kernel=rbf ...................................\n",
      "[CV] .................... C=10.0, gamma=0.1, kernel=rbf, total=   8.5s\n",
      "[CV] C=10.0, gamma=0.3, kernel=rbf ...................................\n",
      "[CV] .................... C=10.0, gamma=0.3, kernel=rbf, total=   7.7s\n",
      "[CV] C=10.0, gamma=0.3, kernel=rbf ...................................\n",
      "[CV] .................... C=10.0, gamma=0.3, kernel=rbf, total=   7.7s\n",
      "[CV] C=10.0, gamma=0.3, kernel=rbf ...................................\n"
     ]
    },
    {
     "name": "stdout",
     "output_type": "stream",
     "text": [
      "[CV] .................... C=10.0, gamma=0.3, kernel=rbf, total=   7.8s\n",
      "[CV] C=10.0, gamma=0.3, kernel=rbf ...................................\n",
      "[CV] .................... C=10.0, gamma=0.3, kernel=rbf, total=   7.7s\n",
      "[CV] C=10.0, gamma=0.3, kernel=rbf ...................................\n",
      "[CV] .................... C=10.0, gamma=0.3, kernel=rbf, total=   8.4s\n",
      "[CV] C=10.0, gamma=1.0, kernel=rbf ...................................\n",
      "[CV] .................... C=10.0, gamma=1.0, kernel=rbf, total=   8.3s\n",
      "[CV] C=10.0, gamma=1.0, kernel=rbf ...................................\n",
      "[CV] .................... C=10.0, gamma=1.0, kernel=rbf, total=   7.4s\n",
      "[CV] C=10.0, gamma=1.0, kernel=rbf ...................................\n",
      "[CV] .................... C=10.0, gamma=1.0, kernel=rbf, total=   7.2s\n",
      "[CV] C=10.0, gamma=1.0, kernel=rbf ...................................\n",
      "[CV] .................... C=10.0, gamma=1.0, kernel=rbf, total=   7.7s\n",
      "[CV] C=10.0, gamma=1.0, kernel=rbf ...................................\n",
      "[CV] .................... C=10.0, gamma=1.0, kernel=rbf, total=   8.3s\n",
      "[CV] C=10.0, gamma=3.0, kernel=rbf ...................................\n",
      "[CV] .................... C=10.0, gamma=3.0, kernel=rbf, total=  10.4s\n",
      "[CV] C=10.0, gamma=3.0, kernel=rbf ...................................\n",
      "[CV] .................... C=10.0, gamma=3.0, kernel=rbf, total=  11.7s\n",
      "[CV] C=10.0, gamma=3.0, kernel=rbf ...................................\n",
      "[CV] .................... C=10.0, gamma=3.0, kernel=rbf, total=   9.9s\n",
      "[CV] C=10.0, gamma=3.0, kernel=rbf ...................................\n",
      "[CV] .................... C=10.0, gamma=3.0, kernel=rbf, total=   9.3s\n",
      "[CV] C=10.0, gamma=3.0, kernel=rbf ...................................\n",
      "[CV] .................... C=10.0, gamma=3.0, kernel=rbf, total=  10.0s\n",
      "[CV] C=30.0, gamma=0.01, kernel=rbf ..................................\n",
      "[CV] ................... C=30.0, gamma=0.01, kernel=rbf, total=   9.3s\n",
      "[CV] C=30.0, gamma=0.01, kernel=rbf ..................................\n",
      "[CV] ................... C=30.0, gamma=0.01, kernel=rbf, total=   8.6s\n",
      "[CV] C=30.0, gamma=0.01, kernel=rbf ..................................\n",
      "[CV] ................... C=30.0, gamma=0.01, kernel=rbf, total=   8.4s\n",
      "[CV] C=30.0, gamma=0.01, kernel=rbf ..................................\n",
      "[CV] ................... C=30.0, gamma=0.01, kernel=rbf, total=  11.4s\n",
      "[CV] C=30.0, gamma=0.01, kernel=rbf ..................................\n",
      "[CV] ................... C=30.0, gamma=0.01, kernel=rbf, total=  11.9s\n",
      "[CV] C=30.0, gamma=0.03, kernel=rbf ..................................\n",
      "[CV] ................... C=30.0, gamma=0.03, kernel=rbf, total=  10.2s\n",
      "[CV] C=30.0, gamma=0.03, kernel=rbf ..................................\n",
      "[CV] ................... C=30.0, gamma=0.03, kernel=rbf, total=   9.0s\n",
      "[CV] C=30.0, gamma=0.03, kernel=rbf ..................................\n",
      "[CV] ................... C=30.0, gamma=0.03, kernel=rbf, total=   8.9s\n",
      "[CV] C=30.0, gamma=0.03, kernel=rbf ..................................\n",
      "[CV] ................... C=30.0, gamma=0.03, kernel=rbf, total=   7.9s\n",
      "[CV] C=30.0, gamma=0.03, kernel=rbf ..................................\n",
      "[CV] ................... C=30.0, gamma=0.03, kernel=rbf, total=   8.8s\n",
      "[CV] C=30.0, gamma=0.1, kernel=rbf ...................................\n",
      "[CV] .................... C=30.0, gamma=0.1, kernel=rbf, total=   8.8s\n",
      "[CV] C=30.0, gamma=0.1, kernel=rbf ...................................\n",
      "[CV] .................... C=30.0, gamma=0.1, kernel=rbf, total=   9.0s\n",
      "[CV] C=30.0, gamma=0.1, kernel=rbf ...................................\n",
      "[CV] .................... C=30.0, gamma=0.1, kernel=rbf, total=  11.0s\n",
      "[CV] C=30.0, gamma=0.1, kernel=rbf ...................................\n",
      "[CV] .................... C=30.0, gamma=0.1, kernel=rbf, total=   9.4s\n",
      "[CV] C=30.0, gamma=0.1, kernel=rbf ...................................\n",
      "[CV] .................... C=30.0, gamma=0.1, kernel=rbf, total=   8.7s\n",
      "[CV] C=30.0, gamma=0.3, kernel=rbf ...................................\n",
      "[CV] .................... C=30.0, gamma=0.3, kernel=rbf, total=   9.7s\n",
      "[CV] C=30.0, gamma=0.3, kernel=rbf ...................................\n",
      "[CV] .................... C=30.0, gamma=0.3, kernel=rbf, total=  10.3s\n",
      "[CV] C=30.0, gamma=0.3, kernel=rbf ...................................\n",
      "[CV] .................... C=30.0, gamma=0.3, kernel=rbf, total=  10.4s\n",
      "[CV] C=30.0, gamma=0.3, kernel=rbf ...................................\n",
      "[CV] .................... C=30.0, gamma=0.3, kernel=rbf, total=  10.7s\n",
      "[CV] C=30.0, gamma=0.3, kernel=rbf ...................................\n",
      "[CV] .................... C=30.0, gamma=0.3, kernel=rbf, total=  11.2s\n",
      "[CV] C=30.0, gamma=1.0, kernel=rbf ...................................\n",
      "[CV] .................... C=30.0, gamma=1.0, kernel=rbf, total=   9.6s\n",
      "[CV] C=30.0, gamma=1.0, kernel=rbf ...................................\n",
      "[CV] .................... C=30.0, gamma=1.0, kernel=rbf, total=   8.6s\n",
      "[CV] C=30.0, gamma=1.0, kernel=rbf ...................................\n",
      "[CV] .................... C=30.0, gamma=1.0, kernel=rbf, total=   9.4s\n",
      "[CV] C=30.0, gamma=1.0, kernel=rbf ...................................\n",
      "[CV] .................... C=30.0, gamma=1.0, kernel=rbf, total=   9.6s\n",
      "[CV] C=30.0, gamma=1.0, kernel=rbf ...................................\n",
      "[CV] .................... C=30.0, gamma=1.0, kernel=rbf, total=   9.7s\n",
      "[CV] C=30.0, gamma=3.0, kernel=rbf ...................................\n",
      "[CV] .................... C=30.0, gamma=3.0, kernel=rbf, total=  10.2s\n",
      "[CV] C=30.0, gamma=3.0, kernel=rbf ...................................\n",
      "[CV] .................... C=30.0, gamma=3.0, kernel=rbf, total=   8.9s\n",
      "[CV] C=30.0, gamma=3.0, kernel=rbf ...................................\n",
      "[CV] .................... C=30.0, gamma=3.0, kernel=rbf, total=   9.0s\n",
      "[CV] C=30.0, gamma=3.0, kernel=rbf ...................................\n",
      "[CV] .................... C=30.0, gamma=3.0, kernel=rbf, total=   9.9s\n",
      "[CV] C=30.0, gamma=3.0, kernel=rbf ...................................\n",
      "[CV] .................... C=30.0, gamma=3.0, kernel=rbf, total=  10.4s\n",
      "[CV] C=100.0, gamma=0.01, kernel=rbf .................................\n",
      "[CV] .................. C=100.0, gamma=0.01, kernel=rbf, total=  10.4s\n",
      "[CV] C=100.0, gamma=0.01, kernel=rbf .................................\n",
      "[CV] .................. C=100.0, gamma=0.01, kernel=rbf, total=  10.2s\n",
      "[CV] C=100.0, gamma=0.01, kernel=rbf .................................\n",
      "[CV] .................. C=100.0, gamma=0.01, kernel=rbf, total=  10.7s\n",
      "[CV] C=100.0, gamma=0.01, kernel=rbf .................................\n",
      "[CV] .................. C=100.0, gamma=0.01, kernel=rbf, total=  10.5s\n",
      "[CV] C=100.0, gamma=0.01, kernel=rbf .................................\n",
      "[CV] .................. C=100.0, gamma=0.01, kernel=rbf, total=   9.9s\n",
      "[CV] C=100.0, gamma=0.03, kernel=rbf .................................\n",
      "[CV] .................. C=100.0, gamma=0.03, kernel=rbf, total=  10.5s\n",
      "[CV] C=100.0, gamma=0.03, kernel=rbf .................................\n",
      "[CV] .................. C=100.0, gamma=0.03, kernel=rbf, total=   9.9s\n",
      "[CV] C=100.0, gamma=0.03, kernel=rbf .................................\n",
      "[CV] .................. C=100.0, gamma=0.03, kernel=rbf, total=  11.9s\n",
      "[CV] C=100.0, gamma=0.03, kernel=rbf .................................\n",
      "[CV] .................. C=100.0, gamma=0.03, kernel=rbf, total=  10.9s\n",
      "[CV] C=100.0, gamma=0.03, kernel=rbf .................................\n",
      "[CV] .................. C=100.0, gamma=0.03, kernel=rbf, total=  10.8s\n",
      "[CV] C=100.0, gamma=0.1, kernel=rbf ..................................\n",
      "[CV] ................... C=100.0, gamma=0.1, kernel=rbf, total=  11.4s\n",
      "[CV] C=100.0, gamma=0.1, kernel=rbf ..................................\n",
      "[CV] ................... C=100.0, gamma=0.1, kernel=rbf, total=  10.2s\n",
      "[CV] C=100.0, gamma=0.1, kernel=rbf ..................................\n",
      "[CV] ................... C=100.0, gamma=0.1, kernel=rbf, total=  10.2s\n",
      "[CV] C=100.0, gamma=0.1, kernel=rbf ..................................\n",
      "[CV] ................... C=100.0, gamma=0.1, kernel=rbf, total=   9.9s\n",
      "[CV] C=100.0, gamma=0.1, kernel=rbf ..................................\n",
      "[CV] ................... C=100.0, gamma=0.1, kernel=rbf, total=  11.8s\n",
      "[CV] C=100.0, gamma=0.3, kernel=rbf ..................................\n"
     ]
    },
    {
     "name": "stdout",
     "output_type": "stream",
     "text": [
      "[CV] ................... C=100.0, gamma=0.3, kernel=rbf, total=  11.1s\n",
      "[CV] C=100.0, gamma=0.3, kernel=rbf ..................................\n",
      "[CV] ................... C=100.0, gamma=0.3, kernel=rbf, total=  10.4s\n",
      "[CV] C=100.0, gamma=0.3, kernel=rbf ..................................\n",
      "[CV] ................... C=100.0, gamma=0.3, kernel=rbf, total=   9.8s\n",
      "[CV] C=100.0, gamma=0.3, kernel=rbf ..................................\n",
      "[CV] ................... C=100.0, gamma=0.3, kernel=rbf, total=  10.7s\n",
      "[CV] C=100.0, gamma=0.3, kernel=rbf ..................................\n",
      "[CV] ................... C=100.0, gamma=0.3, kernel=rbf, total=   9.9s\n",
      "[CV] C=100.0, gamma=1.0, kernel=rbf ..................................\n",
      "[CV] ................... C=100.0, gamma=1.0, kernel=rbf, total=   9.8s\n",
      "[CV] C=100.0, gamma=1.0, kernel=rbf ..................................\n",
      "[CV] ................... C=100.0, gamma=1.0, kernel=rbf, total=   9.3s\n",
      "[CV] C=100.0, gamma=1.0, kernel=rbf ..................................\n",
      "[CV] ................... C=100.0, gamma=1.0, kernel=rbf, total=   9.2s\n",
      "[CV] C=100.0, gamma=1.0, kernel=rbf ..................................\n",
      "[CV] ................... C=100.0, gamma=1.0, kernel=rbf, total=  10.1s\n",
      "[CV] C=100.0, gamma=1.0, kernel=rbf ..................................\n",
      "[CV] ................... C=100.0, gamma=1.0, kernel=rbf, total=  10.4s\n",
      "[CV] C=100.0, gamma=3.0, kernel=rbf ..................................\n",
      "[CV] ................... C=100.0, gamma=3.0, kernel=rbf, total=  11.6s\n",
      "[CV] C=100.0, gamma=3.0, kernel=rbf ..................................\n",
      "[CV] ................... C=100.0, gamma=3.0, kernel=rbf, total=  11.6s\n",
      "[CV] C=100.0, gamma=3.0, kernel=rbf ..................................\n",
      "[CV] ................... C=100.0, gamma=3.0, kernel=rbf, total=  12.5s\n",
      "[CV] C=100.0, gamma=3.0, kernel=rbf ..................................\n",
      "[CV] ................... C=100.0, gamma=3.0, kernel=rbf, total=  12.2s\n",
      "[CV] C=100.0, gamma=3.0, kernel=rbf ..................................\n",
      "[CV] ................... C=100.0, gamma=3.0, kernel=rbf, total=  11.5s\n",
      "[CV] C=300.0, gamma=0.01, kernel=rbf .................................\n",
      "[CV] .................. C=300.0, gamma=0.01, kernel=rbf, total=  11.4s\n",
      "[CV] C=300.0, gamma=0.01, kernel=rbf .................................\n",
      "[CV] .................. C=300.0, gamma=0.01, kernel=rbf, total=  11.1s\n",
      "[CV] C=300.0, gamma=0.01, kernel=rbf .................................\n",
      "[CV] .................. C=300.0, gamma=0.01, kernel=rbf, total=  11.3s\n",
      "[CV] C=300.0, gamma=0.01, kernel=rbf .................................\n",
      "[CV] .................. C=300.0, gamma=0.01, kernel=rbf, total=  10.8s\n",
      "[CV] C=300.0, gamma=0.01, kernel=rbf .................................\n",
      "[CV] .................. C=300.0, gamma=0.01, kernel=rbf, total=  12.7s\n",
      "[CV] C=300.0, gamma=0.03, kernel=rbf .................................\n",
      "[CV] .................. C=300.0, gamma=0.03, kernel=rbf, total=  13.2s\n",
      "[CV] C=300.0, gamma=0.03, kernel=rbf .................................\n",
      "[CV] .................. C=300.0, gamma=0.03, kernel=rbf, total=  12.1s\n",
      "[CV] C=300.0, gamma=0.03, kernel=rbf .................................\n",
      "[CV] .................. C=300.0, gamma=0.03, kernel=rbf, total=  10.5s\n",
      "[CV] C=300.0, gamma=0.03, kernel=rbf .................................\n",
      "[CV] .................. C=300.0, gamma=0.03, kernel=rbf, total=  11.4s\n",
      "[CV] C=300.0, gamma=0.03, kernel=rbf .................................\n",
      "[CV] .................. C=300.0, gamma=0.03, kernel=rbf, total=  10.4s\n",
      "[CV] C=300.0, gamma=0.1, kernel=rbf ..................................\n",
      "[CV] ................... C=300.0, gamma=0.1, kernel=rbf, total=  10.6s\n",
      "[CV] C=300.0, gamma=0.1, kernel=rbf ..................................\n",
      "[CV] ................... C=300.0, gamma=0.1, kernel=rbf, total=  10.9s\n",
      "[CV] C=300.0, gamma=0.1, kernel=rbf ..................................\n",
      "[CV] ................... C=300.0, gamma=0.1, kernel=rbf, total=  13.8s\n",
      "[CV] C=300.0, gamma=0.1, kernel=rbf ..................................\n",
      "[CV] ................... C=300.0, gamma=0.1, kernel=rbf, total=  12.2s\n",
      "[CV] C=300.0, gamma=0.1, kernel=rbf ..................................\n",
      "[CV] ................... C=300.0, gamma=0.1, kernel=rbf, total=  11.4s\n",
      "[CV] C=300.0, gamma=0.3, kernel=rbf ..................................\n",
      "[CV] ................... C=300.0, gamma=0.3, kernel=rbf, total=   9.6s\n",
      "[CV] C=300.0, gamma=0.3, kernel=rbf ..................................\n",
      "[CV] ................... C=300.0, gamma=0.3, kernel=rbf, total=  10.3s\n",
      "[CV] C=300.0, gamma=0.3, kernel=rbf ..................................\n",
      "[CV] ................... C=300.0, gamma=0.3, kernel=rbf, total=  10.6s\n",
      "[CV] C=300.0, gamma=0.3, kernel=rbf ..................................\n",
      "[CV] ................... C=300.0, gamma=0.3, kernel=rbf, total=  10.9s\n",
      "[CV] C=300.0, gamma=0.3, kernel=rbf ..................................\n",
      "[CV] ................... C=300.0, gamma=0.3, kernel=rbf, total=  10.8s\n",
      "[CV] C=300.0, gamma=1.0, kernel=rbf ..................................\n",
      "[CV] ................... C=300.0, gamma=1.0, kernel=rbf, total=   9.7s\n",
      "[CV] C=300.0, gamma=1.0, kernel=rbf ..................................\n",
      "[CV] ................... C=300.0, gamma=1.0, kernel=rbf, total=  10.6s\n",
      "[CV] C=300.0, gamma=1.0, kernel=rbf ..................................\n",
      "[CV] ................... C=300.0, gamma=1.0, kernel=rbf, total=  10.6s\n",
      "[CV] C=300.0, gamma=1.0, kernel=rbf ..................................\n",
      "[CV] ................... C=300.0, gamma=1.0, kernel=rbf, total=   9.9s\n",
      "[CV] C=300.0, gamma=1.0, kernel=rbf ..................................\n",
      "[CV] ................... C=300.0, gamma=1.0, kernel=rbf, total=  11.5s\n",
      "[CV] C=300.0, gamma=3.0, kernel=rbf ..................................\n",
      "[CV] ................... C=300.0, gamma=3.0, kernel=rbf, total=  12.0s\n",
      "[CV] C=300.0, gamma=3.0, kernel=rbf ..................................\n",
      "[CV] ................... C=300.0, gamma=3.0, kernel=rbf, total=  11.7s\n",
      "[CV] C=300.0, gamma=3.0, kernel=rbf ..................................\n",
      "[CV] ................... C=300.0, gamma=3.0, kernel=rbf, total=  12.1s\n",
      "[CV] C=300.0, gamma=3.0, kernel=rbf ..................................\n",
      "[CV] ................... C=300.0, gamma=3.0, kernel=rbf, total=  13.0s\n",
      "[CV] C=300.0, gamma=3.0, kernel=rbf ..................................\n",
      "[CV] ................... C=300.0, gamma=3.0, kernel=rbf, total=  12.2s\n",
      "[CV] C=1000.0, gamma=0.01, kernel=rbf ................................\n",
      "[CV] ................. C=1000.0, gamma=0.01, kernel=rbf, total=  10.2s\n",
      "[CV] C=1000.0, gamma=0.01, kernel=rbf ................................\n",
      "[CV] ................. C=1000.0, gamma=0.01, kernel=rbf, total=   9.0s\n",
      "[CV] C=1000.0, gamma=0.01, kernel=rbf ................................\n",
      "[CV] ................. C=1000.0, gamma=0.01, kernel=rbf, total=  10.2s\n",
      "[CV] C=1000.0, gamma=0.01, kernel=rbf ................................\n",
      "[CV] ................. C=1000.0, gamma=0.01, kernel=rbf, total=   9.8s\n",
      "[CV] C=1000.0, gamma=0.01, kernel=rbf ................................\n",
      "[CV] ................. C=1000.0, gamma=0.01, kernel=rbf, total=  10.1s\n",
      "[CV] C=1000.0, gamma=0.03, kernel=rbf ................................\n",
      "[CV] ................. C=1000.0, gamma=0.03, kernel=rbf, total=   9.5s\n",
      "[CV] C=1000.0, gamma=0.03, kernel=rbf ................................\n",
      "[CV] ................. C=1000.0, gamma=0.03, kernel=rbf, total=   9.7s\n",
      "[CV] C=1000.0, gamma=0.03, kernel=rbf ................................\n",
      "[CV] ................. C=1000.0, gamma=0.03, kernel=rbf, total=  11.3s\n",
      "[CV] C=1000.0, gamma=0.03, kernel=rbf ................................\n",
      "[CV] ................. C=1000.0, gamma=0.03, kernel=rbf, total=  12.3s\n",
      "[CV] C=1000.0, gamma=0.03, kernel=rbf ................................\n",
      "[CV] ................. C=1000.0, gamma=0.03, kernel=rbf, total=  10.0s\n",
      "[CV] C=1000.0, gamma=0.1, kernel=rbf .................................\n",
      "[CV] .................. C=1000.0, gamma=0.1, kernel=rbf, total=   9.6s\n",
      "[CV] C=1000.0, gamma=0.1, kernel=rbf .................................\n",
      "[CV] .................. C=1000.0, gamma=0.1, kernel=rbf, total=   9.7s\n",
      "[CV] C=1000.0, gamma=0.1, kernel=rbf .................................\n",
      "[CV] .................. C=1000.0, gamma=0.1, kernel=rbf, total=   9.6s\n",
      "[CV] C=1000.0, gamma=0.1, kernel=rbf .................................\n"
     ]
    },
    {
     "name": "stdout",
     "output_type": "stream",
     "text": [
      "[CV] .................. C=1000.0, gamma=0.1, kernel=rbf, total=   9.7s\n",
      "[CV] C=1000.0, gamma=0.1, kernel=rbf .................................\n",
      "[CV] .................. C=1000.0, gamma=0.1, kernel=rbf, total=   9.7s\n",
      "[CV] C=1000.0, gamma=0.3, kernel=rbf .................................\n",
      "[CV] .................. C=1000.0, gamma=0.3, kernel=rbf, total=   9.1s\n",
      "[CV] C=1000.0, gamma=0.3, kernel=rbf .................................\n",
      "[CV] .................. C=1000.0, gamma=0.3, kernel=rbf, total=  10.5s\n",
      "[CV] C=1000.0, gamma=0.3, kernel=rbf .................................\n",
      "[CV] .................. C=1000.0, gamma=0.3, kernel=rbf, total=  10.3s\n",
      "[CV] C=1000.0, gamma=0.3, kernel=rbf .................................\n",
      "[CV] .................. C=1000.0, gamma=0.3, kernel=rbf, total=   9.8s\n",
      "[CV] C=1000.0, gamma=0.3, kernel=rbf .................................\n",
      "[CV] .................. C=1000.0, gamma=0.3, kernel=rbf, total=   9.9s\n",
      "[CV] C=1000.0, gamma=1.0, kernel=rbf .................................\n",
      "[CV] .................. C=1000.0, gamma=1.0, kernel=rbf, total=  10.4s\n",
      "[CV] C=1000.0, gamma=1.0, kernel=rbf .................................\n",
      "[CV] .................. C=1000.0, gamma=1.0, kernel=rbf, total=  10.5s\n",
      "[CV] C=1000.0, gamma=1.0, kernel=rbf .................................\n",
      "[CV] .................. C=1000.0, gamma=1.0, kernel=rbf, total=   9.8s\n",
      "[CV] C=1000.0, gamma=1.0, kernel=rbf .................................\n",
      "[CV] .................. C=1000.0, gamma=1.0, kernel=rbf, total=   9.8s\n",
      "[CV] C=1000.0, gamma=1.0, kernel=rbf .................................\n",
      "[CV] .................. C=1000.0, gamma=1.0, kernel=rbf, total=  10.6s\n",
      "[CV] C=1000.0, gamma=3.0, kernel=rbf .................................\n",
      "[CV] .................. C=1000.0, gamma=3.0, kernel=rbf, total=  11.0s\n",
      "[CV] C=1000.0, gamma=3.0, kernel=rbf .................................\n",
      "[CV] .................. C=1000.0, gamma=3.0, kernel=rbf, total=   9.3s\n",
      "[CV] C=1000.0, gamma=3.0, kernel=rbf .................................\n",
      "[CV] .................. C=1000.0, gamma=3.0, kernel=rbf, total=   9.4s\n",
      "[CV] C=1000.0, gamma=3.0, kernel=rbf .................................\n",
      "[CV] .................. C=1000.0, gamma=3.0, kernel=rbf, total=  11.9s\n",
      "[CV] C=1000.0, gamma=3.0, kernel=rbf .................................\n",
      "[CV] .................. C=1000.0, gamma=3.0, kernel=rbf, total=  11.8s\n"
     ]
    },
    {
     "name": "stderr",
     "output_type": "stream",
     "text": [
      "[Parallel(n_jobs=1)]: Done 250 out of 250 | elapsed: 40.8min finished\n"
     ]
    },
    {
     "data": {
      "text/plain": [
       "GridSearchCV(cv=5, estimator=SVR(),\n",
       "             param_grid=[{'C': [10.0, 30.0, 100.0, 300.0, 1000.0, 3000.0,\n",
       "                                10000.0, 30000.0],\n",
       "                          'kernel': ['linear']},\n",
       "                         {'C': [1.0, 3.0, 10.0, 30.0, 100.0, 300.0, 1000.0],\n",
       "                          'gamma': [0.01, 0.03, 0.1, 0.3, 1.0, 3.0],\n",
       "                          'kernel': ['rbf']}],\n",
       "             scoring='neg_mean_squared_error', verbose=2)"
      ]
     },
     "execution_count": 75,
     "metadata": {},
     "output_type": "execute_result"
    }
   ],
   "source": [
    "from sklearn.model_selection import GridSearchCV\n",
    "from sklearn.svm import SVR\n",
    "\n",
    "param_grid = [\n",
    "        {'kernel': ['linear'], 'C': [10., 30., 100., 300., 1000., 3000., 10000., 30000.0]},\n",
    "        {'kernel': ['rbf'], 'C': [1.0, 3.0, 10., 30., 100., 300., 1000.0],\n",
    "         'gamma': [0.01, 0.03, 0.1, 0.3, 1.0, 3.0]},\n",
    "    ]\n",
    "\n",
    "svm_reg = SVR()\n",
    "grid_search = GridSearchCV(svm_reg, param_grid, cv=5, scoring='neg_mean_squared_error', verbose=2)\n",
    "grid_search.fit(housing_prepared, housing_labels)"
   ]
  },
  {
   "cell_type": "code",
   "execution_count": 76,
   "metadata": {},
   "outputs": [
    {
     "data": {
      "text/plain": [
       "70363.84006944533"
      ]
     },
     "execution_count": 76,
     "metadata": {},
     "output_type": "execute_result"
    }
   ],
   "source": [
    "negative_mse = grid_search.best_score_\n",
    "rmse = np.sqrt(-negative_mse)\n",
    "rmse"
   ]
  },
  {
   "cell_type": "code",
   "execution_count": 77,
   "metadata": {},
   "outputs": [
    {
     "data": {
      "text/plain": [
       "{'C': 30000.0, 'kernel': 'linear'}"
      ]
     },
     "execution_count": 77,
     "metadata": {},
     "output_type": "execute_result"
    }
   ],
   "source": [
    "\n",
    "grid_search.best_params_"
   ]
  },
  {
   "cell_type": "markdown",
   "metadata": {},
   "source": [
    "## 2\n"
   ]
  },
  {
   "cell_type": "code",
   "execution_count": 78,
   "metadata": {
    "scrolled": true
   },
   "outputs": [
    {
     "name": "stdout",
     "output_type": "stream",
     "text": [
      "Fitting 5 folds for each of 50 candidates, totalling 250 fits\n",
      "[CV] C=629.782329591372, gamma=3.010121430917521, kernel=linear ......\n"
     ]
    },
    {
     "name": "stderr",
     "output_type": "stream",
     "text": [
      "[Parallel(n_jobs=1)]: Using backend SequentialBackend with 1 concurrent workers.\n"
     ]
    },
    {
     "name": "stdout",
     "output_type": "stream",
     "text": [
      "[CV]  C=629.782329591372, gamma=3.010121430917521, kernel=linear, total=   6.7s\n",
      "[CV] C=629.782329591372, gamma=3.010121430917521, kernel=linear ......\n"
     ]
    },
    {
     "name": "stderr",
     "output_type": "stream",
     "text": [
      "[Parallel(n_jobs=1)]: Done   1 out of   1 | elapsed:    6.6s remaining:    0.0s\n"
     ]
    },
    {
     "name": "stdout",
     "output_type": "stream",
     "text": [
      "[CV]  C=629.782329591372, gamma=3.010121430917521, kernel=linear, total=   7.5s\n",
      "[CV] C=629.782329591372, gamma=3.010121430917521, kernel=linear ......\n",
      "[CV]  C=629.782329591372, gamma=3.010121430917521, kernel=linear, total=   7.4s\n",
      "[CV] C=629.782329591372, gamma=3.010121430917521, kernel=linear ......\n",
      "[CV]  C=629.782329591372, gamma=3.010121430917521, kernel=linear, total=   6.8s\n",
      "[CV] C=629.782329591372, gamma=3.010121430917521, kernel=linear ......\n",
      "[CV]  C=629.782329591372, gamma=3.010121430917521, kernel=linear, total=   7.1s\n",
      "[CV] C=26290.206464300216, gamma=0.9084469696321253, kernel=rbf ......\n",
      "[CV]  C=26290.206464300216, gamma=0.9084469696321253, kernel=rbf, total=  13.7s\n",
      "[CV] C=26290.206464300216, gamma=0.9084469696321253, kernel=rbf ......\n",
      "[CV]  C=26290.206464300216, gamma=0.9084469696321253, kernel=rbf, total=  12.3s\n",
      "[CV] C=26290.206464300216, gamma=0.9084469696321253, kernel=rbf ......\n",
      "[CV]  C=26290.206464300216, gamma=0.9084469696321253, kernel=rbf, total=  12.2s\n",
      "[CV] C=26290.206464300216, gamma=0.9084469696321253, kernel=rbf ......\n",
      "[CV]  C=26290.206464300216, gamma=0.9084469696321253, kernel=rbf, total=  12.4s\n",
      "[CV] C=26290.206464300216, gamma=0.9084469696321253, kernel=rbf ......\n",
      "[CV]  C=26290.206464300216, gamma=0.9084469696321253, kernel=rbf, total=  12.6s\n",
      "[CV] C=84.14107900575871, gamma=0.059838768608680676, kernel=rbf .....\n",
      "[CV]  C=84.14107900575871, gamma=0.059838768608680676, kernel=rbf, total=  10.5s\n",
      "[CV] C=84.14107900575871, gamma=0.059838768608680676, kernel=rbf .....\n",
      "[CV]  C=84.14107900575871, gamma=0.059838768608680676, kernel=rbf, total=  10.3s\n",
      "[CV] C=84.14107900575871, gamma=0.059838768608680676, kernel=rbf .....\n",
      "[CV]  C=84.14107900575871, gamma=0.059838768608680676, kernel=rbf, total=  10.3s\n",
      "[CV] C=84.14107900575871, gamma=0.059838768608680676, kernel=rbf .....\n",
      "[CV]  C=84.14107900575871, gamma=0.059838768608680676, kernel=rbf, total=  10.5s\n",
      "[CV] C=84.14107900575871, gamma=0.059838768608680676, kernel=rbf .....\n",
      "[CV]  C=84.14107900575871, gamma=0.059838768608680676, kernel=rbf, total=  10.4s\n",
      "[CV] C=432.37884813148855, gamma=0.15416196746656105, kernel=linear ..\n",
      "[CV]  C=432.37884813148855, gamma=0.15416196746656105, kernel=linear, total=   6.4s\n",
      "[CV] C=432.37884813148855, gamma=0.15416196746656105, kernel=linear ..\n",
      "[CV]  C=432.37884813148855, gamma=0.15416196746656105, kernel=linear, total=   6.6s\n",
      "[CV] C=432.37884813148855, gamma=0.15416196746656105, kernel=linear ..\n",
      "[CV]  C=432.37884813148855, gamma=0.15416196746656105, kernel=linear, total=   6.9s\n",
      "[CV] C=432.37884813148855, gamma=0.15416196746656105, kernel=linear ..\n",
      "[CV]  C=432.37884813148855, gamma=0.15416196746656105, kernel=linear, total=   6.7s\n",
      "[CV] C=432.37884813148855, gamma=0.15416196746656105, kernel=linear ..\n",
      "[CV]  C=432.37884813148855, gamma=0.15416196746656105, kernel=linear, total=   6.6s\n",
      "[CV] C=24.17508294611391, gamma=3.503557475158312, kernel=rbf ........\n",
      "[CV]  C=24.17508294611391, gamma=3.503557475158312, kernel=rbf, total=  11.1s\n",
      "[CV] C=24.17508294611391, gamma=3.503557475158312, kernel=rbf ........\n",
      "[CV]  C=24.17508294611391, gamma=3.503557475158312, kernel=rbf, total=  11.0s\n",
      "[CV] C=24.17508294611391, gamma=3.503557475158312, kernel=rbf ........\n",
      "[CV]  C=24.17508294611391, gamma=3.503557475158312, kernel=rbf, total=  11.5s\n",
      "[CV] C=24.17508294611391, gamma=3.503557475158312, kernel=rbf ........\n",
      "[CV]  C=24.17508294611391, gamma=3.503557475158312, kernel=rbf, total=  11.2s\n",
      "[CV] C=24.17508294611391, gamma=3.503557475158312, kernel=rbf ........\n",
      "[CV]  C=24.17508294611391, gamma=3.503557475158312, kernel=rbf, total=  11.2s\n",
      "[CV] C=113564.03940586245, gamma=0.0007790692366582295, kernel=rbf ...\n",
      "[CV]  C=113564.03940586245, gamma=0.0007790692366582295, kernel=rbf, total=  10.0s\n",
      "[CV] C=113564.03940586245, gamma=0.0007790692366582295, kernel=rbf ...\n",
      "[CV]  C=113564.03940586245, gamma=0.0007790692366582295, kernel=rbf, total=  10.2s\n",
      "[CV] C=113564.03940586245, gamma=0.0007790692366582295, kernel=rbf ...\n",
      "[CV]  C=113564.03940586245, gamma=0.0007790692366582295, kernel=rbf, total=  10.2s\n",
      "[CV] C=113564.03940586245, gamma=0.0007790692366582295, kernel=rbf ...\n",
      "[CV]  C=113564.03940586245, gamma=0.0007790692366582295, kernel=rbf, total=  10.1s\n",
      "[CV] C=113564.03940586245, gamma=0.0007790692366582295, kernel=rbf ...\n",
      "[CV]  C=113564.03940586245, gamma=0.0007790692366582295, kernel=rbf, total=  10.0s\n",
      "[CV] C=108.30488238805073, gamma=0.3627537294604771, kernel=rbf ......\n",
      "[CV]  C=108.30488238805073, gamma=0.3627537294604771, kernel=rbf, total=   8.5s\n",
      "[CV] C=108.30488238805073, gamma=0.3627537294604771, kernel=rbf ......\n",
      "[CV]  C=108.30488238805073, gamma=0.3627537294604771, kernel=rbf, total=   8.3s\n",
      "[CV] C=108.30488238805073, gamma=0.3627537294604771, kernel=rbf ......\n",
      "[CV]  C=108.30488238805073, gamma=0.3627537294604771, kernel=rbf, total=   9.0s\n",
      "[CV] C=108.30488238805073, gamma=0.3627537294604771, kernel=rbf ......\n",
      "[CV]  C=108.30488238805073, gamma=0.3627537294604771, kernel=rbf, total=   9.5s\n",
      "[CV] C=108.30488238805073, gamma=0.3627537294604771, kernel=rbf ......\n",
      "[CV]  C=108.30488238805073, gamma=0.3627537294604771, kernel=rbf, total=   9.8s\n",
      "[CV] C=21.344953672647435, gamma=0.023332523598323388, kernel=linear .\n",
      "[CV]  C=21.344953672647435, gamma=0.023332523598323388, kernel=linear, total=   6.5s\n",
      "[CV] C=21.344953672647435, gamma=0.023332523598323388, kernel=linear .\n",
      "[CV]  C=21.344953672647435, gamma=0.023332523598323388, kernel=linear, total=   6.5s\n",
      "[CV] C=21.344953672647435, gamma=0.023332523598323388, kernel=linear .\n",
      "[CV]  C=21.344953672647435, gamma=0.023332523598323388, kernel=linear, total=   6.0s\n",
      "[CV] C=21.344953672647435, gamma=0.023332523598323388, kernel=linear .\n",
      "[CV]  C=21.344953672647435, gamma=0.023332523598323388, kernel=linear, total=   5.7s\n",
      "[CV] C=21.344953672647435, gamma=0.023332523598323388, kernel=linear .\n",
      "[CV]  C=21.344953672647435, gamma=0.023332523598323388, kernel=linear, total=   5.4s\n",
      "[CV] C=5603.270317432516, gamma=0.15023452872733867, kernel=rbf ......\n",
      "[CV]  C=5603.270317432516, gamma=0.15023452872733867, kernel=rbf, total=   9.1s\n",
      "[CV] C=5603.270317432516, gamma=0.15023452872733867, kernel=rbf ......\n",
      "[CV]  C=5603.270317432516, gamma=0.15023452872733867, kernel=rbf, total=   9.8s\n",
      "[CV] C=5603.270317432516, gamma=0.15023452872733867, kernel=rbf ......\n",
      "[CV]  C=5603.270317432516, gamma=0.15023452872733867, kernel=rbf, total=   9.9s\n",
      "[CV] C=5603.270317432516, gamma=0.15023452872733867, kernel=rbf ......\n",
      "[CV]  C=5603.270317432516, gamma=0.15023452872733867, kernel=rbf, total=  10.0s\n",
      "[CV] C=5603.270317432516, gamma=0.15023452872733867, kernel=rbf ......\n",
      "[CV]  C=5603.270317432516, gamma=0.15023452872733867, kernel=rbf, total=   8.7s\n",
      "[CV] C=157055.10989448498, gamma=0.26497040005002437, kernel=rbf .....\n",
      "[CV]  C=157055.10989448498, gamma=0.26497040005002437, kernel=rbf, total=  23.8s\n",
      "[CV] C=157055.10989448498, gamma=0.26497040005002437, kernel=rbf .....\n",
      "[CV]  C=157055.10989448498, gamma=0.26497040005002437, kernel=rbf, total=  23.3s\n",
      "[CV] C=157055.10989448498, gamma=0.26497040005002437, kernel=rbf .....\n",
      "[CV]  C=157055.10989448498, gamma=0.26497040005002437, kernel=rbf, total=  22.7s\n",
      "[CV] C=157055.10989448498, gamma=0.26497040005002437, kernel=rbf .....\n",
      "[CV]  C=157055.10989448498, gamma=0.26497040005002437, kernel=rbf, total=  19.9s\n",
      "[CV] C=157055.10989448498, gamma=0.26497040005002437, kernel=rbf .....\n",
      "[CV]  C=157055.10989448498, gamma=0.26497040005002437, kernel=rbf, total=  23.8s\n",
      "[CV] C=27652.464358739708, gamma=0.2227358621286903, kernel=linear ...\n",
      "[CV]  C=27652.464358739708, gamma=0.2227358621286903, kernel=linear, total=  11.4s\n",
      "[CV] C=27652.464358739708, gamma=0.2227358621286903, kernel=linear ...\n",
      "[CV]  C=27652.464358739708, gamma=0.2227358621286903, kernel=linear, total=  11.9s\n",
      "[CV] C=27652.464358739708, gamma=0.2227358621286903, kernel=linear ...\n",
      "[CV]  C=27652.464358739708, gamma=0.2227358621286903, kernel=linear, total=  13.7s\n",
      "[CV] C=27652.464358739708, gamma=0.2227358621286903, kernel=linear ...\n",
      "[CV]  C=27652.464358739708, gamma=0.2227358621286903, kernel=linear, total=  10.9s\n",
      "[CV] C=27652.464358739708, gamma=0.2227358621286903, kernel=linear ...\n",
      "[CV]  C=27652.464358739708, gamma=0.2227358621286903, kernel=linear, total=  10.2s\n",
      "[CV] C=171377.39570378003, gamma=0.628789100540856, kernel=linear ....\n"
     ]
    },
    {
     "name": "stdout",
     "output_type": "stream",
     "text": [
      "[CV]  C=171377.39570378003, gamma=0.628789100540856, kernel=linear, total=  51.0s\n",
      "[CV] C=171377.39570378003, gamma=0.628789100540856, kernel=linear ....\n",
      "[CV]  C=171377.39570378003, gamma=0.628789100540856, kernel=linear, total=  37.0s\n",
      "[CV] C=171377.39570378003, gamma=0.628789100540856, kernel=linear ....\n",
      "[CV]  C=171377.39570378003, gamma=0.628789100540856, kernel=linear, total=  47.5s\n",
      "[CV] C=171377.39570378003, gamma=0.628789100540856, kernel=linear ....\n",
      "[CV]  C=171377.39570378003, gamma=0.628789100540856, kernel=linear, total=  41.9s\n",
      "[CV] C=171377.39570378003, gamma=0.628789100540856, kernel=linear ....\n",
      "[CV]  C=171377.39570378003, gamma=0.628789100540856, kernel=linear, total=  32.5s\n",
      "[CV] C=5385.293820172355, gamma=0.18696125197741642, kernel=linear ...\n",
      "[CV]  C=5385.293820172355, gamma=0.18696125197741642, kernel=linear, total=   7.2s\n",
      "[CV] C=5385.293820172355, gamma=0.18696125197741642, kernel=linear ...\n",
      "[CV]  C=5385.293820172355, gamma=0.18696125197741642, kernel=linear, total=   6.7s\n",
      "[CV] C=5385.293820172355, gamma=0.18696125197741642, kernel=linear ...\n",
      "[CV]  C=5385.293820172355, gamma=0.18696125197741642, kernel=linear, total=   7.0s\n",
      "[CV] C=5385.293820172355, gamma=0.18696125197741642, kernel=linear ...\n",
      "[CV]  C=5385.293820172355, gamma=0.18696125197741642, kernel=linear, total=   6.3s\n",
      "[CV] C=5385.293820172355, gamma=0.18696125197741642, kernel=linear ...\n",
      "[CV]  C=5385.293820172355, gamma=0.18696125197741642, kernel=linear, total=   6.1s\n",
      "[CV] C=22.59903216621323, gamma=2.850796878935603, kernel=rbf ........\n",
      "[CV]  C=22.59903216621323, gamma=2.850796878935603, kernel=rbf, total=   8.2s\n",
      "[CV] C=22.59903216621323, gamma=2.850796878935603, kernel=rbf ........\n",
      "[CV]  C=22.59903216621323, gamma=2.850796878935603, kernel=rbf, total=  11.2s\n",
      "[CV] C=22.59903216621323, gamma=2.850796878935603, kernel=rbf ........\n",
      "[CV]  C=22.59903216621323, gamma=2.850796878935603, kernel=rbf, total=  10.1s\n",
      "[CV] C=22.59903216621323, gamma=2.850796878935603, kernel=rbf ........\n",
      "[CV]  C=22.59903216621323, gamma=2.850796878935603, kernel=rbf, total=  10.0s\n",
      "[CV] C=22.59903216621323, gamma=2.850796878935603, kernel=rbf ........\n",
      "[CV]  C=22.59903216621323, gamma=2.850796878935603, kernel=rbf, total=   8.5s\n",
      "[CV] C=34246.75194632794, gamma=0.3632878599687583, kernel=linear ....\n",
      "[CV]  C=34246.75194632794, gamma=0.3632878599687583, kernel=linear, total=  13.2s\n",
      "[CV] C=34246.75194632794, gamma=0.3632878599687583, kernel=linear ....\n",
      "[CV]  C=34246.75194632794, gamma=0.3632878599687583, kernel=linear, total=  16.4s\n",
      "[CV] C=34246.75194632794, gamma=0.3632878599687583, kernel=linear ....\n",
      "[CV]  C=34246.75194632794, gamma=0.3632878599687583, kernel=linear, total=  16.6s\n",
      "[CV] C=34246.75194632794, gamma=0.3632878599687583, kernel=linear ....\n",
      "[CV]  C=34246.75194632794, gamma=0.3632878599687583, kernel=linear, total=  13.5s\n",
      "[CV] C=34246.75194632794, gamma=0.3632878599687583, kernel=linear ....\n",
      "[CV]  C=34246.75194632794, gamma=0.3632878599687583, kernel=linear, total=  12.6s\n",
      "[CV] C=167.7278956080511, gamma=0.2757870542258224, kernel=rbf .......\n",
      "[CV]  C=167.7278956080511, gamma=0.2757870542258224, kernel=rbf, total=   8.7s\n",
      "[CV] C=167.7278956080511, gamma=0.2757870542258224, kernel=rbf .......\n",
      "[CV]  C=167.7278956080511, gamma=0.2757870542258224, kernel=rbf, total=   8.9s\n",
      "[CV] C=167.7278956080511, gamma=0.2757870542258224, kernel=rbf .......\n",
      "[CV]  C=167.7278956080511, gamma=0.2757870542258224, kernel=rbf, total=   8.6s\n",
      "[CV] C=167.7278956080511, gamma=0.2757870542258224, kernel=rbf .......\n",
      "[CV]  C=167.7278956080511, gamma=0.2757870542258224, kernel=rbf, total=   8.0s\n",
      "[CV] C=167.7278956080511, gamma=0.2757870542258224, kernel=rbf .......\n",
      "[CV]  C=167.7278956080511, gamma=0.2757870542258224, kernel=rbf, total=   7.5s\n",
      "[CV] C=61.54360542501371, gamma=0.6835472281341501, kernel=linear ....\n",
      "[CV]  C=61.54360542501371, gamma=0.6835472281341501, kernel=linear, total=   5.5s\n",
      "[CV] C=61.54360542501371, gamma=0.6835472281341501, kernel=linear ....\n",
      "[CV]  C=61.54360542501371, gamma=0.6835472281341501, kernel=linear, total=   6.1s\n",
      "[CV] C=61.54360542501371, gamma=0.6835472281341501, kernel=linear ....\n",
      "[CV]  C=61.54360542501371, gamma=0.6835472281341501, kernel=linear, total=   7.3s\n",
      "[CV] C=61.54360542501371, gamma=0.6835472281341501, kernel=linear ....\n",
      "[CV]  C=61.54360542501371, gamma=0.6835472281341501, kernel=linear, total=   6.6s\n",
      "[CV] C=61.54360542501371, gamma=0.6835472281341501, kernel=linear ....\n",
      "[CV]  C=61.54360542501371, gamma=0.6835472281341501, kernel=linear, total=   6.9s\n",
      "[CV] C=98.73897389920914, gamma=0.4960365360493639, kernel=rbf .......\n",
      "[CV]  C=98.73897389920914, gamma=0.4960365360493639, kernel=rbf, total=   9.9s\n",
      "[CV] C=98.73897389920914, gamma=0.4960365360493639, kernel=rbf .......\n",
      "[CV]  C=98.73897389920914, gamma=0.4960365360493639, kernel=rbf, total=   9.5s\n",
      "[CV] C=98.73897389920914, gamma=0.4960365360493639, kernel=rbf .......\n",
      "[CV]  C=98.73897389920914, gamma=0.4960365360493639, kernel=rbf, total=   8.3s\n",
      "[CV] C=98.73897389920914, gamma=0.4960365360493639, kernel=rbf .......\n",
      "[CV]  C=98.73897389920914, gamma=0.4960365360493639, kernel=rbf, total=   9.8s\n",
      "[CV] C=98.73897389920914, gamma=0.4960365360493639, kernel=rbf .......\n",
      "[CV]  C=98.73897389920914, gamma=0.4960365360493639, kernel=rbf, total=  10.6s\n",
      "[CV] C=8935.505635947808, gamma=0.37354658165762367, kernel=rbf ......\n",
      "[CV]  C=8935.505635947808, gamma=0.37354658165762367, kernel=rbf, total=  10.3s\n",
      "[CV] C=8935.505635947808, gamma=0.37354658165762367, kernel=rbf ......\n",
      "[CV]  C=8935.505635947808, gamma=0.37354658165762367, kernel=rbf, total=  10.4s\n",
      "[CV] C=8935.505635947808, gamma=0.37354658165762367, kernel=rbf ......\n",
      "[CV]  C=8935.505635947808, gamma=0.37354658165762367, kernel=rbf, total=   9.9s\n",
      "[CV] C=8935.505635947808, gamma=0.37354658165762367, kernel=rbf ......\n",
      "[CV]  C=8935.505635947808, gamma=0.37354658165762367, kernel=rbf, total=   9.3s\n",
      "[CV] C=8935.505635947808, gamma=0.37354658165762367, kernel=rbf ......\n",
      "[CV]  C=8935.505635947808, gamma=0.37354658165762367, kernel=rbf, total=   9.0s\n",
      "[CV] C=135.76775824842434, gamma=0.838636245624803, kernel=linear ....\n",
      "[CV]  C=135.76775824842434, gamma=0.838636245624803, kernel=linear, total=   5.4s\n",
      "[CV] C=135.76775824842434, gamma=0.838636245624803, kernel=linear ....\n",
      "[CV]  C=135.76775824842434, gamma=0.838636245624803, kernel=linear, total=   5.5s\n",
      "[CV] C=135.76775824842434, gamma=0.838636245624803, kernel=linear ....\n",
      "[CV]  C=135.76775824842434, gamma=0.838636245624803, kernel=linear, total=   6.5s\n",
      "[CV] C=135.76775824842434, gamma=0.838636245624803, kernel=linear ....\n",
      "[CV]  C=135.76775824842434, gamma=0.838636245624803, kernel=linear, total=   6.8s\n",
      "[CV] C=135.76775824842434, gamma=0.838636245624803, kernel=linear ....\n",
      "[CV]  C=135.76775824842434, gamma=0.838636245624803, kernel=linear, total=   7.1s\n",
      "[CV] C=151136.20282548846, gamma=1.4922453771381408, kernel=rbf ......\n",
      "[CV]  C=151136.20282548846, gamma=1.4922453771381408, kernel=rbf, total= 2.5min\n",
      "[CV] C=151136.20282548846, gamma=1.4922453771381408, kernel=rbf ......\n",
      "[CV]  C=151136.20282548846, gamma=1.4922453771381408, kernel=rbf, total= 1.8min\n",
      "[CV] C=151136.20282548846, gamma=1.4922453771381408, kernel=rbf ......\n",
      "[CV]  C=151136.20282548846, gamma=1.4922453771381408, kernel=rbf, total= 1.7min\n",
      "[CV] C=151136.20282548846, gamma=1.4922453771381408, kernel=rbf ......\n",
      "[CV]  C=151136.20282548846, gamma=1.4922453771381408, kernel=rbf, total= 2.1min\n",
      "[CV] C=151136.20282548846, gamma=1.4922453771381408, kernel=rbf ......\n",
      "[CV]  C=151136.20282548846, gamma=1.4922453771381408, kernel=rbf, total= 2.1min\n",
      "[CV] C=761.4316758498783, gamma=2.6126336514161914, kernel=linear ....\n",
      "[CV]  C=761.4316758498783, gamma=2.6126336514161914, kernel=linear, total=   6.7s\n",
      "[CV] C=761.4316758498783, gamma=2.6126336514161914, kernel=linear ....\n",
      "[CV]  C=761.4316758498783, gamma=2.6126336514161914, kernel=linear, total=   6.8s\n",
      "[CV] C=761.4316758498783, gamma=2.6126336514161914, kernel=linear ....\n",
      "[CV]  C=761.4316758498783, gamma=2.6126336514161914, kernel=linear, total=   6.7s\n",
      "[CV] C=761.4316758498783, gamma=2.6126336514161914, kernel=linear ....\n",
      "[CV]  C=761.4316758498783, gamma=2.6126336514161914, kernel=linear, total=   6.8s\n",
      "[CV] C=761.4316758498783, gamma=2.6126336514161914, kernel=linear ....\n"
     ]
    },
    {
     "name": "stdout",
     "output_type": "stream",
     "text": [
      "[CV]  C=761.4316758498783, gamma=2.6126336514161914, kernel=linear, total=   7.1s\n",
      "[CV] C=97392.81883041795, gamma=0.09265545895311562, kernel=linear ...\n",
      "[CV]  C=97392.81883041795, gamma=0.09265545895311562, kernel=linear, total=  33.2s\n",
      "[CV] C=97392.81883041795, gamma=0.09265545895311562, kernel=linear ...\n",
      "[CV]  C=97392.81883041795, gamma=0.09265545895311562, kernel=linear, total=  30.5s\n",
      "[CV] C=97392.81883041795, gamma=0.09265545895311562, kernel=linear ...\n",
      "[CV]  C=97392.81883041795, gamma=0.09265545895311562, kernel=linear, total=  54.2s\n",
      "[CV] C=97392.81883041795, gamma=0.09265545895311562, kernel=linear ...\n",
      "[CV]  C=97392.81883041795, gamma=0.09265545895311562, kernel=linear, total=  32.7s\n",
      "[CV] C=97392.81883041795, gamma=0.09265545895311562, kernel=linear ...\n",
      "[CV]  C=97392.81883041795, gamma=0.09265545895311562, kernel=linear, total=  27.8s\n",
      "[CV] C=2423.0759984939164, gamma=3.248614270240346, kernel=linear ....\n",
      "[CV]  C=2423.0759984939164, gamma=3.248614270240346, kernel=linear, total=   7.6s\n",
      "[CV] C=2423.0759984939164, gamma=3.248614270240346, kernel=linear ....\n",
      "[CV]  C=2423.0759984939164, gamma=3.248614270240346, kernel=linear, total=   8.2s\n",
      "[CV] C=2423.0759984939164, gamma=3.248614270240346, kernel=linear ....\n",
      "[CV]  C=2423.0759984939164, gamma=3.248614270240346, kernel=linear, total=   7.3s\n",
      "[CV] C=2423.0759984939164, gamma=3.248614270240346, kernel=linear ....\n",
      "[CV]  C=2423.0759984939164, gamma=3.248614270240346, kernel=linear, total=   7.8s\n",
      "[CV] C=2423.0759984939164, gamma=3.248614270240346, kernel=linear ....\n",
      "[CV]  C=2423.0759984939164, gamma=3.248614270240346, kernel=linear, total=   7.3s\n",
      "[CV] C=717.3632997255095, gamma=0.3165604432088257, kernel=linear ....\n",
      "[CV]  C=717.3632997255095, gamma=0.3165604432088257, kernel=linear, total=   6.8s\n",
      "[CV] C=717.3632997255095, gamma=0.3165604432088257, kernel=linear ....\n",
      "[CV]  C=717.3632997255095, gamma=0.3165604432088257, kernel=linear, total=   6.6s\n",
      "[CV] C=717.3632997255095, gamma=0.3165604432088257, kernel=linear ....\n",
      "[CV]  C=717.3632997255095, gamma=0.3165604432088257, kernel=linear, total=   6.7s\n",
      "[CV] C=717.3632997255095, gamma=0.3165604432088257, kernel=linear ....\n",
      "[CV]  C=717.3632997255095, gamma=0.3165604432088257, kernel=linear, total=   6.9s\n",
      "[CV] C=717.3632997255095, gamma=0.3165604432088257, kernel=linear ....\n",
      "[CV]  C=717.3632997255095, gamma=0.3165604432088257, kernel=linear, total=   6.7s\n",
      "[CV] C=4446.667521184072, gamma=3.3597284456608496, kernel=rbf .......\n",
      "[CV]  C=4446.667521184072, gamma=3.3597284456608496, kernel=rbf, total=  10.6s\n",
      "[CV] C=4446.667521184072, gamma=3.3597284456608496, kernel=rbf .......\n",
      "[CV]  C=4446.667521184072, gamma=3.3597284456608496, kernel=rbf, total=  10.5s\n",
      "[CV] C=4446.667521184072, gamma=3.3597284456608496, kernel=rbf .......\n",
      "[CV]  C=4446.667521184072, gamma=3.3597284456608496, kernel=rbf, total=  11.5s\n",
      "[CV] C=4446.667521184072, gamma=3.3597284456608496, kernel=rbf .......\n",
      "[CV]  C=4446.667521184072, gamma=3.3597284456608496, kernel=rbf, total=  11.3s\n",
      "[CV] C=4446.667521184072, gamma=3.3597284456608496, kernel=rbf .......\n",
      "[CV]  C=4446.667521184072, gamma=3.3597284456608496, kernel=rbf, total=  11.4s\n",
      "[CV] C=2963.564121207815, gamma=0.15189814782062885, kernel=linear ...\n",
      "[CV]  C=2963.564121207815, gamma=0.15189814782062885, kernel=linear, total=   7.5s\n",
      "[CV] C=2963.564121207815, gamma=0.15189814782062885, kernel=linear ...\n",
      "[CV]  C=2963.564121207815, gamma=0.15189814782062885, kernel=linear, total=   8.0s\n",
      "[CV] C=2963.564121207815, gamma=0.15189814782062885, kernel=linear ...\n",
      "[CV]  C=2963.564121207815, gamma=0.15189814782062885, kernel=linear, total=   7.9s\n",
      "[CV] C=2963.564121207815, gamma=0.15189814782062885, kernel=linear ...\n",
      "[CV]  C=2963.564121207815, gamma=0.15189814782062885, kernel=linear, total=   7.4s\n",
      "[CV] C=2963.564121207815, gamma=0.15189814782062885, kernel=linear ...\n",
      "[CV]  C=2963.564121207815, gamma=0.15189814782062885, kernel=linear, total=   7.8s\n",
      "[CV] C=91.64267381686706, gamma=0.01575994483585621, kernel=linear ...\n",
      "[CV]  C=91.64267381686706, gamma=0.01575994483585621, kernel=linear, total=   6.5s\n",
      "[CV] C=91.64267381686706, gamma=0.01575994483585621, kernel=linear ...\n",
      "[CV]  C=91.64267381686706, gamma=0.01575994483585621, kernel=linear, total=   7.3s\n",
      "[CV] C=91.64267381686706, gamma=0.01575994483585621, kernel=linear ...\n",
      "[CV]  C=91.64267381686706, gamma=0.01575994483585621, kernel=linear, total=   7.0s\n",
      "[CV] C=91.64267381686706, gamma=0.01575994483585621, kernel=linear ...\n",
      "[CV]  C=91.64267381686706, gamma=0.01575994483585621, kernel=linear, total=   7.6s\n",
      "[CV] C=91.64267381686706, gamma=0.01575994483585621, kernel=linear ...\n",
      "[CV]  C=91.64267381686706, gamma=0.01575994483585621, kernel=linear, total=   6.5s\n",
      "[CV] C=24547.601975705915, gamma=0.22153944050588595, kernel=rbf .....\n",
      "[CV]  C=24547.601975705915, gamma=0.22153944050588595, kernel=rbf, total=  10.7s\n",
      "[CV] C=24547.601975705915, gamma=0.22153944050588595, kernel=rbf .....\n",
      "[CV]  C=24547.601975705915, gamma=0.22153944050588595, kernel=rbf, total=  11.3s\n",
      "[CV] C=24547.601975705915, gamma=0.22153944050588595, kernel=rbf .....\n",
      "[CV]  C=24547.601975705915, gamma=0.22153944050588595, kernel=rbf, total=   9.9s\n",
      "[CV] C=24547.601975705915, gamma=0.22153944050588595, kernel=rbf .....\n",
      "[CV]  C=24547.601975705915, gamma=0.22153944050588595, kernel=rbf, total=  10.7s\n",
      "[CV] C=24547.601975705915, gamma=0.22153944050588595, kernel=rbf .....\n",
      "[CV]  C=24547.601975705915, gamma=0.22153944050588595, kernel=rbf, total=  11.2s\n",
      "[CV] C=22.76927941060928, gamma=0.22169760231351215, kernel=rbf ......\n",
      "[CV]  C=22.76927941060928, gamma=0.22169760231351215, kernel=rbf, total=  10.8s\n",
      "[CV] C=22.76927941060928, gamma=0.22169760231351215, kernel=rbf ......\n",
      "[CV]  C=22.76927941060928, gamma=0.22169760231351215, kernel=rbf, total=  10.0s\n",
      "[CV] C=22.76927941060928, gamma=0.22169760231351215, kernel=rbf ......\n",
      "[CV]  C=22.76927941060928, gamma=0.22169760231351215, kernel=rbf, total=  10.2s\n",
      "[CV] C=22.76927941060928, gamma=0.22169760231351215, kernel=rbf ......\n",
      "[CV]  C=22.76927941060928, gamma=0.22169760231351215, kernel=rbf, total=  10.0s\n",
      "[CV] C=22.76927941060928, gamma=0.22169760231351215, kernel=rbf ......\n",
      "[CV]  C=22.76927941060928, gamma=0.22169760231351215, kernel=rbf, total=  10.3s\n",
      "[CV] C=16483.850529752886, gamma=1.4752145260435134, kernel=linear ...\n",
      "[CV]  C=16483.850529752886, gamma=1.4752145260435134, kernel=linear, total=  10.7s\n",
      "[CV] C=16483.850529752886, gamma=1.4752145260435134, kernel=linear ...\n",
      "[CV]  C=16483.850529752886, gamma=1.4752145260435134, kernel=linear, total=  11.7s\n",
      "[CV] C=16483.850529752886, gamma=1.4752145260435134, kernel=linear ...\n",
      "[CV]  C=16483.850529752886, gamma=1.4752145260435134, kernel=linear, total=  12.1s\n",
      "[CV] C=16483.850529752886, gamma=1.4752145260435134, kernel=linear ...\n",
      "[CV]  C=16483.850529752886, gamma=1.4752145260435134, kernel=linear, total=  12.6s\n",
      "[CV] C=16483.850529752886, gamma=1.4752145260435134, kernel=linear ...\n",
      "[CV]  C=16483.850529752886, gamma=1.4752145260435134, kernel=linear, total=  10.4s\n",
      "[CV] C=101445.66881340064, gamma=1.052904084582266, kernel=rbf .......\n",
      "[CV]  C=101445.66881340064, gamma=1.052904084582266, kernel=rbf, total=  50.9s\n",
      "[CV] C=101445.66881340064, gamma=1.052904084582266, kernel=rbf .......\n",
      "[CV]  C=101445.66881340064, gamma=1.052904084582266, kernel=rbf, total=  47.5s\n",
      "[CV] C=101445.66881340064, gamma=1.052904084582266, kernel=rbf .......\n",
      "[CV]  C=101445.66881340064, gamma=1.052904084582266, kernel=rbf, total= 1.0min\n",
      "[CV] C=101445.66881340064, gamma=1.052904084582266, kernel=rbf .......\n",
      "[CV]  C=101445.66881340064, gamma=1.052904084582266, kernel=rbf, total=  51.0s\n",
      "[CV] C=101445.66881340064, gamma=1.052904084582266, kernel=rbf .......\n",
      "[CV]  C=101445.66881340064, gamma=1.052904084582266, kernel=rbf, total=  40.5s\n",
      "[CV] C=56681.80859029545, gamma=0.9763011917123741, kernel=rbf .......\n",
      "[CV]  C=56681.80859029545, gamma=0.9763011917123741, kernel=rbf, total=  15.3s\n",
      "[CV] C=56681.80859029545, gamma=0.9763011917123741, kernel=rbf .......\n",
      "[CV]  C=56681.80859029545, gamma=0.9763011917123741, kernel=rbf, total=  16.2s\n",
      "[CV] C=56681.80859029545, gamma=0.9763011917123741, kernel=rbf .......\n",
      "[CV]  C=56681.80859029545, gamma=0.9763011917123741, kernel=rbf, total=  15.4s\n",
      "[CV] C=56681.80859029545, gamma=0.9763011917123741, kernel=rbf .......\n"
     ]
    },
    {
     "name": "stdout",
     "output_type": "stream",
     "text": [
      "[CV]  C=56681.80859029545, gamma=0.9763011917123741, kernel=rbf, total=  17.8s\n",
      "[CV] C=56681.80859029545, gamma=0.9763011917123741, kernel=rbf .......\n",
      "[CV]  C=56681.80859029545, gamma=0.9763011917123741, kernel=rbf, total=  16.5s\n",
      "[CV] C=48.15822390928914, gamma=0.4633351167983427, kernel=rbf .......\n",
      "[CV]  C=48.15822390928914, gamma=0.4633351167983427, kernel=rbf, total=   7.6s\n",
      "[CV] C=48.15822390928914, gamma=0.4633351167983427, kernel=rbf .......\n",
      "[CV]  C=48.15822390928914, gamma=0.4633351167983427, kernel=rbf, total=   7.8s\n",
      "[CV] C=48.15822390928914, gamma=0.4633351167983427, kernel=rbf .......\n",
      "[CV]  C=48.15822390928914, gamma=0.4633351167983427, kernel=rbf, total=   7.6s\n",
      "[CV] C=48.15822390928914, gamma=0.4633351167983427, kernel=rbf .......\n",
      "[CV]  C=48.15822390928914, gamma=0.4633351167983427, kernel=rbf, total=   7.6s\n",
      "[CV] C=48.15822390928914, gamma=0.4633351167983427, kernel=rbf .......\n",
      "[CV]  C=48.15822390928914, gamma=0.4633351167983427, kernel=rbf, total=   7.8s\n",
      "[CV] C=399.7268155705774, gamma=1.3078757839577408, kernel=rbf .......\n",
      "[CV]  C=399.7268155705774, gamma=1.3078757839577408, kernel=rbf, total=   7.7s\n",
      "[CV] C=399.7268155705774, gamma=1.3078757839577408, kernel=rbf .......\n",
      "[CV]  C=399.7268155705774, gamma=1.3078757839577408, kernel=rbf, total=   7.5s\n",
      "[CV] C=399.7268155705774, gamma=1.3078757839577408, kernel=rbf .......\n",
      "[CV]  C=399.7268155705774, gamma=1.3078757839577408, kernel=rbf, total=   7.5s\n",
      "[CV] C=399.7268155705774, gamma=1.3078757839577408, kernel=rbf .......\n",
      "[CV]  C=399.7268155705774, gamma=1.3078757839577408, kernel=rbf, total=   7.5s\n",
      "[CV] C=399.7268155705774, gamma=1.3078757839577408, kernel=rbf .......\n",
      "[CV]  C=399.7268155705774, gamma=1.3078757839577408, kernel=rbf, total=   7.9s\n",
      "[CV] C=251.14073886281363, gamma=0.8238105204914145, kernel=linear ...\n",
      "[CV]  C=251.14073886281363, gamma=0.8238105204914145, kernel=linear, total=   5.9s\n",
      "[CV] C=251.14073886281363, gamma=0.8238105204914145, kernel=linear ...\n",
      "[CV]  C=251.14073886281363, gamma=0.8238105204914145, kernel=linear, total=   5.1s\n",
      "[CV] C=251.14073886281363, gamma=0.8238105204914145, kernel=linear ...\n",
      "[CV]  C=251.14073886281363, gamma=0.8238105204914145, kernel=linear, total=   5.1s\n",
      "[CV] C=251.14073886281363, gamma=0.8238105204914145, kernel=linear ...\n",
      "[CV]  C=251.14073886281363, gamma=0.8238105204914145, kernel=linear, total=   5.3s\n",
      "[CV] C=251.14073886281363, gamma=0.8238105204914145, kernel=linear ...\n",
      "[CV]  C=251.14073886281363, gamma=0.8238105204914145, kernel=linear, total=   5.4s\n",
      "[CV] C=60.17373642891687, gamma=1.2491263443165994, kernel=linear ....\n",
      "[CV]  C=60.17373642891687, gamma=1.2491263443165994, kernel=linear, total=   5.0s\n",
      "[CV] C=60.17373642891687, gamma=1.2491263443165994, kernel=linear ....\n",
      "[CV]  C=60.17373642891687, gamma=1.2491263443165994, kernel=linear, total=   5.1s\n",
      "[CV] C=60.17373642891687, gamma=1.2491263443165994, kernel=linear ....\n",
      "[CV]  C=60.17373642891687, gamma=1.2491263443165994, kernel=linear, total=   5.1s\n",
      "[CV] C=60.17373642891687, gamma=1.2491263443165994, kernel=linear ....\n",
      "[CV]  C=60.17373642891687, gamma=1.2491263443165994, kernel=linear, total=   5.0s\n",
      "[CV] C=60.17373642891687, gamma=1.2491263443165994, kernel=linear ....\n",
      "[CV]  C=60.17373642891687, gamma=1.2491263443165994, kernel=linear, total=   4.9s\n",
      "[CV] C=15415.161544891856, gamma=0.2691677514619319, kernel=rbf ......\n",
      "[CV]  C=15415.161544891856, gamma=0.2691677514619319, kernel=rbf, total=   7.9s\n",
      "[CV] C=15415.161544891856, gamma=0.2691677514619319, kernel=rbf ......\n",
      "[CV]  C=15415.161544891856, gamma=0.2691677514619319, kernel=rbf, total=   7.8s\n",
      "[CV] C=15415.161544891856, gamma=0.2691677514619319, kernel=rbf ......\n",
      "[CV]  C=15415.161544891856, gamma=0.2691677514619319, kernel=rbf, total=   7.8s\n",
      "[CV] C=15415.161544891856, gamma=0.2691677514619319, kernel=rbf ......\n",
      "[CV]  C=15415.161544891856, gamma=0.2691677514619319, kernel=rbf, total=   7.9s\n",
      "[CV] C=15415.161544891856, gamma=0.2691677514619319, kernel=rbf ......\n",
      "[CV]  C=15415.161544891856, gamma=0.2691677514619319, kernel=rbf, total=   8.0s\n",
      "[CV] C=1888.9148509967113, gamma=0.739678838777267, kernel=linear ....\n",
      "[CV]  C=1888.9148509967113, gamma=0.739678838777267, kernel=linear, total=   5.5s\n",
      "[CV] C=1888.9148509967113, gamma=0.739678838777267, kernel=linear ....\n",
      "[CV]  C=1888.9148509967113, gamma=0.739678838777267, kernel=linear, total=   5.5s\n",
      "[CV] C=1888.9148509967113, gamma=0.739678838777267, kernel=linear ....\n",
      "[CV]  C=1888.9148509967113, gamma=0.739678838777267, kernel=linear, total=   5.5s\n",
      "[CV] C=1888.9148509967113, gamma=0.739678838777267, kernel=linear ....\n",
      "[CV]  C=1888.9148509967113, gamma=0.739678838777267, kernel=linear, total=   5.6s\n",
      "[CV] C=1888.9148509967113, gamma=0.739678838777267, kernel=linear ....\n",
      "[CV]  C=1888.9148509967113, gamma=0.739678838777267, kernel=linear, total=   5.5s\n",
      "[CV] C=55.53838911232773, gamma=0.578634378499143, kernel=linear .....\n",
      "[CV]  C=55.53838911232773, gamma=0.578634378499143, kernel=linear, total=   5.1s\n",
      "[CV] C=55.53838911232773, gamma=0.578634378499143, kernel=linear .....\n",
      "[CV]  C=55.53838911232773, gamma=0.578634378499143, kernel=linear, total=   5.1s\n",
      "[CV] C=55.53838911232773, gamma=0.578634378499143, kernel=linear .....\n",
      "[CV]  C=55.53838911232773, gamma=0.578634378499143, kernel=linear, total=   5.1s\n",
      "[CV] C=55.53838911232773, gamma=0.578634378499143, kernel=linear .....\n",
      "[CV]  C=55.53838911232773, gamma=0.578634378499143, kernel=linear, total=   5.1s\n",
      "[CV] C=55.53838911232773, gamma=0.578634378499143, kernel=linear .....\n",
      "[CV]  C=55.53838911232773, gamma=0.578634378499143, kernel=linear, total=   5.1s\n",
      "[CV] C=26.714480823948186, gamma=1.0117295509275495, kernel=rbf ......\n",
      "[CV]  C=26.714480823948186, gamma=1.0117295509275495, kernel=rbf, total=   7.7s\n",
      "[CV] C=26.714480823948186, gamma=1.0117295509275495, kernel=rbf ......\n",
      "[CV]  C=26.714480823948186, gamma=1.0117295509275495, kernel=rbf, total=   7.5s\n",
      "[CV] C=26.714480823948186, gamma=1.0117295509275495, kernel=rbf ......\n",
      "[CV]  C=26.714480823948186, gamma=1.0117295509275495, kernel=rbf, total=   7.6s\n",
      "[CV] C=26.714480823948186, gamma=1.0117295509275495, kernel=rbf ......\n",
      "[CV]  C=26.714480823948186, gamma=1.0117295509275495, kernel=rbf, total=   7.6s\n",
      "[CV] C=26.714480823948186, gamma=1.0117295509275495, kernel=rbf ......\n",
      "[CV]  C=26.714480823948186, gamma=1.0117295509275495, kernel=rbf, total=   7.5s\n",
      "[CV] C=3582.0552780489566, gamma=1.1891370222133257, kernel=linear ...\n",
      "[CV]  C=3582.0552780489566, gamma=1.1891370222133257, kernel=linear, total=   6.2s\n",
      "[CV] C=3582.0552780489566, gamma=1.1891370222133257, kernel=linear ...\n",
      "[CV]  C=3582.0552780489566, gamma=1.1891370222133257, kernel=linear, total=   6.0s\n",
      "[CV] C=3582.0552780489566, gamma=1.1891370222133257, kernel=linear ...\n",
      "[CV]  C=3582.0552780489566, gamma=1.1891370222133257, kernel=linear, total=   6.2s\n",
      "[CV] C=3582.0552780489566, gamma=1.1891370222133257, kernel=linear ...\n",
      "[CV]  C=3582.0552780489566, gamma=1.1891370222133257, kernel=linear, total=   6.1s\n",
      "[CV] C=3582.0552780489566, gamma=1.1891370222133257, kernel=linear ...\n",
      "[CV]  C=3582.0552780489566, gamma=1.1891370222133257, kernel=linear, total=   7.0s\n",
      "[CV] C=198.7004781812736, gamma=0.5282819748826726, kernel=linear ....\n",
      "[CV]  C=198.7004781812736, gamma=0.5282819748826726, kernel=linear, total=   6.9s\n",
      "[CV] C=198.7004781812736, gamma=0.5282819748826726, kernel=linear ....\n",
      "[CV]  C=198.7004781812736, gamma=0.5282819748826726, kernel=linear, total=   6.2s\n",
      "[CV] C=198.7004781812736, gamma=0.5282819748826726, kernel=linear ....\n",
      "[CV]  C=198.7004781812736, gamma=0.5282819748826726, kernel=linear, total=   6.7s\n",
      "[CV] C=198.7004781812736, gamma=0.5282819748826726, kernel=linear ....\n",
      "[CV]  C=198.7004781812736, gamma=0.5282819748826726, kernel=linear, total=   6.7s\n",
      "[CV] C=198.7004781812736, gamma=0.5282819748826726, kernel=linear ....\n",
      "[CV]  C=198.7004781812736, gamma=0.5282819748826726, kernel=linear, total=   6.1s\n",
      "[CV] C=129.8000604143307, gamma=2.8621383676481322, kernel=linear ....\n",
      "[CV]  C=129.8000604143307, gamma=2.8621383676481322, kernel=linear, total=   6.4s\n",
      "[CV] C=129.8000604143307, gamma=2.8621383676481322, kernel=linear ....\n",
      "[CV]  C=129.8000604143307, gamma=2.8621383676481322, kernel=linear, total=   7.8s\n",
      "[CV] C=129.8000604143307, gamma=2.8621383676481322, kernel=linear ....\n"
     ]
    },
    {
     "name": "stdout",
     "output_type": "stream",
     "text": [
      "[CV]  C=129.8000604143307, gamma=2.8621383676481322, kernel=linear, total=   6.6s\n",
      "[CV] C=129.8000604143307, gamma=2.8621383676481322, kernel=linear ....\n",
      "[CV]  C=129.8000604143307, gamma=2.8621383676481322, kernel=linear, total=   6.3s\n",
      "[CV] C=129.8000604143307, gamma=2.8621383676481322, kernel=linear ....\n",
      "[CV]  C=129.8000604143307, gamma=2.8621383676481322, kernel=linear, total=   6.1s\n",
      "[CV] C=288.4269299593897, gamma=0.17580835850006285, kernel=rbf ......\n",
      "[CV]  C=288.4269299593897, gamma=0.17580835850006285, kernel=rbf, total=   9.5s\n",
      "[CV] C=288.4269299593897, gamma=0.17580835850006285, kernel=rbf ......\n",
      "[CV]  C=288.4269299593897, gamma=0.17580835850006285, kernel=rbf, total=   9.9s\n",
      "[CV] C=288.4269299593897, gamma=0.17580835850006285, kernel=rbf ......\n",
      "[CV]  C=288.4269299593897, gamma=0.17580835850006285, kernel=rbf, total=   9.5s\n",
      "[CV] C=288.4269299593897, gamma=0.17580835850006285, kernel=rbf ......\n",
      "[CV]  C=288.4269299593897, gamma=0.17580835850006285, kernel=rbf, total=   9.6s\n",
      "[CV] C=288.4269299593897, gamma=0.17580835850006285, kernel=rbf ......\n",
      "[CV]  C=288.4269299593897, gamma=0.17580835850006285, kernel=rbf, total=   9.3s\n",
      "[CV] C=6287.039489427172, gamma=0.3504567255332862, kernel=linear ....\n",
      "[CV]  C=6287.039489427172, gamma=0.3504567255332862, kernel=linear, total=   8.3s\n",
      "[CV] C=6287.039489427172, gamma=0.3504567255332862, kernel=linear ....\n",
      "[CV]  C=6287.039489427172, gamma=0.3504567255332862, kernel=linear, total=   8.4s\n",
      "[CV] C=6287.039489427172, gamma=0.3504567255332862, kernel=linear ....\n",
      "[CV]  C=6287.039489427172, gamma=0.3504567255332862, kernel=linear, total=   8.6s\n",
      "[CV] C=6287.039489427172, gamma=0.3504567255332862, kernel=linear ....\n",
      "[CV]  C=6287.039489427172, gamma=0.3504567255332862, kernel=linear, total=   7.6s\n",
      "[CV] C=6287.039489427172, gamma=0.3504567255332862, kernel=linear ....\n",
      "[CV]  C=6287.039489427172, gamma=0.3504567255332862, kernel=linear, total=   6.3s\n",
      "[CV] C=61217.04421344494, gamma=1.6279689407405564, kernel=rbf .......\n",
      "[CV]  C=61217.04421344494, gamma=1.6279689407405564, kernel=rbf, total=  33.0s\n",
      "[CV] C=61217.04421344494, gamma=1.6279689407405564, kernel=rbf .......\n",
      "[CV]  C=61217.04421344494, gamma=1.6279689407405564, kernel=rbf, total=  39.5s\n",
      "[CV] C=61217.04421344494, gamma=1.6279689407405564, kernel=rbf .......\n",
      "[CV]  C=61217.04421344494, gamma=1.6279689407405564, kernel=rbf, total=  35.5s\n",
      "[CV] C=61217.04421344494, gamma=1.6279689407405564, kernel=rbf .......\n",
      "[CV]  C=61217.04421344494, gamma=1.6279689407405564, kernel=rbf, total=  36.4s\n",
      "[CV] C=61217.04421344494, gamma=1.6279689407405564, kernel=rbf .......\n",
      "[CV]  C=61217.04421344494, gamma=1.6279689407405564, kernel=rbf, total=  38.5s\n",
      "[CV] C=926.9787684096649, gamma=2.147979593060577, kernel=rbf ........\n",
      "[CV]  C=926.9787684096649, gamma=2.147979593060577, kernel=rbf, total=  10.2s\n",
      "[CV] C=926.9787684096649, gamma=2.147979593060577, kernel=rbf ........\n",
      "[CV]  C=926.9787684096649, gamma=2.147979593060577, kernel=rbf, total=  10.6s\n",
      "[CV] C=926.9787684096649, gamma=2.147979593060577, kernel=rbf ........\n",
      "[CV]  C=926.9787684096649, gamma=2.147979593060577, kernel=rbf, total=  10.4s\n",
      "[CV] C=926.9787684096649, gamma=2.147979593060577, kernel=rbf ........\n",
      "[CV]  C=926.9787684096649, gamma=2.147979593060577, kernel=rbf, total=   8.5s\n",
      "[CV] C=926.9787684096649, gamma=2.147979593060577, kernel=rbf ........\n",
      "[CV]  C=926.9787684096649, gamma=2.147979593060577, kernel=rbf, total=   9.1s\n",
      "[CV] C=33946.157064934, gamma=2.2642426492862313, kernel=linear ......\n",
      "[CV]  C=33946.157064934, gamma=2.2642426492862313, kernel=linear, total=  15.3s\n",
      "[CV] C=33946.157064934, gamma=2.2642426492862313, kernel=linear ......\n",
      "[CV]  C=33946.157064934, gamma=2.2642426492862313, kernel=linear, total=  16.2s\n",
      "[CV] C=33946.157064934, gamma=2.2642426492862313, kernel=linear ......\n",
      "[CV]  C=33946.157064934, gamma=2.2642426492862313, kernel=linear, total=  14.9s\n",
      "[CV] C=33946.157064934, gamma=2.2642426492862313, kernel=linear ......\n",
      "[CV]  C=33946.157064934, gamma=2.2642426492862313, kernel=linear, total=  15.0s\n",
      "[CV] C=33946.157064934, gamma=2.2642426492862313, kernel=linear ......\n",
      "[CV]  C=33946.157064934, gamma=2.2642426492862313, kernel=linear, total=  16.5s\n",
      "[CV] C=84789.82947739525, gamma=0.3176359085304841, kernel=linear ....\n",
      "[CV]  C=84789.82947739525, gamma=0.3176359085304841, kernel=linear, total=  41.7s\n",
      "[CV] C=84789.82947739525, gamma=0.3176359085304841, kernel=linear ....\n",
      "[CV]  C=84789.82947739525, gamma=0.3176359085304841, kernel=linear, total=  27.2s\n",
      "[CV] C=84789.82947739525, gamma=0.3176359085304841, kernel=linear ....\n",
      "[CV]  C=84789.82947739525, gamma=0.3176359085304841, kernel=linear, total=  41.9s\n",
      "[CV] C=84789.82947739525, gamma=0.3176359085304841, kernel=linear ....\n",
      "[CV]  C=84789.82947739525, gamma=0.3176359085304841, kernel=linear, total=  30.8s\n",
      "[CV] C=84789.82947739525, gamma=0.3176359085304841, kernel=linear ....\n",
      "[CV]  C=84789.82947739525, gamma=0.3176359085304841, kernel=linear, total=  23.0s\n"
     ]
    },
    {
     "name": "stderr",
     "output_type": "stream",
     "text": [
      "[Parallel(n_jobs=1)]: Done 250 out of 250 | elapsed: 59.9min finished\n"
     ]
    },
    {
     "data": {
      "text/plain": [
       "RandomizedSearchCV(cv=5, estimator=SVR(), n_iter=50,\n",
       "                   param_distributions={'C': <scipy.stats._distn_infrastructure.rv_frozen object at 0x0000020616E6E760>,\n",
       "                                        'gamma': <scipy.stats._distn_infrastructure.rv_frozen object at 0x0000020616E6EB20>,\n",
       "                                        'kernel': ['linear', 'rbf']},\n",
       "                   random_state=42, scoring='neg_mean_squared_error',\n",
       "                   verbose=2)"
      ]
     },
     "execution_count": 78,
     "metadata": {},
     "output_type": "execute_result"
    }
   ],
   "source": [
    "from sklearn.model_selection import RandomizedSearchCV\n",
    "from scipy.stats import expon, reciprocal\n",
    "\n",
    "# see https://docs.scipy.org/doc/scipy/reference/stats.html\n",
    "# for `expon()` and `reciprocal()` documentation and more probability distribution functions.\n",
    "\n",
    "# Note: gamma is ignored when kernel is \"linear\"\n",
    "param_distribs = {\n",
    "        'kernel': ['linear', 'rbf'],\n",
    "        'C': reciprocal(20, 200000),\n",
    "        'gamma': expon(scale=1.0),\n",
    "    }\n",
    "\n",
    "svm_reg = SVR()\n",
    "rnd_search = RandomizedSearchCV(svm_reg, param_distributions=param_distribs,\n",
    "                                n_iter=50, cv=5, scoring='neg_mean_squared_error',\n",
    "                                verbose=2, random_state=42)\n",
    "rnd_search.fit(housing_prepared, housing_labels)"
   ]
  },
  {
   "cell_type": "code",
   "execution_count": 79,
   "metadata": {},
   "outputs": [
    {
     "data": {
      "text/plain": [
       "54767.960710084146"
      ]
     },
     "execution_count": 79,
     "metadata": {},
     "output_type": "execute_result"
    }
   ],
   "source": [
    "negative_mse = rnd_search.best_score_\n",
    "rmse = np.sqrt(-negative_mse)\n",
    "rmse"
   ]
  },
  {
   "cell_type": "code",
   "execution_count": 80,
   "metadata": {},
   "outputs": [
    {
     "data": {
      "text/plain": [
       "{'C': 157055.10989448498, 'gamma': 0.26497040005002437, 'kernel': 'rbf'}"
      ]
     },
     "execution_count": 80,
     "metadata": {},
     "output_type": "execute_result"
    }
   ],
   "source": [
    "rnd_search.best_params_"
   ]
  },
  {
   "cell_type": "code",
   "execution_count": 81,
   "metadata": {},
   "outputs": [
    {
     "data": {
      "image/png": "[encoded data removed]",
      "text/plain": [
       "<Figure size 720x288 with 2 Axes>"
      ]
     },
     "metadata": {
      "needs_background": "light"
     },
     "output_type": "display_data"
    }
   ],
   "source": [
    "expon_distrib = expon(scale=1.)\n",
    "samples = expon_distrib.rvs(10000, random_state=42)\n",
    "plt.figure(figsize=(10, 4))\n",
    "plt.subplot(121)\n",
    "plt.title(\"Exponential distribution (scale=1.0)\")\n",
    "plt.hist(samples, bins=50)\n",
    "plt.subplot(122)\n",
    "plt.title(\"Log of this distribution\")\n",
    "plt.hist(np.log(samples), bins=50)\n",
    "plt.show()"
   ]
  },
  {
   "cell_type": "code",
   "execution_count": 82,
   "metadata": {},
   "outputs": [
    {
     "data": {
      "image/png": "[encoded data removed]",
      "text/plain": [
       "<Figure size 720x288 with 2 Axes>"
      ]
     },
     "metadata": {
      "needs_background": "light"
     },
     "output_type": "display_data"
    }
   ],
   "source": [
    "reciprocal_distrib = reciprocal(20, 200000)\n",
    "samples = reciprocal_distrib.rvs(10000, random_state=42)\n",
    "plt.figure(figsize=(10, 4))\n",
    "plt.subplot(121)\n",
    "plt.title(\"Reciprocal distribution (scale=1.0)\")\n",
    "plt.hist(samples, bins=50)\n",
    "plt.subplot(122)\n",
    "plt.title(\"Log of this distribution\")\n",
    "plt.hist(np.log(samples), bins=50)\n",
    "plt.show()"
   ]
  },
  {
   "cell_type": "markdown",
   "metadata": {},
   "source": [
    "## 3"
   ]
  },
  {
   "cell_type": "code",
   "execution_count": 83,
   "metadata": {},
   "outputs": [],
   "source": [
    "from sklearn.base import BaseEstimator, TransformerMixin\n",
    "\n",
    "def indices_of_top_k(arr, k):\n",
    "    return np.sort(np.argpartition(np.array(arr), -k)[-k:])\n",
    "\n",
    "class TopFeatureSelector(BaseEstimator, TransformerMixin):\n",
    "    def __init__(self, feature_importances, k):\n",
    "        self.feature_importances = feature_importances\n",
    "        self.k = k\n",
    "    def fit(self, X, y=None):\n",
    "        self.feature_indices_ = indices_of_top_k(self.feature_importances, self.k)\n",
    "        return self\n",
    "    def transform(self, X):\n",
    "        return X[:, self.feature_indices_]"
   ]
  },
  {
   "cell_type": "code",
   "execution_count": 84,
   "metadata": {},
   "outputs": [],
   "source": [
    "\n",
    "k = 5"
   ]
  },
  {
   "cell_type": "code",
   "execution_count": 85,
   "metadata": {},
   "outputs": [
    {
     "data": {
      "text/plain": [
       "array([ 0,  1,  7,  9, 12], dtype=int64)"
      ]
     },
     "execution_count": 85,
     "metadata": {},
     "output_type": "execute_result"
    }
   ],
   "source": [
    "top_k_feature_indices = indices_of_top_k(feature_importances, k)\n",
    "top_k_feature_indices"
   ]
  },
  {
   "cell_type": "code",
   "execution_count": 86,
   "metadata": {},
   "outputs": [
    {
     "data": {
      "text/plain": [
       "array(['longitude', 'latitude', 'median_income', 'pop_per_hhold',\n",
       "       'INLAND'], dtype='<U18')"
      ]
     },
     "execution_count": 86,
     "metadata": {},
     "output_type": "execute_result"
    }
   ],
   "source": [
    "\n",
    "np.array(attributes)[top_k_feature_indices]"
   ]
  },
  {
   "cell_type": "code",
   "execution_count": 87,
   "metadata": {},
   "outputs": [
    {
     "data": {
      "text/plain": [
       "[(0.36615898061813423, 'median_income'),\n",
       " (0.16478099356159054, 'INLAND'),\n",
       " (0.10879295677551575, 'pop_per_hhold'),\n",
       " (0.07334423551601243, 'longitude'),\n",
       " (0.06290907048262032, 'latitude')]"
      ]
     },
     "execution_count": 87,
     "metadata": {},
     "output_type": "execute_result"
    }
   ],
   "source": [
    "sorted(zip(feature_importances, attributes), reverse=True)[:k]"
   ]
  },
  {
   "cell_type": "code",
   "execution_count": 88,
   "metadata": {},
   "outputs": [],
   "source": [
    "preparation_and_feature_selection_pipeline = Pipeline([\n",
    "    ('preparation', full_pipeline),\n",
    "    ('feature_selection', TopFeatureSelector(feature_importances, k))\n",
    "])"
   ]
  },
  {
   "cell_type": "code",
   "execution_count": 89,
   "metadata": {},
   "outputs": [],
   "source": [
    "\n",
    "housing_prepared_top_k_features = preparation_and_feature_selection_pipeline.fit_transform(housing)"
   ]
  },
  {
   "cell_type": "code",
   "execution_count": 90,
   "metadata": {},
   "outputs": [
    {
     "data": {
      "text/plain": [
       "array([[-1.15604281,  0.77194962, -0.61493744, -0.08649871,  0.        ],\n",
       "       [-1.17602483,  0.6596948 ,  1.33645936, -0.03353391,  0.        ],\n",
       "       [ 1.18684903, -1.34218285, -0.5320456 , -0.09240499,  0.        ]])"
      ]
     },
     "execution_count": 90,
     "metadata": {},
     "output_type": "execute_result"
    }
   ],
   "source": [
    "\n",
    "housing_prepared_top_k_features[0:3]"
   ]
  },
  {
   "cell_type": "code",
   "execution_count": 91,
   "metadata": {},
   "outputs": [
    {
     "data": {
      "text/plain": [
       "array([[-1.15604281,  0.77194962, -0.61493744, -0.08649871,  0.        ],\n",
       "       [-1.17602483,  0.6596948 ,  1.33645936, -0.03353391,  0.        ],\n",
       "       [ 1.18684903, -1.34218285, -0.5320456 , -0.09240499,  0.        ]])"
      ]
     },
     "execution_count": 91,
     "metadata": {},
     "output_type": "execute_result"
    }
   ],
   "source": [
    "housing_prepared[0:3, top_k_feature_indices]"
   ]
  },
  {
   "cell_type": "markdown",
   "metadata": {},
   "source": [
    "## 4"
   ]
  },
  {
   "cell_type": "code",
   "execution_count": 92,
   "metadata": {},
   "outputs": [],
   "source": [
    "prepare_select_and_predict_pipeline = Pipeline([\n",
    "    ('preparation', full_pipeline),\n",
    "    ('feature_selection', TopFeatureSelector(feature_importances, k)),\n",
    "    ('svm_reg', SVR(**rnd_search.best_params_))\n",
    "])"
   ]
  },
  {
   "cell_type": "code",
   "execution_count": 93,
   "metadata": {},
   "outputs": [
    {
     "data": {
      "text/plain": [
       "Pipeline(steps=[('preparation',\n",
       "                 ColumnTransformer(transformers=[('num',\n",
       "                                                  Pipeline(steps=[('imputer',\n",
       "                                                                   SimpleImputer(strategy='median')),\n",
       "                                                                  ('attribs_adder',\n",
       "                                                                   CombinedAttributesAdder()),\n",
       "                                                                  ('std_scaler',\n",
       "                                                                   StandardScaler())]),\n",
       "                                                  ['longitude', 'latitude',\n",
       "                                                   'housing_median_age',\n",
       "                                                   'total_rooms',\n",
       "                                                   'total_bedrooms',\n",
       "                                                   'population', 'households',\n",
       "                                                   'median_income']),\n",
       "                                                 ('cat', OneHotEncoder(...\n",
       "                 TopFeatureSelector(feature_importances=array([7.33442355e-02, 6.29090705e-02, 4.11437985e-02, 1.46726854e-02,\n",
       "       1.41064835e-02, 1.48742809e-02, 1.42575993e-02, 3.66158981e-01,\n",
       "       5.64191792e-02, 1.08792957e-01, 5.33510773e-02, 1.03114883e-02,\n",
       "       1.64780994e-01, 6.02803867e-05, 1.96041560e-03, 2.85647464e-03]),\n",
       "                                    k=5)),\n",
       "                ('svm_reg',\n",
       "                 SVR(C=157055.10989448498, gamma=0.26497040005002437))])"
      ]
     },
     "execution_count": 93,
     "metadata": {},
     "output_type": "execute_result"
    }
   ],
   "source": [
    "prepare_select_and_predict_pipeline.fit(housing, housing_labels)"
   ]
  },
  {
   "cell_type": "code",
   "execution_count": 94,
   "metadata": {},
   "outputs": [
    {
     "name": "stdout",
     "output_type": "stream",
     "text": [
      "Predictions:\t [203214.28978849 371846.88152572 173295.65441612  47328.3970888 ]\n",
      "Labels:\t\t [286600.0, 340600.0, 196900.0, 46300.0]\n"
     ]
    }
   ],
   "source": [
    "\n",
    "some_data = housing.iloc[:4]\n",
    "some_labels = housing_labels.iloc[:4]\n",
    "\n",
    "print(\"Predictions:\\t\", prepare_select_and_predict_pipeline.predict(some_data))\n",
    "print(\"Labels:\\t\\t\", list(some_labels))"
   ]
  },
  {
   "cell_type": "markdown",
   "metadata": {},
   "source": [
    "## 5"
   ]
  },
  {
   "cell_type": "code",
   "execution_count": 95,
   "metadata": {
    "scrolled": true
   },
   "outputs": [
    {
     "name": "stdout",
     "output_type": "stream",
     "text": [
      "Fitting 5 folds for each of 48 candidates, totalling 240 fits\n",
      "[CV] feature_selection__k=1, preparation__num__imputer__strategy=mean \n"
     ]
    },
    {
     "name": "stderr",
     "output_type": "stream",
     "text": [
      "[Parallel(n_jobs=1)]: Using backend SequentialBackend with 1 concurrent workers.\n"
     ]
    },
    {
     "name": "stdout",
     "output_type": "stream",
     "text": [
      "[CV]  feature_selection__k=1, preparation__num__imputer__strategy=mean, total=   6.6s\n",
      "[CV] feature_selection__k=1, preparation__num__imputer__strategy=mean \n"
     ]
    },
    {
     "name": "stderr",
     "output_type": "stream",
     "text": [
      "[Parallel(n_jobs=1)]: Done   1 out of   1 | elapsed:    6.5s remaining:    0.0s\n"
     ]
    },
    {
     "name": "stdout",
     "output_type": "stream",
     "text": [
      "[CV]  feature_selection__k=1, preparation__num__imputer__strategy=mean, total=   6.8s\n",
      "[CV] feature_selection__k=1, preparation__num__imputer__strategy=mean \n",
      "[CV]  feature_selection__k=1, preparation__num__imputer__strategy=mean, total=   6.0s\n",
      "[CV] feature_selection__k=1, preparation__num__imputer__strategy=mean \n",
      "[CV]  feature_selection__k=1, preparation__num__imputer__strategy=mean, total=   6.7s\n",
      "[CV] feature_selection__k=1, preparation__num__imputer__strategy=mean \n",
      "[CV]  feature_selection__k=1, preparation__num__imputer__strategy=mean, total=   8.1s\n",
      "[CV] feature_selection__k=1, preparation__num__imputer__strategy=median \n",
      "[CV]  feature_selection__k=1, preparation__num__imputer__strategy=median, total=   7.8s\n",
      "[CV] feature_selection__k=1, preparation__num__imputer__strategy=median \n",
      "[CV]  feature_selection__k=1, preparation__num__imputer__strategy=median, total=   7.3s\n",
      "[CV] feature_selection__k=1, preparation__num__imputer__strategy=median \n",
      "[CV]  feature_selection__k=1, preparation__num__imputer__strategy=median, total=   6.3s\n",
      "[CV] feature_selection__k=1, preparation__num__imputer__strategy=median \n",
      "[CV]  feature_selection__k=1, preparation__num__imputer__strategy=median, total=   6.4s\n",
      "[CV] feature_selection__k=1, preparation__num__imputer__strategy=median \n",
      "[CV]  feature_selection__k=1, preparation__num__imputer__strategy=median, total=   7.0s\n",
      "[CV] feature_selection__k=1, preparation__num__imputer__strategy=most_frequent \n",
      "[CV]  feature_selection__k=1, preparation__num__imputer__strategy=most_frequent, total=   5.8s\n",
      "[CV] feature_selection__k=1, preparation__num__imputer__strategy=most_frequent \n",
      "[CV]  feature_selection__k=1, preparation__num__imputer__strategy=most_frequent, total=   6.3s\n",
      "[CV] feature_selection__k=1, preparation__num__imputer__strategy=most_frequent \n",
      "[CV]  feature_selection__k=1, preparation__num__imputer__strategy=most_frequent, total=   7.3s\n",
      "[CV] feature_selection__k=1, preparation__num__imputer__strategy=most_frequent \n",
      "[CV]  feature_selection__k=1, preparation__num__imputer__strategy=most_frequent, total=   7.1s\n",
      "[CV] feature_selection__k=1, preparation__num__imputer__strategy=most_frequent \n",
      "[CV]  feature_selection__k=1, preparation__num__imputer__strategy=most_frequent, total=   7.0s\n",
      "[CV] feature_selection__k=2, preparation__num__imputer__strategy=mean \n",
      "[CV]  feature_selection__k=2, preparation__num__imputer__strategy=mean, total=   7.3s\n",
      "[CV] feature_selection__k=2, preparation__num__imputer__strategy=mean \n",
      "[CV]  feature_selection__k=2, preparation__num__imputer__strategy=mean, total=   7.4s\n",
      "[CV] feature_selection__k=2, preparation__num__imputer__strategy=mean \n",
      "[CV]  feature_selection__k=2, preparation__num__imputer__strategy=mean, total=   6.5s\n",
      "[CV] feature_selection__k=2, preparation__num__imputer__strategy=mean \n",
      "[CV]  feature_selection__k=2, preparation__num__imputer__strategy=mean, total=   7.0s\n",
      "[CV] feature_selection__k=2, preparation__num__imputer__strategy=mean \n",
      "[CV]  feature_selection__k=2, preparation__num__imputer__strategy=mean, total=   6.9s\n",
      "[CV] feature_selection__k=2, preparation__num__imputer__strategy=median \n",
      "[CV]  feature_selection__k=2, preparation__num__imputer__strategy=median, total=   6.4s\n",
      "[CV] feature_selection__k=2, preparation__num__imputer__strategy=median \n",
      "[CV]  feature_selection__k=2, preparation__num__imputer__strategy=median, total=   7.4s\n",
      "[CV] feature_selection__k=2, preparation__num__imputer__strategy=median \n",
      "[CV]  feature_selection__k=2, preparation__num__imputer__strategy=median, total=   7.4s\n",
      "[CV] feature_selection__k=2, preparation__num__imputer__strategy=median \n",
      "[CV]  feature_selection__k=2, preparation__num__imputer__strategy=median, total=   7.4s\n",
      "[CV] feature_selection__k=2, preparation__num__imputer__strategy=median \n",
      "[CV]  feature_selection__k=2, preparation__num__imputer__strategy=median, total=   7.8s\n",
      "[CV] feature_selection__k=2, preparation__num__imputer__strategy=most_frequent \n",
      "[CV]  feature_selection__k=2, preparation__num__imputer__strategy=most_frequent, total=   6.8s\n",
      "[CV] feature_selection__k=2, preparation__num__imputer__strategy=most_frequent \n",
      "[CV]  feature_selection__k=2, preparation__num__imputer__strategy=most_frequent, total=   7.2s\n",
      "[CV] feature_selection__k=2, preparation__num__imputer__strategy=most_frequent \n",
      "[CV]  feature_selection__k=2, preparation__num__imputer__strategy=most_frequent, total=   6.5s\n",
      "[CV] feature_selection__k=2, preparation__num__imputer__strategy=most_frequent \n",
      "[CV]  feature_selection__k=2, preparation__num__imputer__strategy=most_frequent, total=   6.4s\n",
      "[CV] feature_selection__k=2, preparation__num__imputer__strategy=most_frequent \n",
      "[CV]  feature_selection__k=2, preparation__num__imputer__strategy=most_frequent, total=   6.7s\n",
      "[CV] feature_selection__k=3, preparation__num__imputer__strategy=mean \n",
      "[CV]  feature_selection__k=3, preparation__num__imputer__strategy=mean, total=   6.1s\n",
      "[CV] feature_selection__k=3, preparation__num__imputer__strategy=mean \n",
      "[CV]  feature_selection__k=3, preparation__num__imputer__strategy=mean, total=   6.1s\n",
      "[CV] feature_selection__k=3, preparation__num__imputer__strategy=mean \n",
      "[CV]  feature_selection__k=3, preparation__num__imputer__strategy=mean, total=   6.0s\n",
      "[CV] feature_selection__k=3, preparation__num__imputer__strategy=mean \n",
      "[CV]  feature_selection__k=3, preparation__num__imputer__strategy=mean, total=   6.1s\n",
      "[CV] feature_selection__k=3, preparation__num__imputer__strategy=mean \n",
      "[CV]  feature_selection__k=3, preparation__num__imputer__strategy=mean, total=   6.6s\n",
      "[CV] feature_selection__k=3, preparation__num__imputer__strategy=median \n",
      "[CV]  feature_selection__k=3, preparation__num__imputer__strategy=median, total=   7.0s\n",
      "[CV] feature_selection__k=3, preparation__num__imputer__strategy=median \n",
      "[CV]  feature_selection__k=3, preparation__num__imputer__strategy=median, total=   6.2s\n",
      "[CV] feature_selection__k=3, preparation__num__imputer__strategy=median \n",
      "[CV]  feature_selection__k=3, preparation__num__imputer__strategy=median, total=   6.2s\n",
      "[CV] feature_selection__k=3, preparation__num__imputer__strategy=median \n",
      "[CV]  feature_selection__k=3, preparation__num__imputer__strategy=median, total=   7.0s\n",
      "[CV] feature_selection__k=3, preparation__num__imputer__strategy=median \n",
      "[CV]  feature_selection__k=3, preparation__num__imputer__strategy=median, total=   6.8s\n",
      "[CV] feature_selection__k=3, preparation__num__imputer__strategy=most_frequent \n",
      "[CV]  feature_selection__k=3, preparation__num__imputer__strategy=most_frequent, total=   6.8s\n",
      "[CV] feature_selection__k=3, preparation__num__imputer__strategy=most_frequent \n",
      "[CV]  feature_selection__k=3, preparation__num__imputer__strategy=most_frequent, total=   7.4s\n",
      "[CV] feature_selection__k=3, preparation__num__imputer__strategy=most_frequent \n",
      "[CV]  feature_selection__k=3, preparation__num__imputer__strategy=most_frequent, total=   6.5s\n",
      "[CV] feature_selection__k=3, preparation__num__imputer__strategy=most_frequent \n",
      "[CV]  feature_selection__k=3, preparation__num__imputer__strategy=most_frequent, total=   7.4s\n",
      "[CV] feature_selection__k=3, preparation__num__imputer__strategy=most_frequent \n",
      "[CV]  feature_selection__k=3, preparation__num__imputer__strategy=most_frequent, total=   7.3s\n",
      "[CV] feature_selection__k=4, preparation__num__imputer__strategy=mean \n",
      "[CV]  feature_selection__k=4, preparation__num__imputer__strategy=mean, total=   6.8s\n",
      "[CV] feature_selection__k=4, preparation__num__imputer__strategy=mean \n",
      "[CV]  feature_selection__k=4, preparation__num__imputer__strategy=mean, total=   6.6s\n",
      "[CV] feature_selection__k=4, preparation__num__imputer__strategy=mean \n",
      "[CV]  feature_selection__k=4, preparation__num__imputer__strategy=mean, total=   9.4s\n",
      "[CV] feature_selection__k=4, preparation__num__imputer__strategy=mean \n",
      "[CV]  feature_selection__k=4, preparation__num__imputer__strategy=mean, total=   8.1s\n",
      "[CV] feature_selection__k=4, preparation__num__imputer__strategy=mean \n",
      "[CV]  feature_selection__k=4, preparation__num__imputer__strategy=mean, total=   7.2s\n",
      "[CV] feature_selection__k=4, preparation__num__imputer__strategy=median \n",
      "[CV]  feature_selection__k=4, preparation__num__imputer__strategy=median, total=   7.9s\n",
      "[CV] feature_selection__k=4, preparation__num__imputer__strategy=median \n",
      "[CV]  feature_selection__k=4, preparation__num__imputer__strategy=median, total=   8.5s\n",
      "[CV] feature_selection__k=4, preparation__num__imputer__strategy=median \n"
     ]
    },
    {
     "name": "stdout",
     "output_type": "stream",
     "text": [
      "[CV]  feature_selection__k=4, preparation__num__imputer__strategy=median, total=   8.5s\n",
      "[CV] feature_selection__k=4, preparation__num__imputer__strategy=median \n",
      "[CV]  feature_selection__k=4, preparation__num__imputer__strategy=median, total=   7.7s\n",
      "[CV] feature_selection__k=4, preparation__num__imputer__strategy=median \n",
      "[CV]  feature_selection__k=4, preparation__num__imputer__strategy=median, total=   7.5s\n",
      "[CV] feature_selection__k=4, preparation__num__imputer__strategy=most_frequent \n",
      "[CV]  feature_selection__k=4, preparation__num__imputer__strategy=most_frequent, total=   8.2s\n",
      "[CV] feature_selection__k=4, preparation__num__imputer__strategy=most_frequent \n",
      "[CV]  feature_selection__k=4, preparation__num__imputer__strategy=most_frequent, total=   7.3s\n",
      "[CV] feature_selection__k=4, preparation__num__imputer__strategy=most_frequent \n",
      "[CV]  feature_selection__k=4, preparation__num__imputer__strategy=most_frequent, total=   7.8s\n",
      "[CV] feature_selection__k=4, preparation__num__imputer__strategy=most_frequent \n",
      "[CV]  feature_selection__k=4, preparation__num__imputer__strategy=most_frequent, total=   8.1s\n",
      "[CV] feature_selection__k=4, preparation__num__imputer__strategy=most_frequent \n",
      "[CV]  feature_selection__k=4, preparation__num__imputer__strategy=most_frequent, total=   7.5s\n",
      "[CV] feature_selection__k=5, preparation__num__imputer__strategy=mean \n",
      "[CV]  feature_selection__k=5, preparation__num__imputer__strategy=mean, total=   8.1s\n",
      "[CV] feature_selection__k=5, preparation__num__imputer__strategy=mean \n",
      "[CV]  feature_selection__k=5, preparation__num__imputer__strategy=mean, total=   8.5s\n",
      "[CV] feature_selection__k=5, preparation__num__imputer__strategy=mean \n",
      "[CV]  feature_selection__k=5, preparation__num__imputer__strategy=mean, total=  10.2s\n",
      "[CV] feature_selection__k=5, preparation__num__imputer__strategy=mean \n",
      "[CV]  feature_selection__k=5, preparation__num__imputer__strategy=mean, total=   9.2s\n",
      "[CV] feature_selection__k=5, preparation__num__imputer__strategy=mean \n",
      "[CV]  feature_selection__k=5, preparation__num__imputer__strategy=mean, total=   7.8s\n",
      "[CV] feature_selection__k=5, preparation__num__imputer__strategy=median \n",
      "[CV]  feature_selection__k=5, preparation__num__imputer__strategy=median, total=   8.3s\n",
      "[CV] feature_selection__k=5, preparation__num__imputer__strategy=median \n",
      "[CV]  feature_selection__k=5, preparation__num__imputer__strategy=median, total=   8.5s\n",
      "[CV] feature_selection__k=5, preparation__num__imputer__strategy=median \n",
      "[CV]  feature_selection__k=5, preparation__num__imputer__strategy=median, total=  10.4s\n",
      "[CV] feature_selection__k=5, preparation__num__imputer__strategy=median \n",
      "[CV]  feature_selection__k=5, preparation__num__imputer__strategy=median, total=   7.6s\n",
      "[CV] feature_selection__k=5, preparation__num__imputer__strategy=median \n",
      "[CV]  feature_selection__k=5, preparation__num__imputer__strategy=median, total=   8.3s\n",
      "[CV] feature_selection__k=5, preparation__num__imputer__strategy=most_frequent \n",
      "[CV]  feature_selection__k=5, preparation__num__imputer__strategy=most_frequent, total=   9.6s\n",
      "[CV] feature_selection__k=5, preparation__num__imputer__strategy=most_frequent \n",
      "[CV]  feature_selection__k=5, preparation__num__imputer__strategy=most_frequent, total=   9.3s\n",
      "[CV] feature_selection__k=5, preparation__num__imputer__strategy=most_frequent \n",
      "[CV]  feature_selection__k=5, preparation__num__imputer__strategy=most_frequent, total=   7.8s\n",
      "[CV] feature_selection__k=5, preparation__num__imputer__strategy=most_frequent \n",
      "[CV]  feature_selection__k=5, preparation__num__imputer__strategy=most_frequent, total=   8.5s\n",
      "[CV] feature_selection__k=5, preparation__num__imputer__strategy=most_frequent \n",
      "[CV]  feature_selection__k=5, preparation__num__imputer__strategy=most_frequent, total=   8.8s\n",
      "[CV] feature_selection__k=6, preparation__num__imputer__strategy=mean \n",
      "[CV]  feature_selection__k=6, preparation__num__imputer__strategy=mean, total=   8.6s\n",
      "[CV] feature_selection__k=6, preparation__num__imputer__strategy=mean \n",
      "[CV]  feature_selection__k=6, preparation__num__imputer__strategy=mean, total=   7.4s\n",
      "[CV] feature_selection__k=6, preparation__num__imputer__strategy=mean \n",
      "[CV]  feature_selection__k=6, preparation__num__imputer__strategy=mean, total=   8.7s\n",
      "[CV] feature_selection__k=6, preparation__num__imputer__strategy=mean \n",
      "[CV]  feature_selection__k=6, preparation__num__imputer__strategy=mean, total=   8.2s\n",
      "[CV] feature_selection__k=6, preparation__num__imputer__strategy=mean \n",
      "[CV]  feature_selection__k=6, preparation__num__imputer__strategy=mean, total=   8.6s\n",
      "[CV] feature_selection__k=6, preparation__num__imputer__strategy=median \n",
      "[CV]  feature_selection__k=6, preparation__num__imputer__strategy=median, total=  10.1s\n",
      "[CV] feature_selection__k=6, preparation__num__imputer__strategy=median \n",
      "[CV]  feature_selection__k=6, preparation__num__imputer__strategy=median, total=  10.3s\n",
      "[CV] feature_selection__k=6, preparation__num__imputer__strategy=median \n",
      "[CV]  feature_selection__k=6, preparation__num__imputer__strategy=median, total=  10.6s\n",
      "[CV] feature_selection__k=6, preparation__num__imputer__strategy=median \n",
      "[CV]  feature_selection__k=6, preparation__num__imputer__strategy=median, total=  10.1s\n",
      "[CV] feature_selection__k=6, preparation__num__imputer__strategy=median \n",
      "[CV]  feature_selection__k=6, preparation__num__imputer__strategy=median, total=  10.4s\n",
      "[CV] feature_selection__k=6, preparation__num__imputer__strategy=most_frequent \n",
      "[CV]  feature_selection__k=6, preparation__num__imputer__strategy=most_frequent, total=  10.9s\n",
      "[CV] feature_selection__k=6, preparation__num__imputer__strategy=most_frequent \n",
      "[CV]  feature_selection__k=6, preparation__num__imputer__strategy=most_frequent, total=  10.2s\n",
      "[CV] feature_selection__k=6, preparation__num__imputer__strategy=most_frequent \n",
      "[CV]  feature_selection__k=6, preparation__num__imputer__strategy=most_frequent, total=  11.6s\n",
      "[CV] feature_selection__k=6, preparation__num__imputer__strategy=most_frequent \n",
      "[CV]  feature_selection__k=6, preparation__num__imputer__strategy=most_frequent, total=  11.2s\n",
      "[CV] feature_selection__k=6, preparation__num__imputer__strategy=most_frequent \n",
      "[CV]  feature_selection__k=6, preparation__num__imputer__strategy=most_frequent, total=  11.2s\n",
      "[CV] feature_selection__k=7, preparation__num__imputer__strategy=mean \n",
      "[CV]  feature_selection__k=7, preparation__num__imputer__strategy=mean, total=  12.1s\n",
      "[CV] feature_selection__k=7, preparation__num__imputer__strategy=mean \n",
      "[CV]  feature_selection__k=7, preparation__num__imputer__strategy=mean, total=   9.5s\n",
      "[CV] feature_selection__k=7, preparation__num__imputer__strategy=mean \n",
      "[CV]  feature_selection__k=7, preparation__num__imputer__strategy=mean, total=   9.0s\n",
      "[CV] feature_selection__k=7, preparation__num__imputer__strategy=mean \n",
      "[CV]  feature_selection__k=7, preparation__num__imputer__strategy=mean, total=   9.5s\n",
      "[CV] feature_selection__k=7, preparation__num__imputer__strategy=mean \n",
      "[CV]  feature_selection__k=7, preparation__num__imputer__strategy=mean, total=  11.3s\n",
      "[CV] feature_selection__k=7, preparation__num__imputer__strategy=median \n",
      "[CV]  feature_selection__k=7, preparation__num__imputer__strategy=median, total=  11.5s\n",
      "[CV] feature_selection__k=7, preparation__num__imputer__strategy=median \n",
      "[CV]  feature_selection__k=7, preparation__num__imputer__strategy=median, total=   9.4s\n",
      "[CV] feature_selection__k=7, preparation__num__imputer__strategy=median \n",
      "[CV]  feature_selection__k=7, preparation__num__imputer__strategy=median, total=  10.2s\n",
      "[CV] feature_selection__k=7, preparation__num__imputer__strategy=median \n",
      "[CV]  feature_selection__k=7, preparation__num__imputer__strategy=median, total=   9.1s\n",
      "[CV] feature_selection__k=7, preparation__num__imputer__strategy=median \n",
      "[CV]  feature_selection__k=7, preparation__num__imputer__strategy=median, total=   9.5s\n",
      "[CV] feature_selection__k=7, preparation__num__imputer__strategy=most_frequent \n",
      "[CV]  feature_selection__k=7, preparation__num__imputer__strategy=most_frequent, total=  10.2s\n",
      "[CV] feature_selection__k=7, preparation__num__imputer__strategy=most_frequent \n",
      "[CV]  feature_selection__k=7, preparation__num__imputer__strategy=most_frequent, total=   9.6s\n",
      "[CV] feature_selection__k=7, preparation__num__imputer__strategy=most_frequent \n"
     ]
    },
    {
     "name": "stdout",
     "output_type": "stream",
     "text": [
      "[CV]  feature_selection__k=7, preparation__num__imputer__strategy=most_frequent, total=  10.2s\n",
      "[CV] feature_selection__k=7, preparation__num__imputer__strategy=most_frequent \n",
      "[CV]  feature_selection__k=7, preparation__num__imputer__strategy=most_frequent, total=   9.4s\n",
      "[CV] feature_selection__k=7, preparation__num__imputer__strategy=most_frequent \n",
      "[CV]  feature_selection__k=7, preparation__num__imputer__strategy=most_frequent, total=   9.7s\n",
      "[CV] feature_selection__k=8, preparation__num__imputer__strategy=mean \n",
      "[CV]  feature_selection__k=8, preparation__num__imputer__strategy=mean, total=  11.7s\n",
      "[CV] feature_selection__k=8, preparation__num__imputer__strategy=mean \n",
      "[CV]  feature_selection__k=8, preparation__num__imputer__strategy=mean, total=  11.5s\n",
      "[CV] feature_selection__k=8, preparation__num__imputer__strategy=mean \n",
      "[CV]  feature_selection__k=8, preparation__num__imputer__strategy=mean, total=  12.8s\n",
      "[CV] feature_selection__k=8, preparation__num__imputer__strategy=mean \n",
      "[CV]  feature_selection__k=8, preparation__num__imputer__strategy=mean, total=  13.0s\n",
      "[CV] feature_selection__k=8, preparation__num__imputer__strategy=mean \n",
      "[CV]  feature_selection__k=8, preparation__num__imputer__strategy=mean, total=  12.9s\n",
      "[CV] feature_selection__k=8, preparation__num__imputer__strategy=median \n",
      "[CV]  feature_selection__k=8, preparation__num__imputer__strategy=median, total=  12.0s\n",
      "[CV] feature_selection__k=8, preparation__num__imputer__strategy=median \n",
      "[CV]  feature_selection__k=8, preparation__num__imputer__strategy=median, total=  11.9s\n",
      "[CV] feature_selection__k=8, preparation__num__imputer__strategy=median \n",
      "[CV]  feature_selection__k=8, preparation__num__imputer__strategy=median, total=  12.4s\n",
      "[CV] feature_selection__k=8, preparation__num__imputer__strategy=median \n",
      "[CV]  feature_selection__k=8, preparation__num__imputer__strategy=median, total=  12.4s\n",
      "[CV] feature_selection__k=8, preparation__num__imputer__strategy=median \n",
      "[CV]  feature_selection__k=8, preparation__num__imputer__strategy=median, total=  13.1s\n",
      "[CV] feature_selection__k=8, preparation__num__imputer__strategy=most_frequent \n",
      "[CV]  feature_selection__k=8, preparation__num__imputer__strategy=most_frequent, total=  12.3s\n",
      "[CV] feature_selection__k=8, preparation__num__imputer__strategy=most_frequent \n",
      "[CV]  feature_selection__k=8, preparation__num__imputer__strategy=most_frequent, total=  12.0s\n",
      "[CV] feature_selection__k=8, preparation__num__imputer__strategy=most_frequent \n",
      "[CV]  feature_selection__k=8, preparation__num__imputer__strategy=most_frequent, total=  12.4s\n",
      "[CV] feature_selection__k=8, preparation__num__imputer__strategy=most_frequent \n",
      "[CV]  feature_selection__k=8, preparation__num__imputer__strategy=most_frequent, total=  13.3s\n",
      "[CV] feature_selection__k=8, preparation__num__imputer__strategy=most_frequent \n",
      "[CV]  feature_selection__k=8, preparation__num__imputer__strategy=most_frequent, total=  14.0s\n",
      "[CV] feature_selection__k=9, preparation__num__imputer__strategy=mean \n",
      "[CV]  feature_selection__k=9, preparation__num__imputer__strategy=mean, total=  17.6s\n",
      "[CV] feature_selection__k=9, preparation__num__imputer__strategy=mean \n",
      "[CV]  feature_selection__k=9, preparation__num__imputer__strategy=mean, total=  16.2s\n",
      "[CV] feature_selection__k=9, preparation__num__imputer__strategy=mean \n",
      "[CV]  feature_selection__k=9, preparation__num__imputer__strategy=mean, total=  16.9s\n",
      "[CV] feature_selection__k=9, preparation__num__imputer__strategy=mean \n",
      "[CV]  feature_selection__k=9, preparation__num__imputer__strategy=mean, total=  18.6s\n",
      "[CV] feature_selection__k=9, preparation__num__imputer__strategy=mean \n",
      "[CV]  feature_selection__k=9, preparation__num__imputer__strategy=mean, total=  19.4s\n",
      "[CV] feature_selection__k=9, preparation__num__imputer__strategy=median \n",
      "[CV]  feature_selection__k=9, preparation__num__imputer__strategy=median, total=  19.3s\n",
      "[CV] feature_selection__k=9, preparation__num__imputer__strategy=median \n",
      "[CV]  feature_selection__k=9, preparation__num__imputer__strategy=median, total=  16.7s\n",
      "[CV] feature_selection__k=9, preparation__num__imputer__strategy=median \n",
      "[CV]  feature_selection__k=9, preparation__num__imputer__strategy=median, total=  18.8s\n",
      "[CV] feature_selection__k=9, preparation__num__imputer__strategy=median \n",
      "[CV]  feature_selection__k=9, preparation__num__imputer__strategy=median, total=  17.8s\n",
      "[CV] feature_selection__k=9, preparation__num__imputer__strategy=median \n",
      "[CV]  feature_selection__k=9, preparation__num__imputer__strategy=median, total=  17.3s\n",
      "[CV] feature_selection__k=9, preparation__num__imputer__strategy=most_frequent \n",
      "[CV]  feature_selection__k=9, preparation__num__imputer__strategy=most_frequent, total=  18.7s\n",
      "[CV] feature_selection__k=9, preparation__num__imputer__strategy=most_frequent \n",
      "[CV]  feature_selection__k=9, preparation__num__imputer__strategy=most_frequent, total=  18.7s\n",
      "[CV] feature_selection__k=9, preparation__num__imputer__strategy=most_frequent \n",
      "[CV]  feature_selection__k=9, preparation__num__imputer__strategy=most_frequent, total=  16.7s\n",
      "[CV] feature_selection__k=9, preparation__num__imputer__strategy=most_frequent \n",
      "[CV]  feature_selection__k=9, preparation__num__imputer__strategy=most_frequent, total=  16.4s\n",
      "[CV] feature_selection__k=9, preparation__num__imputer__strategy=most_frequent \n",
      "[CV]  feature_selection__k=9, preparation__num__imputer__strategy=most_frequent, total=  16.7s\n",
      "[CV] feature_selection__k=10, preparation__num__imputer__strategy=mean \n",
      "[CV]  feature_selection__k=10, preparation__num__imputer__strategy=mean, total=  18.8s\n",
      "[CV] feature_selection__k=10, preparation__num__imputer__strategy=mean \n",
      "[CV]  feature_selection__k=10, preparation__num__imputer__strategy=mean, total=  21.8s\n",
      "[CV] feature_selection__k=10, preparation__num__imputer__strategy=mean \n",
      "[CV]  feature_selection__k=10, preparation__num__imputer__strategy=mean, total=  17.4s\n",
      "[CV] feature_selection__k=10, preparation__num__imputer__strategy=mean \n",
      "[CV]  feature_selection__k=10, preparation__num__imputer__strategy=mean, total=  19.7s\n",
      "[CV] feature_selection__k=10, preparation__num__imputer__strategy=mean \n",
      "[CV]  feature_selection__k=10, preparation__num__imputer__strategy=mean, total=  20.0s\n",
      "[CV] feature_selection__k=10, preparation__num__imputer__strategy=median \n",
      "[CV]  feature_selection__k=10, preparation__num__imputer__strategy=median, total=  18.6s\n",
      "[CV] feature_selection__k=10, preparation__num__imputer__strategy=median \n",
      "[CV]  feature_selection__k=10, preparation__num__imputer__strategy=median, total=  22.0s\n",
      "[CV] feature_selection__k=10, preparation__num__imputer__strategy=median \n",
      "[CV]  feature_selection__k=10, preparation__num__imputer__strategy=median, total=  17.1s\n",
      "[CV] feature_selection__k=10, preparation__num__imputer__strategy=median \n",
      "[CV]  feature_selection__k=10, preparation__num__imputer__strategy=median, total=  17.7s\n",
      "[CV] feature_selection__k=10, preparation__num__imputer__strategy=median \n",
      "[CV]  feature_selection__k=10, preparation__num__imputer__strategy=median, total=  20.2s\n",
      "[CV] feature_selection__k=10, preparation__num__imputer__strategy=most_frequent \n",
      "[CV]  feature_selection__k=10, preparation__num__imputer__strategy=most_frequent, total=  17.6s\n",
      "[CV] feature_selection__k=10, preparation__num__imputer__strategy=most_frequent \n",
      "[CV]  feature_selection__k=10, preparation__num__imputer__strategy=most_frequent, total=  26.7s\n",
      "[CV] feature_selection__k=10, preparation__num__imputer__strategy=most_frequent \n",
      "[CV]  feature_selection__k=10, preparation__num__imputer__strategy=most_frequent, total=  18.1s\n",
      "[CV] feature_selection__k=10, preparation__num__imputer__strategy=most_frequent \n",
      "[CV]  feature_selection__k=10, preparation__num__imputer__strategy=most_frequent, total=  19.4s\n",
      "[CV] feature_selection__k=10, preparation__num__imputer__strategy=most_frequent \n",
      "[CV]  feature_selection__k=10, preparation__num__imputer__strategy=most_frequent, total=  19.6s\n",
      "[CV] feature_selection__k=11, preparation__num__imputer__strategy=mean \n",
      "[CV]  feature_selection__k=11, preparation__num__imputer__strategy=mean, total=  19.8s\n",
      "[CV] feature_selection__k=11, preparation__num__imputer__strategy=mean \n",
      "[CV]  feature_selection__k=11, preparation__num__imputer__strategy=mean, total=  21.6s\n",
      "[CV] feature_selection__k=11, preparation__num__imputer__strategy=mean \n"
     ]
    },
    {
     "name": "stdout",
     "output_type": "stream",
     "text": [
      "[CV]  feature_selection__k=11, preparation__num__imputer__strategy=mean, total=  19.4s\n",
      "[CV] feature_selection__k=11, preparation__num__imputer__strategy=mean \n",
      "[CV]  feature_selection__k=11, preparation__num__imputer__strategy=mean, total=  24.6s\n",
      "[CV] feature_selection__k=11, preparation__num__imputer__strategy=mean \n",
      "[CV]  feature_selection__k=11, preparation__num__imputer__strategy=mean, total=  23.8s\n",
      "[CV] feature_selection__k=11, preparation__num__imputer__strategy=median \n",
      "[CV]  feature_selection__k=11, preparation__num__imputer__strategy=median, total=  23.1s\n",
      "[CV] feature_selection__k=11, preparation__num__imputer__strategy=median \n",
      "[CV]  feature_selection__k=11, preparation__num__imputer__strategy=median, total=  23.0s\n",
      "[CV] feature_selection__k=11, preparation__num__imputer__strategy=median \n",
      "[CV]  feature_selection__k=11, preparation__num__imputer__strategy=median, total=  20.8s\n",
      "[CV] feature_selection__k=11, preparation__num__imputer__strategy=median \n",
      "[CV]  feature_selection__k=11, preparation__num__imputer__strategy=median, total=  25.1s\n",
      "[CV] feature_selection__k=11, preparation__num__imputer__strategy=median \n",
      "[CV]  feature_selection__k=11, preparation__num__imputer__strategy=median, total=  22.2s\n",
      "[CV] feature_selection__k=11, preparation__num__imputer__strategy=most_frequent \n",
      "[CV]  feature_selection__k=11, preparation__num__imputer__strategy=most_frequent, total=  19.6s\n",
      "[CV] feature_selection__k=11, preparation__num__imputer__strategy=most_frequent \n",
      "[CV]  feature_selection__k=11, preparation__num__imputer__strategy=most_frequent, total=  21.0s\n",
      "[CV] feature_selection__k=11, preparation__num__imputer__strategy=most_frequent \n",
      "[CV]  feature_selection__k=11, preparation__num__imputer__strategy=most_frequent, total=  19.0s\n",
      "[CV] feature_selection__k=11, preparation__num__imputer__strategy=most_frequent \n",
      "[CV]  feature_selection__k=11, preparation__num__imputer__strategy=most_frequent, total=  22.8s\n",
      "[CV] feature_selection__k=11, preparation__num__imputer__strategy=most_frequent \n",
      "[CV]  feature_selection__k=11, preparation__num__imputer__strategy=most_frequent, total=  24.1s\n",
      "[CV] feature_selection__k=12, preparation__num__imputer__strategy=mean \n",
      "[CV]  feature_selection__k=12, preparation__num__imputer__strategy=mean, total=  20.8s\n",
      "[CV] feature_selection__k=12, preparation__num__imputer__strategy=mean \n",
      "[CV]  feature_selection__k=12, preparation__num__imputer__strategy=mean, total=  24.0s\n",
      "[CV] feature_selection__k=12, preparation__num__imputer__strategy=mean \n",
      "[CV]  feature_selection__k=12, preparation__num__imputer__strategy=mean, total=  27.3s\n",
      "[CV] feature_selection__k=12, preparation__num__imputer__strategy=mean \n",
      "[CV]  feature_selection__k=12, preparation__num__imputer__strategy=mean, total=  21.5s\n",
      "[CV] feature_selection__k=12, preparation__num__imputer__strategy=mean \n",
      "[CV]  feature_selection__k=12, preparation__num__imputer__strategy=mean, total=  20.3s\n",
      "[CV] feature_selection__k=12, preparation__num__imputer__strategy=median \n",
      "[CV]  feature_selection__k=12, preparation__num__imputer__strategy=median, total=  18.1s\n",
      "[CV] feature_selection__k=12, preparation__num__imputer__strategy=median \n",
      "[CV]  feature_selection__k=12, preparation__num__imputer__strategy=median, total=  20.7s\n",
      "[CV] feature_selection__k=12, preparation__num__imputer__strategy=median \n",
      "[CV]  feature_selection__k=12, preparation__num__imputer__strategy=median, total=  19.9s\n",
      "[CV] feature_selection__k=12, preparation__num__imputer__strategy=median \n",
      "[CV]  feature_selection__k=12, preparation__num__imputer__strategy=median, total=  21.5s\n",
      "[CV] feature_selection__k=12, preparation__num__imputer__strategy=median \n",
      "[CV]  feature_selection__k=12, preparation__num__imputer__strategy=median, total=  21.8s\n",
      "[CV] feature_selection__k=12, preparation__num__imputer__strategy=most_frequent \n",
      "[CV]  feature_selection__k=12, preparation__num__imputer__strategy=most_frequent, total=  20.9s\n",
      "[CV] feature_selection__k=12, preparation__num__imputer__strategy=most_frequent \n",
      "[CV]  feature_selection__k=12, preparation__num__imputer__strategy=most_frequent, total=  22.4s\n",
      "[CV] feature_selection__k=12, preparation__num__imputer__strategy=most_frequent \n",
      "[CV]  feature_selection__k=12, preparation__num__imputer__strategy=most_frequent, total=  21.0s\n",
      "[CV] feature_selection__k=12, preparation__num__imputer__strategy=most_frequent \n",
      "[CV]  feature_selection__k=12, preparation__num__imputer__strategy=most_frequent, total=  21.9s\n",
      "[CV] feature_selection__k=12, preparation__num__imputer__strategy=most_frequent \n",
      "[CV]  feature_selection__k=12, preparation__num__imputer__strategy=most_frequent, total=  21.7s\n",
      "[CV] feature_selection__k=13, preparation__num__imputer__strategy=mean \n",
      "[CV]  feature_selection__k=13, preparation__num__imputer__strategy=mean, total=  22.1s\n",
      "[CV] feature_selection__k=13, preparation__num__imputer__strategy=mean \n",
      "[CV]  feature_selection__k=13, preparation__num__imputer__strategy=mean, total=  25.4s\n",
      "[CV] feature_selection__k=13, preparation__num__imputer__strategy=mean \n",
      "[CV]  feature_selection__k=13, preparation__num__imputer__strategy=mean, total=  24.4s\n",
      "[CV] feature_selection__k=13, preparation__num__imputer__strategy=mean \n",
      "[CV]  feature_selection__k=13, preparation__num__imputer__strategy=mean, total=  27.4s\n",
      "[CV] feature_selection__k=13, preparation__num__imputer__strategy=mean \n",
      "[CV]  feature_selection__k=13, preparation__num__imputer__strategy=mean, total=  21.0s\n",
      "[CV] feature_selection__k=13, preparation__num__imputer__strategy=median \n",
      "[CV]  feature_selection__k=13, preparation__num__imputer__strategy=median, total=  22.1s\n",
      "[CV] feature_selection__k=13, preparation__num__imputer__strategy=median \n",
      "[CV]  feature_selection__k=13, preparation__num__imputer__strategy=median, total=  24.4s\n",
      "[CV] feature_selection__k=13, preparation__num__imputer__strategy=median \n",
      "[CV]  feature_selection__k=13, preparation__num__imputer__strategy=median, total=  22.9s\n",
      "[CV] feature_selection__k=13, preparation__num__imputer__strategy=median \n",
      "[CV]  feature_selection__k=13, preparation__num__imputer__strategy=median, total=  26.0s\n",
      "[CV] feature_selection__k=13, preparation__num__imputer__strategy=median \n",
      "[CV]  feature_selection__k=13, preparation__num__imputer__strategy=median, total=  20.7s\n",
      "[CV] feature_selection__k=13, preparation__num__imputer__strategy=most_frequent \n",
      "[CV]  feature_selection__k=13, preparation__num__imputer__strategy=most_frequent, total=  21.4s\n",
      "[CV] feature_selection__k=13, preparation__num__imputer__strategy=most_frequent \n",
      "[CV]  feature_selection__k=13, preparation__num__imputer__strategy=most_frequent, total=  22.9s\n",
      "[CV] feature_selection__k=13, preparation__num__imputer__strategy=most_frequent \n",
      "[CV]  feature_selection__k=13, preparation__num__imputer__strategy=most_frequent, total=  24.1s\n",
      "[CV] feature_selection__k=13, preparation__num__imputer__strategy=most_frequent \n",
      "[CV]  feature_selection__k=13, preparation__num__imputer__strategy=most_frequent, total=  26.2s\n",
      "[CV] feature_selection__k=13, preparation__num__imputer__strategy=most_frequent \n",
      "[CV]  feature_selection__k=13, preparation__num__imputer__strategy=most_frequent, total=  22.6s\n",
      "[CV] feature_selection__k=14, preparation__num__imputer__strategy=mean \n",
      "[CV]  feature_selection__k=14, preparation__num__imputer__strategy=mean, total=  22.9s\n",
      "[CV] feature_selection__k=14, preparation__num__imputer__strategy=mean \n",
      "[CV]  feature_selection__k=14, preparation__num__imputer__strategy=mean, total=  27.1s\n",
      "[CV] feature_selection__k=14, preparation__num__imputer__strategy=mean \n",
      "[CV]  feature_selection__k=14, preparation__num__imputer__strategy=mean, total=  28.9s\n",
      "[CV] feature_selection__k=14, preparation__num__imputer__strategy=mean \n",
      "[CV]  feature_selection__k=14, preparation__num__imputer__strategy=mean, total=  34.5s\n",
      "[CV] feature_selection__k=14, preparation__num__imputer__strategy=mean \n",
      "[CV]  feature_selection__k=14, preparation__num__imputer__strategy=mean, total=  35.1s\n",
      "[CV] feature_selection__k=14, preparation__num__imputer__strategy=median \n",
      "[CV]  feature_selection__k=14, preparation__num__imputer__strategy=median, total=  33.8s\n",
      "[CV] feature_selection__k=14, preparation__num__imputer__strategy=median \n",
      "[CV]  feature_selection__k=14, preparation__num__imputer__strategy=median, total=  36.1s\n",
      "[CV] feature_selection__k=14, preparation__num__imputer__strategy=median \n"
     ]
    },
    {
     "name": "stdout",
     "output_type": "stream",
     "text": [
      "[CV]  feature_selection__k=14, preparation__num__imputer__strategy=median, total=  33.3s\n",
      "[CV] feature_selection__k=14, preparation__num__imputer__strategy=median \n",
      "[CV]  feature_selection__k=14, preparation__num__imputer__strategy=median, total=  36.0s\n",
      "[CV] feature_selection__k=14, preparation__num__imputer__strategy=median \n",
      "[CV]  feature_selection__k=14, preparation__num__imputer__strategy=median, total=  37.0s\n",
      "[CV] feature_selection__k=14, preparation__num__imputer__strategy=most_frequent \n",
      "[CV]  feature_selection__k=14, preparation__num__imputer__strategy=most_frequent, total=  33.8s\n",
      "[CV] feature_selection__k=14, preparation__num__imputer__strategy=most_frequent \n",
      "[CV]  feature_selection__k=14, preparation__num__imputer__strategy=most_frequent, total=  34.6s\n",
      "[CV] feature_selection__k=14, preparation__num__imputer__strategy=most_frequent \n",
      "[CV]  feature_selection__k=14, preparation__num__imputer__strategy=most_frequent, total=  29.5s\n",
      "[CV] feature_selection__k=14, preparation__num__imputer__strategy=most_frequent \n",
      "[CV]  feature_selection__k=14, preparation__num__imputer__strategy=most_frequent, total=  31.7s\n",
      "[CV] feature_selection__k=14, preparation__num__imputer__strategy=most_frequent \n",
      "[CV]  feature_selection__k=14, preparation__num__imputer__strategy=most_frequent, total=  33.0s\n",
      "[CV] feature_selection__k=15, preparation__num__imputer__strategy=mean \n",
      "[CV]  feature_selection__k=15, preparation__num__imputer__strategy=mean, total=  30.8s\n",
      "[CV] feature_selection__k=15, preparation__num__imputer__strategy=mean \n",
      "[CV]  feature_selection__k=15, preparation__num__imputer__strategy=mean, total=  34.9s\n",
      "[CV] feature_selection__k=15, preparation__num__imputer__strategy=mean \n",
      "[CV]  feature_selection__k=15, preparation__num__imputer__strategy=mean, total=  33.8s\n",
      "[CV] feature_selection__k=15, preparation__num__imputer__strategy=mean \n",
      "[CV]  feature_selection__k=15, preparation__num__imputer__strategy=mean, total=  37.9s\n",
      "[CV] feature_selection__k=15, preparation__num__imputer__strategy=mean \n",
      "[CV]  feature_selection__k=15, preparation__num__imputer__strategy=mean, total=  33.9s\n",
      "[CV] feature_selection__k=15, preparation__num__imputer__strategy=median \n",
      "[CV]  feature_selection__k=15, preparation__num__imputer__strategy=median, total=  28.8s\n",
      "[CV] feature_selection__k=15, preparation__num__imputer__strategy=median \n",
      "[CV]  feature_selection__k=15, preparation__num__imputer__strategy=median, total=  35.4s\n",
      "[CV] feature_selection__k=15, preparation__num__imputer__strategy=median \n",
      "[CV]  feature_selection__k=15, preparation__num__imputer__strategy=median, total=  30.4s\n",
      "[CV] feature_selection__k=15, preparation__num__imputer__strategy=median \n",
      "[CV]  feature_selection__k=15, preparation__num__imputer__strategy=median, total=  38.3s\n",
      "[CV] feature_selection__k=15, preparation__num__imputer__strategy=median \n",
      "[CV]  feature_selection__k=15, preparation__num__imputer__strategy=median, total=  30.4s\n",
      "[CV] feature_selection__k=15, preparation__num__imputer__strategy=most_frequent \n",
      "[CV]  feature_selection__k=15, preparation__num__imputer__strategy=most_frequent, total=  30.6s\n",
      "[CV] feature_selection__k=15, preparation__num__imputer__strategy=most_frequent \n",
      "[CV]  feature_selection__k=15, preparation__num__imputer__strategy=most_frequent, total=  35.5s\n",
      "[CV] feature_selection__k=15, preparation__num__imputer__strategy=most_frequent \n",
      "[CV]  feature_selection__k=15, preparation__num__imputer__strategy=most_frequent, total=  30.7s\n",
      "[CV] feature_selection__k=15, preparation__num__imputer__strategy=most_frequent \n",
      "[CV]  feature_selection__k=15, preparation__num__imputer__strategy=most_frequent, total=  37.2s\n",
      "[CV] feature_selection__k=15, preparation__num__imputer__strategy=most_frequent \n",
      "[CV]  feature_selection__k=15, preparation__num__imputer__strategy=most_frequent, total=  31.4s\n",
      "[CV] feature_selection__k=16, preparation__num__imputer__strategy=mean \n",
      "[CV]  feature_selection__k=16, preparation__num__imputer__strategy=mean, total=  32.1s\n",
      "[CV] feature_selection__k=16, preparation__num__imputer__strategy=mean \n",
      "[CV]  feature_selection__k=16, preparation__num__imputer__strategy=mean, total=  30.7s\n",
      "[CV] feature_selection__k=16, preparation__num__imputer__strategy=mean \n",
      "[CV]  feature_selection__k=16, preparation__num__imputer__strategy=mean, total=  33.4s\n",
      "[CV] feature_selection__k=16, preparation__num__imputer__strategy=mean \n",
      "[CV]  feature_selection__k=16, preparation__num__imputer__strategy=mean, total=  28.5s\n",
      "[CV] feature_selection__k=16, preparation__num__imputer__strategy=mean \n",
      "[CV]  feature_selection__k=16, preparation__num__imputer__strategy=mean, total=  33.7s\n",
      "[CV] feature_selection__k=16, preparation__num__imputer__strategy=median \n",
      "[CV]  feature_selection__k=16, preparation__num__imputer__strategy=median, total=  29.3s\n",
      "[CV] feature_selection__k=16, preparation__num__imputer__strategy=median \n",
      "[CV]  feature_selection__k=16, preparation__num__imputer__strategy=median, total=  28.0s\n",
      "[CV] feature_selection__k=16, preparation__num__imputer__strategy=median \n",
      "[CV]  feature_selection__k=16, preparation__num__imputer__strategy=median, total=  32.2s\n",
      "[CV] feature_selection__k=16, preparation__num__imputer__strategy=median \n",
      "[CV]  feature_selection__k=16, preparation__num__imputer__strategy=median, total=  25.2s\n",
      "[CV] feature_selection__k=16, preparation__num__imputer__strategy=median \n",
      "[CV]  feature_selection__k=16, preparation__num__imputer__strategy=median, total=  39.5s\n",
      "[CV] feature_selection__k=16, preparation__num__imputer__strategy=most_frequent \n",
      "[CV]  feature_selection__k=16, preparation__num__imputer__strategy=most_frequent, total=  32.1s\n",
      "[CV] feature_selection__k=16, preparation__num__imputer__strategy=most_frequent \n",
      "[CV]  feature_selection__k=16, preparation__num__imputer__strategy=most_frequent, total=  29.8s\n",
      "[CV] feature_selection__k=16, preparation__num__imputer__strategy=most_frequent \n",
      "[CV]  feature_selection__k=16, preparation__num__imputer__strategy=most_frequent, total=  43.1s\n",
      "[CV] feature_selection__k=16, preparation__num__imputer__strategy=most_frequent \n",
      "[CV]  feature_selection__k=16, preparation__num__imputer__strategy=most_frequent, total=  30.4s\n",
      "[CV] feature_selection__k=16, preparation__num__imputer__strategy=most_frequent \n",
      "[CV]  feature_selection__k=16, preparation__num__imputer__strategy=most_frequent, total=  39.8s\n"
     ]
    },
    {
     "name": "stderr",
     "output_type": "stream",
     "text": [
      "[Parallel(n_jobs=1)]: Done 240 out of 240 | elapsed: 68.1min finished\n"
     ]
    },
    {
     "data": {
      "text/plain": [
       "GridSearchCV(cv=5,\n",
       "             estimator=Pipeline(steps=[('preparation',\n",
       "                                        ColumnTransformer(transformers=[('num',\n",
       "                                                                         Pipeline(steps=[('imputer',\n",
       "                                                                                          SimpleImputer(strategy='median')),\n",
       "                                                                                         ('attribs_adder',\n",
       "                                                                                          CombinedAttributesAdder()),\n",
       "                                                                                         ('std_scaler',\n",
       "                                                                                          StandardScaler())]),\n",
       "                                                                         ['longitude',\n",
       "                                                                          'latitude',\n",
       "                                                                          'housing_median_age',\n",
       "                                                                          'total_rooms',\n",
       "                                                                          'total_bedrooms',\n",
       "                                                                          'population',\n",
       "                                                                          'households',\n",
       "                                                                          'median_inc...\n",
       "       5.64191792e-02, 1.08792957e-01, 5.33510773e-02, 1.03114883e-02,\n",
       "       1.64780994e-01, 6.02803867e-05, 1.96041560e-03, 2.85647464e-03]),\n",
       "                                                           k=5)),\n",
       "                                       ('svm_reg',\n",
       "                                        SVR(C=157055.10989448498,\n",
       "                                            gamma=0.26497040005002437))]),\n",
       "             param_grid=[{'feature_selection__k': [1, 2, 3, 4, 5, 6, 7, 8, 9,\n",
       "                                                   10, 11, 12, 13, 14, 15, 16],\n",
       "                          'preparation__num__imputer__strategy': ['mean',\n",
       "                                                                  'median',\n",
       "                                                                  'most_frequent']}],\n",
       "             scoring='neg_mean_squared_error', verbose=2)"
      ]
     },
     "execution_count": 95,
     "metadata": {},
     "output_type": "execute_result"
    }
   ],
   "source": [
    "param_grid = [{\n",
    "    'preparation__num__imputer__strategy': ['mean', 'median', 'most_frequent'],\n",
    "    'feature_selection__k': list(range(1, len(feature_importances) + 1))\n",
    "}]\n",
    "\n",
    "grid_search_prep = GridSearchCV(prepare_select_and_predict_pipeline, param_grid, cv=5,\n",
    "                                scoring='neg_mean_squared_error', verbose=2)\n",
    "grid_search_prep.fit(housing, housing_labels)"
   ]
  },
  {
   "cell_type": "code",
   "execution_count": 96,
   "metadata": {},
   "outputs": [
    {
     "data": {
      "text/plain": [
       "{'feature_selection__k': 15, 'preparation__num__imputer__strategy': 'mean'}"
      ]
     },
     "execution_count": 96,
     "metadata": {},
     "output_type": "execute_result"
    }
   ],
   "source": [
    "grid_search_prep.best_params_"
   ]
  }
 ],
 "metadata": {
  "kernelspec": {
   "display_name": "Python 3",
   "language": "python",
   "name": "python3"
  },
  "language_info": {
   "codemirror_mode": {
    "name": "ipython",
    "version": 3
   },
   "file_extension": ".py",
   "mimetype": "text/x-python",
   "name": "python",
   "nbconvert_exporter": "python",
   "pygments_lexer": "ipython3",
   "version": "3.8.5"
  }
 },
 "nbformat": 4,
 "nbformat_minor": 4
}
